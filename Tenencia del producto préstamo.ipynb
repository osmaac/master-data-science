{
 "cells": [
  {
   "cell_type": "markdown",
   "metadata": {},
   "source": [
    "# Tenencia del producto préstamo en el DataSet de Banco Checo  "
   ]
  },
  {
   "cell_type": "markdown",
   "metadata": {},
   "source": [
    "Vamos a intentar extraer del datset generado que variables son las más relevantes para que una cuenta (account) tenga un péstamo (loan) y ver si de esta forma podemos generar un customer journey para conseguir que un cliente contrate un préstamo"
   ]
  },
  {
   "cell_type": "code",
   "execution_count": 1,
   "metadata": {},
   "outputs": [
    {
     "name": "stdout",
     "output_type": "stream",
     "text": [
      "Populating the interactive namespace from numpy and matplotlib\n"
     ]
    }
   ],
   "source": [
    "import pandas as pd\n",
    "%pylab inline\n",
    "import numpy as np\n",
    "import matplotlib.pyplot as plt\n",
    "import seaborn as sns"
   ]
  },
  {
   "cell_type": "code",
   "execution_count": 2,
   "metadata": {},
   "outputs": [],
   "source": [
    "# Cargamos los datos que hemos procesado en R\n",
    "df_original= pd.read_csv(\"C://Master Data Science/Master en Data Science/TFM/Transacciones de Banco Checo/DFTenenciaProductos2.csv\")"
   ]
  },
  {
   "cell_type": "code",
   "execution_count": 3,
   "metadata": {},
   "outputs": [
    {
     "data": {
      "text/plain": [
       "(4500, 70)"
      ]
     },
     "execution_count": 3,
     "metadata": {},
     "output_type": "execute_result"
    }
   ],
   "source": [
    "#Comenzamos a revisar que el DF se haya importado correctamente\n",
    "df_original.shape"
   ]
  },
  {
   "cell_type": "code",
   "execution_count": 4,
   "metadata": {},
   "outputs": [
    {
     "data": {
      "text/html": [
       "<div>\n",
       "<style scoped>\n",
       "    .dataframe tbody tr th:only-of-type {\n",
       "        vertical-align: middle;\n",
       "    }\n",
       "\n",
       "    .dataframe tbody tr th {\n",
       "        vertical-align: top;\n",
       "    }\n",
       "\n",
       "    .dataframe thead th {\n",
       "        text-align: right;\n",
       "    }\n",
       "</style>\n",
       "<table border=\"1\" class=\"dataframe\">\n",
       "  <thead>\n",
       "    <tr style=\"text-align: right;\">\n",
       "      <th></th>\n",
       "      <th>Unnamed: 0</th>\n",
       "      <th>district_id</th>\n",
       "      <th>account_id</th>\n",
       "      <th>frequency</th>\n",
       "      <th>Date_Account</th>\n",
       "      <th>client_id_owner</th>\n",
       "      <th>client_id_disponent</th>\n",
       "      <th>sex_owner</th>\n",
       "      <th>birth_owner</th>\n",
       "      <th>sex_disponent</th>\n",
       "      <th>...</th>\n",
       "      <th>Num_Sym_Pension</th>\n",
       "      <th>Num_Sym_Insurance</th>\n",
       "      <th>Num_Sym_NegBal</th>\n",
       "      <th>Num_Sym_Household</th>\n",
       "      <th>Num_Sym_Statement</th>\n",
       "      <th>Num_Sym_IntDep</th>\n",
       "      <th>Num_Sym_LoanPayment</th>\n",
       "      <th>Balance_in_negative</th>\n",
       "      <th>account_disponent_bin</th>\n",
       "      <th>account_loan_bin</th>\n",
       "    </tr>\n",
       "  </thead>\n",
       "  <tbody>\n",
       "    <tr>\n",
       "      <th>0</th>\n",
       "      <td>1</td>\n",
       "      <td>1</td>\n",
       "      <td>1938</td>\n",
       "      <td>Monthly</td>\n",
       "      <td>1994-06-25</td>\n",
       "      <td>2354</td>\n",
       "      <td>NaN</td>\n",
       "      <td>M</td>\n",
       "      <td>1967-12-21</td>\n",
       "      <td>NaN</td>\n",
       "      <td>...</td>\n",
       "      <td>0</td>\n",
       "      <td>0</td>\n",
       "      <td>0</td>\n",
       "      <td>50</td>\n",
       "      <td>49</td>\n",
       "      <td>54</td>\n",
       "      <td>0</td>\n",
       "      <td>0</td>\n",
       "      <td>0</td>\n",
       "      <td>0</td>\n",
       "    </tr>\n",
       "    <tr>\n",
       "      <th>1</th>\n",
       "      <td>2</td>\n",
       "      <td>1</td>\n",
       "      <td>1562</td>\n",
       "      <td>Monthly</td>\n",
       "      <td>1995-08-30</td>\n",
       "      <td>1894</td>\n",
       "      <td>NaN</td>\n",
       "      <td>F</td>\n",
       "      <td>1947-11-05</td>\n",
       "      <td>NaN</td>\n",
       "      <td>...</td>\n",
       "      <td>0</td>\n",
       "      <td>0</td>\n",
       "      <td>0</td>\n",
       "      <td>36</td>\n",
       "      <td>35</td>\n",
       "      <td>36</td>\n",
       "      <td>0</td>\n",
       "      <td>0</td>\n",
       "      <td>0</td>\n",
       "      <td>0</td>\n",
       "    </tr>\n",
       "    <tr>\n",
       "      <th>2</th>\n",
       "      <td>3</td>\n",
       "      <td>1</td>\n",
       "      <td>7099</td>\n",
       "      <td>Monthly</td>\n",
       "      <td>1996-08-20</td>\n",
       "      <td>8568</td>\n",
       "      <td>NaN</td>\n",
       "      <td>F</td>\n",
       "      <td>1971-12-03</td>\n",
       "      <td>NaN</td>\n",
       "      <td>...</td>\n",
       "      <td>0</td>\n",
       "      <td>24</td>\n",
       "      <td>0</td>\n",
       "      <td>24</td>\n",
       "      <td>23</td>\n",
       "      <td>28</td>\n",
       "      <td>7</td>\n",
       "      <td>0</td>\n",
       "      <td>0</td>\n",
       "      <td>1</td>\n",
       "    </tr>\n",
       "    <tr>\n",
       "      <th>3</th>\n",
       "      <td>4</td>\n",
       "      <td>1</td>\n",
       "      <td>2316</td>\n",
       "      <td>Monthly</td>\n",
       "      <td>1997-07-21</td>\n",
       "      <td>2802</td>\n",
       "      <td>NaN</td>\n",
       "      <td>F</td>\n",
       "      <td>1966-11-29</td>\n",
       "      <td>NaN</td>\n",
       "      <td>...</td>\n",
       "      <td>0</td>\n",
       "      <td>0</td>\n",
       "      <td>0</td>\n",
       "      <td>13</td>\n",
       "      <td>12</td>\n",
       "      <td>17</td>\n",
       "      <td>0</td>\n",
       "      <td>0</td>\n",
       "      <td>0</td>\n",
       "      <td>0</td>\n",
       "    </tr>\n",
       "    <tr>\n",
       "      <th>4</th>\n",
       "      <td>5</td>\n",
       "      <td>1</td>\n",
       "      <td>1570</td>\n",
       "      <td>Monthly</td>\n",
       "      <td>1994-03-12</td>\n",
       "      <td>1903</td>\n",
       "      <td>NaN</td>\n",
       "      <td>F</td>\n",
       "      <td>1939-08-30</td>\n",
       "      <td>NaN</td>\n",
       "      <td>...</td>\n",
       "      <td>57</td>\n",
       "      <td>0</td>\n",
       "      <td>0</td>\n",
       "      <td>53</td>\n",
       "      <td>52</td>\n",
       "      <td>53</td>\n",
       "      <td>0</td>\n",
       "      <td>0</td>\n",
       "      <td>0</td>\n",
       "      <td>0</td>\n",
       "    </tr>\n",
       "  </tbody>\n",
       "</table>\n",
       "<p>5 rows × 70 columns</p>\n",
       "</div>"
      ],
      "text/plain": [
       "   Unnamed: 0  district_id  account_id frequency Date_Account  \\\n",
       "0           1            1        1938   Monthly   1994-06-25   \n",
       "1           2            1        1562   Monthly   1995-08-30   \n",
       "2           3            1        7099   Monthly   1996-08-20   \n",
       "3           4            1        2316   Monthly   1997-07-21   \n",
       "4           5            1        1570   Monthly   1994-03-12   \n",
       "\n",
       "   client_id_owner  client_id_disponent sex_owner birth_owner sex_disponent  \\\n",
       "0             2354                  NaN         M  1967-12-21           NaN   \n",
       "1             1894                  NaN         F  1947-11-05           NaN   \n",
       "2             8568                  NaN         F  1971-12-03           NaN   \n",
       "3             2802                  NaN         F  1966-11-29           NaN   \n",
       "4             1903                  NaN         F  1939-08-30           NaN   \n",
       "\n",
       "   ... Num_Sym_Pension  Num_Sym_Insurance Num_Sym_NegBal  Num_Sym_Household  \\\n",
       "0  ...               0                  0              0                 50   \n",
       "1  ...               0                  0              0                 36   \n",
       "2  ...               0                 24              0                 24   \n",
       "3  ...               0                  0              0                 13   \n",
       "4  ...              57                  0              0                 53   \n",
       "\n",
       "   Num_Sym_Statement  Num_Sym_IntDep Num_Sym_LoanPayment Balance_in_negative  \\\n",
       "0                 49              54                   0                   0   \n",
       "1                 35              36                   0                   0   \n",
       "2                 23              28                   7                   0   \n",
       "3                 12              17                   0                   0   \n",
       "4                 52              53                   0                   0   \n",
       "\n",
       "   account_disponent_bin  account_loan_bin  \n",
       "0                      0                 0  \n",
       "1                      0                 0  \n",
       "2                      0                 1  \n",
       "3                      0                 0  \n",
       "4                      0                 0  \n",
       "\n",
       "[5 rows x 70 columns]"
      ]
     },
     "execution_count": 4,
     "metadata": {},
     "output_type": "execute_result"
    }
   ],
   "source": [
    "df_original.head()"
   ]
  },
  {
   "cell_type": "code",
   "execution_count": 5,
   "metadata": {},
   "outputs": [
    {
     "data": {
      "text/plain": [
       "Index(['client_id_disponent', 'sex_disponent', 'birth_disponent', 'loan_id',\n",
       "       'Date_Loan', 'Amount_Loan', 'Duration_Loan', 'Payments_Loan', 'status',\n",
       "       'Status_Loan', 'owner_card_date'],\n",
       "      dtype='object')"
      ]
     },
     "execution_count": 5,
     "metadata": {},
     "output_type": "execute_result"
    }
   ],
   "source": [
    "# Vamos a analizar si hay missings al cargar los datos a Python\n",
    "df_original.columns[df_original.isnull().sum()!=0]\n",
    "#Vemos que las variables con missings provienen de variables que ya tenían esos missings en el DataFrame generado con R,\n",
    "#ya que el disponent (autorizado), los préstamos y las tarjetas no son productos que tengan asociados todas las cuentas  "
   ]
  },
  {
   "cell_type": "code",
   "execution_count": 6,
   "metadata": {
    "scrolled": true
   },
   "outputs": [
    {
     "name": "stdout",
     "output_type": "stream",
     "text": [
      "Unnamed: 0                        int64\n",
      "district_id                       int64\n",
      "account_id                        int64\n",
      "frequency                        object\n",
      "Date_Account                     object\n",
      "client_id_owner                   int64\n",
      "client_id_disponent             float64\n",
      "sex_owner                        object\n",
      "birth_owner                      object\n",
      "sex_disponent                    object\n",
      "birth_disponent                  object\n",
      "loan_id                         float64\n",
      "Date_Loan                        object\n",
      "Amount_Loan                     float64\n",
      "Duration_Loan                   float64\n",
      "Payments_Loan                   float64\n",
      "status                           object\n",
      "Status_Loan                      object\n",
      "Ord_Insurance                     int64\n",
      "Ord_Insurance_amount              int64\n",
      "Ord_Household_Payment             int64\n",
      "Ord_Household_Payment_amount      int64\n",
      "Ord_Loan_Payment                  int64\n",
      "Ord_Loan_Payment_amount         float64\n",
      "Ord_Leasing                       int64\n",
      "Ord_Leasing_amount              float64\n",
      "Ord_Empty                         int64\n",
      "Ord_Empty_amount                  int64\n",
      "owner_card_type                   int64\n",
      "disponent_card_type               int64\n",
      "owner_card_date                  object\n",
      "district_name                    object\n",
      "dtype: object\n",
      "district_name                   object\n",
      "region                          object\n",
      "num_inhabitants                  int64\n",
      "municip < 499                    int64\n",
      "municip 500-1999                 int64\n",
      "municip 2000-9999                int64\n",
      "municip > 10000                  int64\n",
      "num_cities                       int64\n",
      "ratio_urban_inhabitants        float64\n",
      "avg_salary                       int64\n",
      "unemployment_rate_95           float64\n",
      "unemployment_rate_96           float64\n",
      "entrepreneurs                    int64\n",
      "crimes_95                      float64\n",
      "crimes_96                        int64\n",
      "crimes_95_ratio                float64\n",
      "crimes_96_ratio                float64\n",
      "entrepreneurs_ratio            float64\n",
      "Num_Type_Credit                  int64\n",
      "Num_Type_VYBER                   int64\n",
      "Num_Type_Withdrawal              int64\n",
      "Num_Op_Null                      int64\n",
      "Num_Op_Remittances               int64\n",
      "Num_Op_Collection                int64\n",
      "Num_Op_CashCredit                int64\n",
      "Num_Op_WithdrawalCash            int64\n",
      "Num_Op_WithdrawalCreditCard      int64\n",
      "Num_Sym_Null                     int64\n",
      "Num_Sym_Null2                    int64\n",
      "Num_Sym_Pension                  int64\n",
      "dtype: object\n",
      "Num_Sym_Pension          int64\n",
      "Num_Sym_Insurance        int64\n",
      "Num_Sym_NegBal           int64\n",
      "Num_Sym_Household        int64\n",
      "Num_Sym_Statement        int64\n",
      "Num_Sym_IntDep           int64\n",
      "Num_Sym_LoanPayment      int64\n",
      "Balance_in_negative      int64\n",
      "account_disponent_bin    int64\n",
      "account_loan_bin         int64\n",
      "dtype: object\n"
     ]
    }
   ],
   "source": [
    "#Vemos como se han importado las variables del DataFrame de R al DataFrame que vamos a utilizar en Python \n",
    "print(df_original.iloc[:,0:32].dtypes)\n",
    "print(df_original.iloc[:,31:61].dtypes)\n",
    "print(df_original.iloc[:,60:70].dtypes)\n",
    "#Observamos que las variables de factor y de fecha han modificado su tipo de variable, \n",
    "#por lo que tendremos que trabajar con ellas"
   ]
  },
  {
   "cell_type": "code",
   "execution_count": 7,
   "metadata": {
    "scrolled": true
   },
   "outputs": [],
   "source": [
    "#Transformamos a formato fecha las variables que originalmente eran fecha en R\n",
    "df_original[[\"Date_Account\",\"birth_owner\", \"birth_disponent\", \"Date_Loan\", \"owner_card_date\"]]=df_original[[\"Date_Account\",\"birth_owner\", \"birth_disponent\", \"Date_Loan\", \"owner_card_date\"]].apply(pd.to_datetime)\n",
    "from datetime import datetime\n",
    "df_original['Date_Account']=df_original['Date_Account'].apply(datetime.toordinal)\n",
    "df_original['birth_owner']=df_original['birth_owner'].apply(datetime.toordinal)\n",
    "df_original['birth_disponent']=df_original['birth_disponent'].apply(datetime.toordinal)\n",
    "df_original['Date_Loan']=df_original['Date_Loan'].apply(datetime.toordinal)\n",
    "df_original['owner_card_date']=df_original['owner_card_date'].apply(datetime.toordinal)"
   ]
  },
  {
   "cell_type": "code",
   "execution_count": 8,
   "metadata": {},
   "outputs": [],
   "source": [
    "#De todas las variables de las que disponemos, vamos a seleccionar las que vamos a utilizar en este ejercicio:\n",
    "\n",
    "#La  variable que vamos a predecir va a ser \"account_loan_bin\" y por tanto la denominaremos \"y\"\n",
    "\n",
    "#Para este ejercicio no consideramos las variables que hemos obtenido en el mismo fichero que la variable a predecir (loan.csv):\n",
    "#loan_id, Date_Loan, Amount_Loan, Duration_Loan, Payments_Loan, status, Status_Loan.\n",
    "\n",
    "#Otras variables que no consideramos: account_id, client_id_owner, client_id_disponent, district ID y unnamed:0 porque \n",
    "#son ID's descriptivas sin información para utilizar\n",
    "\n",
    "#La variable disponent_card_type no aporta información\n",
    "\n",
    "#Otras variables que no consideramos:district_name, region (nombre). Utilizamos el resto de la información de variables \n",
    "#del fichero district.csv\n",
    "\n",
    "#Haciendo referencia a district.csv , la información de crimes_95, crimes_96 y entrepreneurs la vamos a utilizar como ratio,\n",
    "#ya que como veremos a continuación, de esta forma obtendremos menos impacto por un distrito con mucha población (Praga) \n",
    "\n"
   ]
  },
  {
   "cell_type": "code",
   "execution_count": 9,
   "metadata": {},
   "outputs": [],
   "source": [
    "#Las variables crimes_95, crimes_96 y entrepreneurs vamos a utilizarlas en formato ratio, tal y como calculamos en R"
   ]
  },
  {
   "cell_type": "code",
   "execution_count": 10,
   "metadata": {},
   "outputs": [
    {
     "data": {
      "text/plain": [
       "(array([3443.,  240.,  263.,    0.,    0.,    0.,    0.,    0.,    0.,\n",
       "         554.]),\n",
       " array([  818. ,  9303.9, 17789.8, 26275.7, 34761.6, 43247.5, 51733.4,\n",
       "        60219.3, 68705.2, 77191.1, 85677. ]),\n",
       " <a list of 10 Patch objects>)"
      ]
     },
     "execution_count": 10,
     "metadata": {},
     "output_type": "execute_result"
    },
    {
     "data": {
      "image/png": "[encoded data removed]",
      "text/plain": [
       "<Figure size 432x288 with 1 Axes>"
      ]
     },
     "metadata": {
      "needs_background": "light"
     },
     "output_type": "display_data"
    }
   ],
   "source": [
    "plt.hist(df_original['crimes_95'])"
   ]
  },
  {
   "cell_type": "code",
   "execution_count": 11,
   "metadata": {},
   "outputs": [
    {
     "data": {
      "text/plain": [
       "(array([ 596., 1052.,  499.,  760.,  370.,  317.,  128.,  224.,    0.,\n",
       "         554.]),\n",
       " array([0.01354271, 0.01929884, 0.02505497, 0.0308111 , 0.03656723,\n",
       "        0.04232336, 0.04807949, 0.05383562, 0.05959176, 0.06534789,\n",
       "        0.07110402]),\n",
       " <a list of 10 Patch objects>)"
      ]
     },
     "execution_count": 11,
     "metadata": {},
     "output_type": "execute_result"
    },
    {
     "data": {
      "image/png": "[encoded data removed]",
      "text/plain": [
       "<Figure size 432x288 with 1 Axes>"
      ]
     },
     "metadata": {
      "needs_background": "light"
     },
     "output_type": "display_data"
    }
   ],
   "source": [
    "plt.hist(df_original['crimes_95_ratio'])"
   ]
  },
  {
   "cell_type": "code",
   "execution_count": 12,
   "metadata": {},
   "outputs": [
    {
     "data": {
      "text/plain": [
       "(array([3683.,  263.,    0.,    0.,    0.,    0.,    0.,    0.,    0.,\n",
       "         554.]),\n",
       " array([  888. , 10709.9, 20531.8, 30353.7, 40175.6, 49997.5, 59819.4,\n",
       "        69641.3, 79463.2, 89285.1, 99107. ]),\n",
       " <a list of 10 Patch objects>)"
      ]
     },
     "execution_count": 12,
     "metadata": {},
     "output_type": "execute_result"
    },
    {
     "data": {
      "image/png": "[encoded data removed]",
      "text/plain": [
       "<Figure size 432x288 with 1 Axes>"
      ]
     },
     "metadata": {
      "needs_background": "light"
     },
     "output_type": "display_data"
    }
   ],
   "source": [
    "plt.hist(df_original['crimes_96'])"
   ]
  },
  {
   "cell_type": "code",
   "execution_count": 13,
   "metadata": {},
   "outputs": [
    {
     "data": {
      "text/plain": [
       "(array([1141.,  804.,  726.,  637.,  415.,   88.,  135.,    0.,    0.,\n",
       "         554.]),\n",
       " array([0.0159461 , 0.02257646, 0.02920682, 0.03583717, 0.04246753,\n",
       "        0.04909789, 0.05572825, 0.06235861, 0.06898896, 0.07561932,\n",
       "        0.08224968]),\n",
       " <a list of 10 Patch objects>)"
      ]
     },
     "execution_count": 13,
     "metadata": {},
     "output_type": "execute_result"
    },
    {
     "data": {
      "image/png": "[encoded data removed]",
      "text/plain": [
       "<Figure size 432x288 with 1 Axes>"
      ]
     },
     "metadata": {
      "needs_background": "light"
     },
     "output_type": "display_data"
    }
   ],
   "source": [
    "plt.hist(df_original['crimes_96_ratio'])"
   ]
  },
  {
   "cell_type": "code",
   "execution_count": 14,
   "metadata": {},
   "outputs": [
    {
     "data": {
      "text/plain": [
       "(array([200., 354., 644., 992., 517., 757., 259., 138.,  85., 554.]),\n",
       " array([ 81. ,  89.6,  98.2, 106.8, 115.4, 124. , 132.6, 141.2, 149.8,\n",
       "        158.4, 167. ]),\n",
       " <a list of 10 Patch objects>)"
      ]
     },
     "execution_count": 14,
     "metadata": {},
     "output_type": "execute_result"
    },
    {
     "data": {
      "image/png": "[encoded data removed]",
      "text/plain": [
       "<Figure size 432x288 with 1 Axes>"
      ]
     },
     "metadata": {
      "needs_background": "light"
     },
     "output_type": "display_data"
    }
   ],
   "source": [
    "plt.hist(df_original['entrepreneurs'])"
   ]
  },
  {
   "cell_type": "code",
   "execution_count": 15,
   "metadata": {},
   "outputs": [
    {
     "data": {
      "text/plain": [
       "(array([ 969.,  322., 1256.,  793.,  312.,  388.,  177.,  192.,   43.,\n",
       "          48.]),\n",
       " array([0.00013859, 0.00041431, 0.00069003, 0.00096575, 0.00124147,\n",
       "        0.00151719, 0.0017929 , 0.00206862, 0.00234434, 0.00262006,\n",
       "        0.00289578]),\n",
       " <a list of 10 Patch objects>)"
      ]
     },
     "execution_count": 15,
     "metadata": {},
     "output_type": "execute_result"
    },
    {
     "data": {
      "image/png": "[encoded data removed]",
      "text/plain": [
       "<Figure size 432x288 with 1 Axes>"
      ]
     },
     "metadata": {
      "needs_background": "light"
     },
     "output_type": "display_data"
    }
   ],
   "source": [
    "plt.hist(df_original['entrepreneurs_ratio'])"
   ]
  },
  {
   "cell_type": "code",
   "execution_count": 16,
   "metadata": {},
   "outputs": [],
   "source": [
    "#Creamos un DataFrame con las variables que vamos a considerar numéricas\n",
    "df_num=df_original[['Date_Account','birth_owner', 'birth_disponent','owner_card_date','Ord_Insurance', 'Ord_Insurance_amount',\n",
    "                    'Ord_Household_Payment','Ord_Household_Payment_amount', 'Ord_Loan_Payment', 'Ord_Leasing',\n",
    "                    'Ord_Empty', 'Ord_Empty_amount', 'num_inhabitants', 'municip < 499', 'municip 500-1999',\n",
    "                    'municip 2000-9999', 'municip > 10000', 'num_cities', 'avg_salary',  \n",
    "                    'Num_Type_Credit', 'Num_Type_VYBER', 'Num_Type_Withdrawal', 'Num_Op_Null', 'Num_Op_Remittances',\n",
    "                    'Num_Op_Collection','Num_Op_CashCredit', 'Num_Op_WithdrawalCash','Num_Op_WithdrawalCreditCard',\n",
    "                    'Num_Sym_Null', 'Num_Sym_Null2','Num_Sym_Pension', 'Num_Sym_Insurance', 'Num_Sym_NegBal',\n",
    "                    'Num_Sym_Household', 'Num_Sym_Statement', 'Num_Sym_IntDep', 'Num_Sym_LoanPayment', \n",
    "                    'Balance_in_negative','Ord_Loan_Payment_amount', 'Ord_Leasing_amount','ratio_urban_inhabitants',\n",
    "                    'unemployment_rate_95','unemployment_rate_96', 'crimes_95_ratio', 'crimes_96_ratio', 'entrepreneurs_ratio' ]] "
   ]
  },
  {
   "cell_type": "code",
   "execution_count": null,
   "metadata": {},
   "outputs": [],
   "source": []
  },
  {
   "cell_type": "code",
   "execution_count": 17,
   "metadata": {},
   "outputs": [
    {
     "data": {
      "text/plain": [
       "account_disponent_bin     int64\n",
       "frequency                object\n",
       "sex_owner                object\n",
       "owner_card_type           int64\n",
       "sex_disponent            object\n",
       "dtype: object"
      ]
     },
     "execution_count": 17,
     "metadata": {},
     "output_type": "execute_result"
    }
   ],
   "source": [
    "#Creamos un DataFrame con las variables que vamos a considerar categóricas\n",
    "df_cat=df_original[['account_disponent_bin','frequency', 'sex_owner', 'owner_card_type',\n",
    "       'sex_disponent']]\n",
    "#Vemos que tipos tienen las variables que queremos que sean categóricas\n",
    "df_cat.dtypes"
   ]
  },
  {
   "cell_type": "code",
   "execution_count": 18,
   "metadata": {},
   "outputs": [
    {
     "name": "stderr",
     "output_type": "stream",
     "text": [
      "C:\\Users\\osmaa\\Anaconda3\\lib\\site-packages\\ipykernel_launcher.py:2: SettingWithCopyWarning: \n",
      "A value is trying to be set on a copy of a slice from a DataFrame.\n",
      "Try using .loc[row_indexer,col_indexer] = value instead\n",
      "\n",
      "See the caveats in the documentation: http://pandas.pydata.org/pandas-docs/stable/indexing.html#indexing-view-versus-copy\n",
      "  \n",
      "C:\\Users\\osmaa\\Anaconda3\\lib\\site-packages\\ipykernel_launcher.py:3: SettingWithCopyWarning: \n",
      "A value is trying to be set on a copy of a slice from a DataFrame.\n",
      "Try using .loc[row_indexer,col_indexer] = value instead\n",
      "\n",
      "See the caveats in the documentation: http://pandas.pydata.org/pandas-docs/stable/indexing.html#indexing-view-versus-copy\n",
      "  This is separate from the ipykernel package so we can avoid doing imports until\n"
     ]
    }
   ],
   "source": [
    "#Ponemos las variables \"owner_card_type\" y \"account_disponent_bin\" como string para poder obtener dummies\n",
    "df_cat[\"owner_card_type\"]=df_cat[\"owner_card_type\"].astype(str)\n",
    "df_cat[\"account_disponent_bin\"]=df_cat[\"account_disponent_bin\"].astype(str)"
   ]
  },
  {
   "cell_type": "code",
   "execution_count": 19,
   "metadata": {},
   "outputs": [],
   "source": [
    "df_cat_dumm=pd.get_dummies(df_cat)"
   ]
  },
  {
   "cell_type": "code",
   "execution_count": 20,
   "metadata": {},
   "outputs": [
    {
     "data": {
      "text/plain": [
       "account_disponent_bin_0    uint8\n",
       "account_disponent_bin_1    uint8\n",
       "frequency_After_trans      uint8\n",
       "frequency_Monthly          uint8\n",
       "frequency_Weekly           uint8\n",
       "sex_owner_F                uint8\n",
       "sex_owner_M                uint8\n",
       "owner_card_type_0          uint8\n",
       "owner_card_type_1          uint8\n",
       "owner_card_type_2          uint8\n",
       "owner_card_type_3          uint8\n",
       "sex_disponent_F            uint8\n",
       "sex_disponent_M            uint8\n",
       "dtype: object"
      ]
     },
     "execution_count": 20,
     "metadata": {},
     "output_type": "execute_result"
    }
   ],
   "source": [
    "df_cat_dumm.dtypes\n",
    "#Al pasar a dummies las variables, hemos incrementado en 8 el número total de variables"
   ]
  },
  {
   "cell_type": "code",
   "execution_count": 21,
   "metadata": {},
   "outputs": [
    {
     "data": {
      "text/html": [
       "<div>\n",
       "<style scoped>\n",
       "    .dataframe tbody tr th:only-of-type {\n",
       "        vertical-align: middle;\n",
       "    }\n",
       "\n",
       "    .dataframe tbody tr th {\n",
       "        vertical-align: top;\n",
       "    }\n",
       "\n",
       "    .dataframe thead th {\n",
       "        text-align: right;\n",
       "    }\n",
       "</style>\n",
       "<table border=\"1\" class=\"dataframe\">\n",
       "  <thead>\n",
       "    <tr style=\"text-align: right;\">\n",
       "      <th></th>\n",
       "      <th>Date_Account</th>\n",
       "      <th>birth_owner</th>\n",
       "      <th>birth_disponent</th>\n",
       "      <th>owner_card_date</th>\n",
       "      <th>Ord_Insurance</th>\n",
       "      <th>Ord_Insurance_amount</th>\n",
       "      <th>Ord_Household_Payment</th>\n",
       "      <th>Ord_Household_Payment_amount</th>\n",
       "      <th>Ord_Loan_Payment</th>\n",
       "      <th>Ord_Leasing</th>\n",
       "      <th>...</th>\n",
       "      <th>frequency_Monthly</th>\n",
       "      <th>frequency_Weekly</th>\n",
       "      <th>sex_owner_F</th>\n",
       "      <th>sex_owner_M</th>\n",
       "      <th>owner_card_type_0</th>\n",
       "      <th>owner_card_type_1</th>\n",
       "      <th>owner_card_type_2</th>\n",
       "      <th>owner_card_type_3</th>\n",
       "      <th>sex_disponent_F</th>\n",
       "      <th>sex_disponent_M</th>\n",
       "    </tr>\n",
       "  </thead>\n",
       "  <tbody>\n",
       "    <tr>\n",
       "      <th>0</th>\n",
       "      <td>728104</td>\n",
       "      <td>718421</td>\n",
       "      <td>1</td>\n",
       "      <td>1</td>\n",
       "      <td>0</td>\n",
       "      <td>0</td>\n",
       "      <td>1</td>\n",
       "      <td>6646</td>\n",
       "      <td>0</td>\n",
       "      <td>1</td>\n",
       "      <td>...</td>\n",
       "      <td>1</td>\n",
       "      <td>0</td>\n",
       "      <td>0</td>\n",
       "      <td>1</td>\n",
       "      <td>1</td>\n",
       "      <td>0</td>\n",
       "      <td>0</td>\n",
       "      <td>0</td>\n",
       "      <td>0</td>\n",
       "      <td>0</td>\n",
       "    </tr>\n",
       "    <tr>\n",
       "      <th>1</th>\n",
       "      <td>728535</td>\n",
       "      <td>711070</td>\n",
       "      <td>1</td>\n",
       "      <td>1</td>\n",
       "      <td>0</td>\n",
       "      <td>0</td>\n",
       "      <td>1</td>\n",
       "      <td>1933</td>\n",
       "      <td>0</td>\n",
       "      <td>0</td>\n",
       "      <td>...</td>\n",
       "      <td>1</td>\n",
       "      <td>0</td>\n",
       "      <td>1</td>\n",
       "      <td>0</td>\n",
       "      <td>1</td>\n",
       "      <td>0</td>\n",
       "      <td>0</td>\n",
       "      <td>0</td>\n",
       "      <td>0</td>\n",
       "      <td>0</td>\n",
       "    </tr>\n",
       "    <tr>\n",
       "      <th>2</th>\n",
       "      <td>728891</td>\n",
       "      <td>719864</td>\n",
       "      <td>1</td>\n",
       "      <td>1</td>\n",
       "      <td>1</td>\n",
       "      <td>528</td>\n",
       "      <td>1</td>\n",
       "      <td>236</td>\n",
       "      <td>1</td>\n",
       "      <td>0</td>\n",
       "      <td>...</td>\n",
       "      <td>1</td>\n",
       "      <td>0</td>\n",
       "      <td>1</td>\n",
       "      <td>0</td>\n",
       "      <td>1</td>\n",
       "      <td>0</td>\n",
       "      <td>0</td>\n",
       "      <td>0</td>\n",
       "      <td>0</td>\n",
       "      <td>0</td>\n",
       "    </tr>\n",
       "    <tr>\n",
       "      <th>3</th>\n",
       "      <td>729226</td>\n",
       "      <td>718034</td>\n",
       "      <td>1</td>\n",
       "      <td>1</td>\n",
       "      <td>0</td>\n",
       "      <td>0</td>\n",
       "      <td>1</td>\n",
       "      <td>2111</td>\n",
       "      <td>0</td>\n",
       "      <td>0</td>\n",
       "      <td>...</td>\n",
       "      <td>1</td>\n",
       "      <td>0</td>\n",
       "      <td>1</td>\n",
       "      <td>0</td>\n",
       "      <td>1</td>\n",
       "      <td>0</td>\n",
       "      <td>0</td>\n",
       "      <td>0</td>\n",
       "      <td>0</td>\n",
       "      <td>0</td>\n",
       "    </tr>\n",
       "    <tr>\n",
       "      <th>4</th>\n",
       "      <td>727999</td>\n",
       "      <td>708081</td>\n",
       "      <td>1</td>\n",
       "      <td>1</td>\n",
       "      <td>0</td>\n",
       "      <td>0</td>\n",
       "      <td>1</td>\n",
       "      <td>2865</td>\n",
       "      <td>0</td>\n",
       "      <td>0</td>\n",
       "      <td>...</td>\n",
       "      <td>1</td>\n",
       "      <td>0</td>\n",
       "      <td>1</td>\n",
       "      <td>0</td>\n",
       "      <td>1</td>\n",
       "      <td>0</td>\n",
       "      <td>0</td>\n",
       "      <td>0</td>\n",
       "      <td>0</td>\n",
       "      <td>0</td>\n",
       "    </tr>\n",
       "  </tbody>\n",
       "</table>\n",
       "<p>5 rows × 59 columns</p>\n",
       "</div>"
      ],
      "text/plain": [
       "   Date_Account  birth_owner  birth_disponent  owner_card_date  Ord_Insurance  \\\n",
       "0        728104       718421                1                1              0   \n",
       "1        728535       711070                1                1              0   \n",
       "2        728891       719864                1                1              1   \n",
       "3        729226       718034                1                1              0   \n",
       "4        727999       708081                1                1              0   \n",
       "\n",
       "   Ord_Insurance_amount  Ord_Household_Payment  Ord_Household_Payment_amount  \\\n",
       "0                     0                      1                          6646   \n",
       "1                     0                      1                          1933   \n",
       "2                   528                      1                           236   \n",
       "3                     0                      1                          2111   \n",
       "4                     0                      1                          2865   \n",
       "\n",
       "   Ord_Loan_Payment  Ord_Leasing  ...  frequency_Monthly  frequency_Weekly  \\\n",
       "0                 0            1  ...                  1                 0   \n",
       "1                 0            0  ...                  1                 0   \n",
       "2                 1            0  ...                  1                 0   \n",
       "3                 0            0  ...                  1                 0   \n",
       "4                 0            0  ...                  1                 0   \n",
       "\n",
       "   sex_owner_F  sex_owner_M  owner_card_type_0  owner_card_type_1  \\\n",
       "0            0            1                  1                  0   \n",
       "1            1            0                  1                  0   \n",
       "2            1            0                  1                  0   \n",
       "3            1            0                  1                  0   \n",
       "4            1            0                  1                  0   \n",
       "\n",
       "   owner_card_type_2  owner_card_type_3  sex_disponent_F  sex_disponent_M  \n",
       "0                  0                  0                0                0  \n",
       "1                  0                  0                0                0  \n",
       "2                  0                  0                0                0  \n",
       "3                  0                  0                0                0  \n",
       "4                  0                  0                0                0  \n",
       "\n",
       "[5 rows x 59 columns]"
      ]
     },
     "execution_count": 21,
     "metadata": {},
     "output_type": "execute_result"
    }
   ],
   "source": [
    "df = pd.concat([df_num, df_cat_dumm], axis = 1)\n",
    "df.head()"
   ]
  },
  {
   "cell_type": "markdown",
   "metadata": {},
   "source": [
    "# Vamos a generar un primer modelo benchmark"
   ]
  },
  {
   "cell_type": "code",
   "execution_count": 22,
   "metadata": {},
   "outputs": [],
   "source": [
    "#Antes de probar con modelos vamos a ver si reduciendo dimensionalidad conseguimos una primera intuición"
   ]
  },
  {
   "cell_type": "code",
   "execution_count": 23,
   "metadata": {},
   "outputs": [],
   "source": [
    "X = df\n",
    "y = df_original[\"account_loan_bin\"] "
   ]
  },
  {
   "cell_type": "code",
   "execution_count": 24,
   "metadata": {},
   "outputs": [
    {
     "data": {
      "image/png": "[encoded data removed]",
      "text/plain": [
       "<Figure size 720x480 with 1 Axes>"
      ]
     },
     "metadata": {
      "needs_background": "light"
     },
     "output_type": "display_data"
    }
   ],
   "source": [
    "from sklearn.decomposition import PCA\n",
    "pca = PCA(n_components=2).fit_transform(X)\n",
    "plt.figure(dpi=120)\n",
    "plt.scatter(pca[y.values==0,0], pca[y.values==0,1], alpha=0.5, label='YES', s=2, color='navy')\n",
    "plt.scatter(pca[y.values==1,0], pca[y.values==1,1], alpha=0.5, label='NO', s=2, color='darkorange')\n",
    "plt.legend()\n",
    "plt.title('Producto préstamo')\n",
    "plt.xlabel('PC1')\n",
    "plt.ylabel('PC2')\n",
    "plt.gca().set_aspect('equal')\n",
    "plt.show()"
   ]
  },
  {
   "cell_type": "code",
   "execution_count": 25,
   "metadata": {
    "collapsed": true
   },
   "outputs": [
    {
     "name": "stdout",
     "output_type": "stream",
     "text": [
      "[[-1.41899145e-05  3.76112969e-04  2.97418890e-02  6.65291847e-02\n",
      "   1.10456611e-08  6.97541426e-05 -8.13236480e-09  4.49340526e-05\n",
      "   1.92086580e-09  1.51642509e-08  1.86478704e-08  1.40767450e-04\n",
      "   9.97335487e-01 -4.90984072e-05 -2.32177716e-05 -5.72845134e-06\n",
      "  -5.87189940e-07 -5.04538511e-06  3.32207470e-03  2.80449536e-06\n",
      "   4.49809421e-07  3.59443953e-06  1.27687280e-06  5.86459693e-07\n",
      "  -1.80003778e-06  3.32766034e-06  2.90427567e-06  5.53513591e-07\n",
      "   3.95002345e-06  7.30692726e-07 -9.05250243e-07  3.92910956e-07\n",
      "   9.53161761e-08  5.39244984e-07  4.59238406e-07  1.27687280e-06\n",
      "   3.09695048e-07  3.58832264e-07  4.66633456e-05  4.45604444e-05\n",
      "   3.74408574e-05 -2.48007137e-06 -2.94393181e-06  3.92241114e-08\n",
      "   4.83722236e-08 -1.07124667e-09 -4.19281050e-08  4.19281050e-08\n",
      "  -4.73145522e-09 -5.56504707e-09  1.02965023e-08  3.63305616e-09\n",
      "  -3.63305616e-09 -9.12049432e-08  6.41757903e-08  4.74961153e-09\n",
      "   2.22795413e-08  2.15292322e-08  2.03988728e-08]\n",
      " [ 3.04437369e-06  3.73703181e-03 -3.65540171e-01  9.29384403e-01\n",
      "  -1.04229252e-08 -1.43761629e-05 -2.54587733e-07  2.60507029e-04\n",
      "   4.58967428e-08  5.06106804e-08  1.58892746e-08  1.60221081e-04\n",
      "  -5.10964043e-02  5.01356257e-06  4.76777448e-07  1.16347069e-07\n",
      "  -2.01811503e-08  3.61104908e-07 -1.59893279e-04  5.50086035e-06\n",
      "   4.22939002e-06  1.02676990e-05  1.40592212e-06 -8.35415652e-06\n",
      "  -1.29268482e-05  1.70217864e-05  1.12724987e-05  1.15787469e-05\n",
      "   3.47815391e-05 -1.59465173e-07 -1.11508806e-05 -7.59074954e-08\n",
      "  -1.06540441e-07 -5.61531543e-06  1.71651392e-07  1.40592212e-06\n",
      "   7.46945843e-07 -2.98565906e-07  2.54346126e-04  1.45454792e-04\n",
      "  -1.93351307e-06  1.20932506e-07  1.65001739e-07 -1.84206030e-09\n",
      "  -2.26828574e-09  9.59343574e-11  5.14272079e-07 -5.14272079e-07\n",
      "   5.79471233e-09 -4.04554139e-08  3.46607016e-08 -3.04081811e-08\n",
      "   3.04081811e-08 -1.27437703e-06  9.38164843e-07  1.24669876e-07\n",
      "   2.11542306e-07 -2.58182871e-07 -2.56089208e-07]]\n",
      "[0.44056748 0.29221908]\n"
     ]
    }
   ],
   "source": [
    "#Del gráfico anterior no consigo sacar nada en claro\n",
    "pca2 = PCA(n_components=2)\n",
    "pca2.fit(X)\n",
    "print(pca2.components_)\n",
    "print(pca2.explained_variance_ratio_)\n",
    "#De los componentes una intuición de que quizás las variables 3 ('birth_disponent'),4 ('owner_card_date') y \n",
    "#13 'num_inhabitants' podrían ser importantes"
   ]
  },
  {
   "cell_type": "code",
   "execution_count": 26,
   "metadata": {},
   "outputs": [],
   "source": [
    "from sklearn.model_selection import train_test_split\n",
    "from sklearn.linear_model import LogisticRegression\n",
    "from sklearn.tree import DecisionTreeClassifier\n",
    "from sklearn.metrics import accuracy_score, precision_score, recall_score\n",
    "from sklearn.metrics import confusion_matrix, classification_report"
   ]
  },
  {
   "cell_type": "code",
   "execution_count": 27,
   "metadata": {},
   "outputs": [],
   "source": [
    "#Generamos conjuntos de train y de test. PAra el test usamos el 20% de las observaciones\n",
    "X_train, X_test, y_train, y_test = train_test_split(X, y, test_size=0.2, random_state=0)"
   ]
  },
  {
   "cell_type": "code",
   "execution_count": 28,
   "metadata": {},
   "outputs": [
    {
     "name": "stderr",
     "output_type": "stream",
     "text": [
      "C:\\Users\\osmaa\\Anaconda3\\lib\\site-packages\\sklearn\\linear_model\\logistic.py:433: FutureWarning: Default solver will be changed to 'lbfgs' in 0.22. Specify a solver to silence this warning.\n",
      "  FutureWarning)\n"
     ]
    },
    {
     "data": {
      "text/plain": [
       "LogisticRegression(C=1.0, class_weight=None, dual=False, fit_intercept=True,\n",
       "          intercept_scaling=1, max_iter=100, multi_class='warn',\n",
       "          n_jobs=None, penalty='l2', random_state=None, solver='warn',\n",
       "          tol=0.0001, verbose=0, warm_start=False)"
      ]
     },
     "execution_count": 28,
     "metadata": {},
     "output_type": "execute_result"
    }
   ],
   "source": [
    "#Probamos una Regresión logística\n",
    "clf_LR=LogisticRegression()\n",
    "clf_LR.fit(X_train,y_train)"
   ]
  },
  {
   "cell_type": "code",
   "execution_count": 36,
   "metadata": {},
   "outputs": [
    {
     "name": "stdout",
     "output_type": "stream",
     "text": [
      "El accuracy es 97.25 %\n",
      "La precision es 95.64315352697096 %\n",
      "El recall es 85.52875695732838 %\n"
     ]
    },
    {
     "data": {
      "text/plain": [
       "(3040, 21, 78, 461)"
      ]
     },
     "execution_count": 36,
     "metadata": {},
     "output_type": "execute_result"
    }
   ],
   "source": [
    "#Predicción en el conjunto de train con Regresión Logística\n",
    "print(\"El accuracy es\",accuracy_score(y_train,clf_LR.predict(X_train))*100,\"%\")\n",
    "print(\"La precision es\",precision_score(y_train,clf_LR.predict(X_train))*100, \"%\")\n",
    "print(\"El recall es\",recall_score(y_train,clf_LR.predict(X_train))*100,\"%\")\n",
    "tn, fp, fn, tp=confusion_matrix(y_train,clf_LR.predict(X_train)).ravel()\n",
    "(tn, fp, fn, tp)"
   ]
  },
  {
   "cell_type": "code",
   "execution_count": 34,
   "metadata": {},
   "outputs": [
    {
     "name": "stdout",
     "output_type": "stream",
     "text": [
      "El accuracy es 96.66666666666667 %\n",
      "La precision es 94.48818897637796 %\n",
      "El recall es 83.91608391608392 %\n"
     ]
    },
    {
     "data": {
      "text/plain": [
       "(750, 7, 23, 120)"
      ]
     },
     "execution_count": 34,
     "metadata": {},
     "output_type": "execute_result"
    }
   ],
   "source": [
    "#Predicción en el conjunto de test con Regresión Logística\n",
    "print(\"El accuracy es\",accuracy_score(y_test,clf_LR.predict(X_test))*100,\"%\")\n",
    "print(\"La precision es\",precision_score(y_test,clf_LR.predict(X_test))*100, \"%\")\n",
    "print(\"El recall es\",recall_score(y_test,clf_LR.predict(X_test))*100,\"%\")\n",
    "tn, fp, fn, tp=confusion_matrix(y_test,clf_LR.predict(X_test)).ravel()\n",
    "(tn, fp, fn, tp)\n",
    "#Los resultados indican que se puede predecir muy bien con un modelo sencillo y que el modelo generaliza bastante bien \n",
    "#(poca diferencia entre train y test)."
   ]
  },
  {
   "cell_type": "code",
   "execution_count": 99,
   "metadata": {},
   "outputs": [
    {
     "data": {
      "text/plain": [
       "DecisionTreeClassifier(class_weight=None, criterion='gini', max_depth=3,\n",
       "            max_features=None, max_leaf_nodes=None,\n",
       "            min_impurity_decrease=0.0, min_impurity_split=None,\n",
       "            min_samples_leaf=20, min_samples_split=2,\n",
       "            min_weight_fraction_leaf=0.0, presort=False, random_state=None,\n",
       "            splitter='best')"
      ]
     },
     "execution_count": 99,
     "metadata": {},
     "output_type": "execute_result"
    }
   ],
   "source": [
    "#Probamos con un árbol de decisión\n",
    "clf_tree = DecisionTreeClassifier(min_samples_leaf=20,max_depth=3)\n",
    "clf_tree.fit(X_train,y_train)"
   ]
  },
  {
   "cell_type": "code",
   "execution_count": 100,
   "metadata": {},
   "outputs": [
    {
     "name": "stdout",
     "output_type": "stream",
     "text": [
      "El accuracy es 100.0 %\n",
      "La precision es 100.0 %\n",
      "El recall es 100.0 %\n",
      "Matriz de confusión [[3061    0]\n",
      " [   0  539]]\n"
     ]
    },
    {
     "data": {
      "text/plain": [
       "(3061, 0, 0, 539)"
      ]
     },
     "execution_count": 100,
     "metadata": {},
     "output_type": "execute_result"
    }
   ],
   "source": [
    "#Predicción en el conjunto de train con un árbol de prueba\n",
    "print(\"El accuracy es\",accuracy_score(y_train,clf_tree.predict(X_train))*100,\"%\")\n",
    "print(\"La precision es\",precision_score(y_train,clf_tree.predict(X_train))*100, \"%\")\n",
    "print(\"El recall es\",recall_score(y_train,clf_tree.predict(X_train))*100,\"%\")\n",
    "print(\"Matriz de confusión\",confusion_matrix(y_train,clf_tree.predict(X_train)))\n",
    "tn, fp, fn, tp=confusion_matrix(y_train,clf_tree.predict(X_train)).ravel()\n",
    "(tn, fp, fn, tp)"
   ]
  },
  {
   "cell_type": "code",
   "execution_count": 101,
   "metadata": {},
   "outputs": [
    {
     "name": "stdout",
     "output_type": "stream",
     "text": [
      "El accuracy es 100.0 %\n",
      "La precision es 100.0 %\n",
      "El recall es 100.0 %\n",
      "Matriz de confusión [[757   0]\n",
      " [  0 143]]\n"
     ]
    },
    {
     "data": {
      "text/plain": [
       "(757, 0, 0, 143)"
      ]
     },
     "execution_count": 101,
     "metadata": {},
     "output_type": "execute_result"
    }
   ],
   "source": [
    "#Predicción en el conjunto de test con un árbol de prueba\n",
    "print(\"El accuracy es\",accuracy_score(y_test,clf_tree.predict(X_test))*100,\"%\")\n",
    "print(\"La precision es\",precision_score(y_test,clf_tree.predict(X_test))*100, \"%\")\n",
    "print(\"El recall es\",recall_score(y_test,clf_tree.predict(X_test))*100,\"%\")\n",
    "print(\"Matriz de confusión\",confusion_matrix(y_test,clf_tree.predict(X_test)))\n",
    "tn, fp, fn, tp=confusion_matrix(y_test,clf_tree.predict(X_test)).ravel()\n",
    "(tn, fp, fn, tp)"
   ]
  },
  {
   "cell_type": "code",
   "execution_count": 102,
   "metadata": {},
   "outputs": [
    {
     "data": {
      "text/plain": [
       "Index(['Num_Sym_LoanPayment'], dtype='object')"
      ]
     },
     "execution_count": 102,
     "metadata": {},
     "output_type": "execute_result"
    }
   ],
   "source": [
    "X_train.columns[clf_tree.feature_importances_>0.001]"
   ]
  },
  {
   "cell_type": "code",
   "execution_count": 103,
   "metadata": {},
   "outputs": [
    {
     "data": {
      "image/png": "[encoded data removed]",
      "text/plain": [
       "<IPython.core.display.Image object>"
      ]
     },
     "execution_count": 103,
     "metadata": {},
     "output_type": "execute_result"
    }
   ],
   "source": [
    "#Vamos a dibujar el modelo\n",
    "from io import StringIO\n",
    "from IPython.display import Image\n",
    "from sklearn.tree import export_graphviz\n",
    "import pydotplus\n",
    "dot_data = StringIO()\n",
    "export_graphviz(clf_tree, out_file=dot_data,filled=True, rounded=True,\n",
    "                special_characters=True)\n",
    "graph = pydotplus.graph_from_dot_data(dot_data.getvalue())\n",
    "Image(graph.create_png())"
   ]
  },
  {
   "cell_type": "code",
   "execution_count": 104,
   "metadata": {},
   "outputs": [
    {
     "data": {
      "text/plain": [
       "'Num_Sym_LoanPayment'"
      ]
     },
     "execution_count": 104,
     "metadata": {},
     "output_type": "execute_result"
    }
   ],
   "source": [
    "X_train.columns[36]\n",
    "#Parece que la variable 'Num_Sym_LoanPayment' contiene toda la información \"account_loan_bin\", \n",
    "#aunque se han extraido de ficheros distintos"
   ]
  },
  {
   "cell_type": "code",
   "execution_count": 105,
   "metadata": {},
   "outputs": [
    {
     "data": {
      "text/plain": [
       "Unnamed: 0                      0.003331\n",
       "district_id                     0.003010\n",
       "account_id                      0.555004\n",
       "Date_Account                    0.015261\n",
       "client_id_owner                 0.556641\n",
       "client_id_disponent             0.666977\n",
       "birth_owner                     0.104253\n",
       "birth_disponent                 0.021728\n",
       "loan_id                              NaN\n",
       "Date_Loan                       1.000000\n",
       "Amount_Loan                          NaN\n",
       "Duration_Loan                        NaN\n",
       "Payments_Loan                        NaN\n",
       "Ord_Insurance                   0.064054\n",
       "Ord_Insurance_amount            0.066203\n",
       "Ord_Household_Payment          -0.115103\n",
       "Ord_Household_Payment_amount    0.065080\n",
       "Ord_Loan_Payment                0.970807\n",
       "Ord_Loan_Payment_amount         0.831433\n",
       "Ord_Leasing                    -0.121020\n",
       "Ord_Leasing_amount             -0.105988\n",
       "Ord_Empty                       0.076714\n",
       "Ord_Empty_amount                0.098316\n",
       "owner_card_type                 0.033378\n",
       "disponent_card_type                  NaN\n",
       "owner_card_date                 0.054129\n",
       "num_inhabitants                 0.003314\n",
       "municip < 499                   0.001654\n",
       "municip 500-1999                0.017401\n",
       "municip 2000-9999               0.010580\n",
       "                                  ...   \n",
       "avg_salary                     -0.003893\n",
       "unemployment_rate_95            0.004317\n",
       "unemployment_rate_96            0.006302\n",
       "entrepreneurs                   0.001879\n",
       "crimes_95                       0.001258\n",
       "crimes_96                       0.001126\n",
       "crimes_95_ratio                -0.007104\n",
       "crimes_96_ratio                -0.005809\n",
       "entrepreneurs_ratio             0.000359\n",
       "Num_Type_Credit                 0.097831\n",
       "Num_Type_VYBER                  0.289894\n",
       "Num_Type_Withdrawal             0.148744\n",
       "Num_Op_Null                     0.105099\n",
       "Num_Op_Remittances              0.138515\n",
       "Num_Op_Collection              -0.049348\n",
       "Num_Op_CashCredit               0.100260\n",
       "Num_Op_WithdrawalCash           0.154878\n",
       "Num_Op_WithdrawalCreditCard    -0.026640\n",
       "Num_Sym_Null                    0.184153\n",
       "Num_Sym_Null2                   0.042442\n",
       "Num_Sym_Pension                -0.168091\n",
       "Num_Sym_Insurance               0.051555\n",
       "Num_Sym_NegBal                  0.103637\n",
       "Num_Sym_Household              -0.043761\n",
       "Num_Sym_Statement               0.002992\n",
       "Num_Sym_IntDep                  0.105099\n",
       "Num_Sym_LoanPayment             0.822798\n",
       "Balance_in_negative             0.072159\n",
       "account_disponent_bin           0.020877\n",
       "account_loan_bin                1.000000\n",
       "Name: account_loan_bin, Length: 63, dtype: float64"
      ]
     },
     "execution_count": 105,
     "metadata": {},
     "output_type": "execute_result"
    }
   ],
   "source": [
    "#Vemos que tener un préstamo corrleciona de forma muy significativa con las variables:Ord_Loan_Payment,Num_Sym_LoanPayment y \n",
    "#Ord_Loan_Payment_amount\n",
    "df_original.corr()[\"account_loan_bin\"]"
   ]
  },
  {
   "cell_type": "code",
   "execution_count": 106,
   "metadata": {},
   "outputs": [],
   "source": [
    "X1=X.drop(['Num_Sym_LoanPayment'], axis=1)\n"
   ]
  },
  {
   "cell_type": "code",
   "execution_count": 107,
   "metadata": {},
   "outputs": [],
   "source": [
    "X1_train, X1_test, y1_train, y1_test = train_test_split(X1, y, test_size=0.2, random_state=0)"
   ]
  },
  {
   "cell_type": "code",
   "execution_count": 108,
   "metadata": {},
   "outputs": [
    {
     "data": {
      "text/plain": [
       "DecisionTreeClassifier(class_weight=None, criterion='gini', max_depth=3,\n",
       "            max_features=None, max_leaf_nodes=None,\n",
       "            min_impurity_decrease=0.0, min_impurity_split=None,\n",
       "            min_samples_leaf=20, min_samples_split=2,\n",
       "            min_weight_fraction_leaf=0.0, presort=False, random_state=None,\n",
       "            splitter='best')"
      ]
     },
     "execution_count": 108,
     "metadata": {},
     "output_type": "execute_result"
    }
   ],
   "source": [
    "clf_tree.fit(X1_train,y1_train)"
   ]
  },
  {
   "cell_type": "code",
   "execution_count": 109,
   "metadata": {},
   "outputs": [
    {
     "name": "stdout",
     "output_type": "stream",
     "text": [
      "El accuracy es 99.55555555555556 %\n",
      "La precision es 97.9816513761468 %\n",
      "El recall es 99.07235621521335 %\n",
      "Matriz de confusión [[3050   11]\n",
      " [   5  534]]\n"
     ]
    }
   ],
   "source": [
    "#Predicción en el conjunto de train con un árbol de prueba\n",
    "print(\"El accuracy es\",accuracy_score(y1_train,clf_tree.predict(X1_train))*100,\"%\")\n",
    "print(\"La precision es\",precision_score(y1_train,clf_tree.predict(X1_train))*100, \"%\")\n",
    "print(\"El recall es\",recall_score(y1_train,clf_tree.predict(X1_train))*100,\"%\")\n",
    "print(\"Matriz de confusión\",confusion_matrix(y1_train,clf_tree.predict(X1_train)))"
   ]
  },
  {
   "cell_type": "code",
   "execution_count": 110,
   "metadata": {},
   "outputs": [
    {
     "name": "stdout",
     "output_type": "stream",
     "text": [
      "El accuracy es 99.22222222222223 %\n",
      "La precision es 97.22222222222221 %\n",
      "El recall es 97.9020979020979 %\n",
      "Matriz de confusión [[753   4]\n",
      " [  3 140]]\n"
     ]
    }
   ],
   "source": [
    "#Predicción en el conjunto de test con un árbol de prueba\n",
    "print(\"El accuracy es\",accuracy_score(y1_test,clf_tree.predict(X1_test))*100,\"%\")\n",
    "print(\"La precision es\",precision_score(y1_test,clf_tree.predict(X1_test))*100, \"%\")\n",
    "print(\"El recall es\",recall_score(y1_test,clf_tree.predict(X1_test))*100,\"%\")\n",
    "print(\"Matriz de confusión\",confusion_matrix(y1_test,clf_tree.predict(X1_test)))"
   ]
  },
  {
   "cell_type": "code",
   "execution_count": 111,
   "metadata": {},
   "outputs": [
    {
     "data": {
      "image/png": "[encoded data removed]",
      "text/plain": [
       "<IPython.core.display.Image object>"
      ]
     },
     "execution_count": 111,
     "metadata": {},
     "output_type": "execute_result"
    }
   ],
   "source": [
    "#Vamos a dibujar el modelo\n",
    "from io import StringIO\n",
    "from IPython.display import Image\n",
    "from sklearn.tree import export_graphviz\n",
    "import pydotplus\n",
    "dot_data = StringIO()\n",
    "export_graphviz(clf_tree, out_file=dot_data,filled=True, rounded=True,\n",
    "                special_characters=True)\n",
    "graph = pydotplus.graph_from_dot_data(dot_data.getvalue())\n",
    "Image(graph.create_png())"
   ]
  },
  {
   "cell_type": "code",
   "execution_count": 112,
   "metadata": {},
   "outputs": [
    {
     "data": {
      "text/plain": [
       "'Ord_Loan_Payment'"
      ]
     },
     "execution_count": 112,
     "metadata": {},
     "output_type": "execute_result"
    }
   ],
   "source": [
    "X1_train.columns[8]"
   ]
  },
  {
   "cell_type": "code",
   "execution_count": 113,
   "metadata": {},
   "outputs": [],
   "source": [
    "#El modelo continua dando unos resultados espectaculares, vamos a ver que sucede si eliminamos la variable 'Ord_Loan_Payment'"
   ]
  },
  {
   "cell_type": "code",
   "execution_count": 114,
   "metadata": {},
   "outputs": [
    {
     "data": {
      "text/plain": [
       "(4500, 57)"
      ]
     },
     "execution_count": 114,
     "metadata": {},
     "output_type": "execute_result"
    }
   ],
   "source": [
    "X2=X1.drop(['Ord_Loan_Payment'], axis=1)\n",
    "X2.shape"
   ]
  },
  {
   "cell_type": "code",
   "execution_count": 115,
   "metadata": {},
   "outputs": [],
   "source": [
    "X2_train, X2_test, y2_train, y2_test = train_test_split(X2, y, test_size=0.2, random_state=0)"
   ]
  },
  {
   "cell_type": "code",
   "execution_count": 116,
   "metadata": {},
   "outputs": [
    {
     "data": {
      "text/plain": [
       "DecisionTreeClassifier(class_weight=None, criterion='gini', max_depth=3,\n",
       "            max_features=None, max_leaf_nodes=None,\n",
       "            min_impurity_decrease=0.0, min_impurity_split=None,\n",
       "            min_samples_leaf=20, min_samples_split=2,\n",
       "            min_weight_fraction_leaf=0.0, presort=False, random_state=None,\n",
       "            splitter='best')"
      ]
     },
     "execution_count": 116,
     "metadata": {},
     "output_type": "execute_result"
    }
   ],
   "source": [
    "clf_tree.fit(X2_train,y2_train)"
   ]
  },
  {
   "cell_type": "code",
   "execution_count": 117,
   "metadata": {},
   "outputs": [
    {
     "name": "stdout",
     "output_type": "stream",
     "text": [
      "El accuracy es 99.55555555555556 %\n",
      "La precision es 97.9816513761468 %\n",
      "El recall es 99.07235621521335 %\n",
      "Matriz de confusión [[3050   11]\n",
      " [   5  534]]\n"
     ]
    }
   ],
   "source": [
    "#Predicción en el conjunto de train con un árbol de prueba\n",
    "print(\"El accuracy es\",accuracy_score(y2_train,clf_tree.predict(X2_train))*100,\"%\")\n",
    "print(\"La precision es\",precision_score(y2_train,clf_tree.predict(X2_train))*100, \"%\")\n",
    "print(\"El recall es\",recall_score(y2_train,clf_tree.predict(X2_train))*100,\"%\")\n",
    "print(\"Matriz de confusión\",confusion_matrix(y2_train,clf_tree.predict(X2_train)))"
   ]
  },
  {
   "cell_type": "code",
   "execution_count": 118,
   "metadata": {},
   "outputs": [
    {
     "name": "stdout",
     "output_type": "stream",
     "text": [
      "El accuracy es 99.22222222222223 %\n",
      "La precision es 97.22222222222221 %\n",
      "El recall es 97.9020979020979 %\n",
      "Matriz de confusión [[753   4]\n",
      " [  3 140]]\n"
     ]
    }
   ],
   "source": [
    "#Predicción en el conjunto de test con un árbol de prueba\n",
    "print(\"El accuracy es\",accuracy_score(y2_test,clf_tree.predict(X2_test))*100,\"%\")\n",
    "print(\"La precision es\",precision_score(y2_test,clf_tree.predict(X2_test))*100, \"%\")\n",
    "print(\"El recall es\",recall_score(y2_test,clf_tree.predict(X2_test))*100,\"%\")\n",
    "print(\"Matriz de confusión\",confusion_matrix(y2_test,clf_tree.predict(X2_test)))"
   ]
  },
  {
   "cell_type": "code",
   "execution_count": 119,
   "metadata": {},
   "outputs": [
    {
     "data": {
      "image/png": "[encoded data removed]",
      "text/plain": [
       "<IPython.core.display.Image object>"
      ]
     },
     "execution_count": 119,
     "metadata": {},
     "output_type": "execute_result"
    }
   ],
   "source": [
    "#Vamos a dibujar el modelo\n",
    "from io import StringIO\n",
    "from IPython.display import Image\n",
    "from sklearn.tree import export_graphviz\n",
    "import pydotplus\n",
    "dot_data = StringIO()\n",
    "export_graphviz(clf_tree, out_file=dot_data,filled=True, rounded=True,\n",
    "                special_characters=True)\n",
    "graph = pydotplus.graph_from_dot_data(dot_data.getvalue())\n",
    "Image(graph.create_png())"
   ]
  },
  {
   "cell_type": "code",
   "execution_count": 120,
   "metadata": {},
   "outputs": [
    {
     "data": {
      "text/plain": [
       "'Ord_Loan_Payment_amount'"
      ]
     },
     "execution_count": 120,
     "metadata": {},
     "output_type": "execute_result"
    }
   ],
   "source": [
    "X2_train.columns[36]"
   ]
  },
  {
   "cell_type": "code",
   "execution_count": 121,
   "metadata": {},
   "outputs": [
    {
     "data": {
      "text/plain": [
       "(4500, 56)"
      ]
     },
     "execution_count": 121,
     "metadata": {},
     "output_type": "execute_result"
    }
   ],
   "source": [
    "#El modelo continua dando unos resultados espectaculares, vamos a ver que sucede si eliminamos la variable 'Ord_Loan_Payment_amount'\n",
    "X3=X2.drop(['Ord_Loan_Payment_amount'], axis=1)\n",
    "X3.shape"
   ]
  },
  {
   "cell_type": "code",
   "execution_count": 122,
   "metadata": {},
   "outputs": [],
   "source": [
    "X3_train, X3_test, y3_train, y3_test = train_test_split(X3, y, test_size=0.2, random_state=0)"
   ]
  },
  {
   "cell_type": "code",
   "execution_count": 123,
   "metadata": {},
   "outputs": [
    {
     "data": {
      "text/plain": [
       "DecisionTreeClassifier(class_weight=None, criterion='gini', max_depth=3,\n",
       "            max_features=None, max_leaf_nodes=None,\n",
       "            min_impurity_decrease=0.0, min_impurity_split=None,\n",
       "            min_samples_leaf=20, min_samples_split=2,\n",
       "            min_weight_fraction_leaf=0.0, presort=False, random_state=None,\n",
       "            splitter='best')"
      ]
     },
     "execution_count": 123,
     "metadata": {},
     "output_type": "execute_result"
    }
   ],
   "source": [
    "clf_tree.fit(X3_train,y3_train)"
   ]
  },
  {
   "cell_type": "code",
   "execution_count": 124,
   "metadata": {},
   "outputs": [
    {
     "name": "stdout",
     "output_type": "stream",
     "text": [
      "El accuracy es 90.94444444444446 %\n",
      "La precision es 69.25858951175407 %\n",
      "El recall es 71.05751391465677 %\n",
      "Matriz de confusión [[2891  170]\n",
      " [ 156  383]]\n"
     ]
    }
   ],
   "source": [
    "#Predicción en el conjunto de train con un árbol de prueba\n",
    "print(\"El accuracy es\",accuracy_score(y3_train,clf_tree.predict(X3_train))*100,\"%\")\n",
    "print(\"La precision es\",precision_score(y3_train,clf_tree.predict(X3_train))*100, \"%\")\n",
    "print(\"El recall es\",recall_score(y3_train,clf_tree.predict(X3_train))*100,\"%\")\n",
    "print(\"Matriz de confusión\",confusion_matrix(y3_train,clf_tree.predict(X3_train)))"
   ]
  },
  {
   "cell_type": "code",
   "execution_count": 125,
   "metadata": {},
   "outputs": [
    {
     "name": "stdout",
     "output_type": "stream",
     "text": [
      "El accuracy es 89.11111111111111 %\n",
      "La precision es 65.73426573426573 %\n",
      "El recall es 65.73426573426573 %\n"
     ]
    }
   ],
   "source": [
    "#Predicción en el conjunto de test con un árbol de prueba\n",
    "print(\"El accuracy es\",accuracy_score(y3_test,clf_tree.predict(X3_test))*100,\"%\")\n",
    "print(\"La precision es\",precision_score(y3_test,clf_tree.predict(X3_test))*100, \"%\")\n",
    "print(\"El recall es\",recall_score(y3_test,clf_tree.predict(X3_test))*100,\"%\")"
   ]
  },
  {
   "cell_type": "code",
   "execution_count": 126,
   "metadata": {},
   "outputs": [
    {
     "data": {
      "image/png": "[encoded data removed]",
      "text/plain": [
       "<IPython.core.display.Image object>"
      ]
     },
     "execution_count": 126,
     "metadata": {},
     "output_type": "execute_result"
    }
   ],
   "source": [
    "#Vamos a dibujar el modelo\n",
    "from io import StringIO\n",
    "from IPython.display import Image\n",
    "from sklearn.tree import export_graphviz\n",
    "import pydotplus\n",
    "dot_data = StringIO()\n",
    "export_graphviz(clf_tree, out_file=dot_data,filled=True, rounded=True,\n",
    "                special_characters=True)\n",
    "graph = pydotplus.graph_from_dot_data(dot_data.getvalue())\n",
    "Image(graph.create_png())"
   ]
  },
  {
   "cell_type": "code",
   "execution_count": 127,
   "metadata": {},
   "outputs": [
    {
     "name": "stdout",
     "output_type": "stream",
     "text": [
      "Num_Type_VYBER\n",
      "Num_Op_WithdrawalCash\n",
      "Num_Op_Remittances\n",
      "Num_Op_CashCredit\n",
      "Ord_Leasing_amount\n"
     ]
    }
   ],
   "source": [
    "print(X3_train.columns[19])\n",
    "print(X3_train.columns[25])\n",
    "print(X3_train.columns[22])\n",
    "print(X3_train.columns[24])\n",
    "print(X3_train.columns[36])"
   ]
  },
  {
   "cell_type": "code",
   "execution_count": null,
   "metadata": {},
   "outputs": [],
   "source": []
  }
 ],
 "metadata": {
  "kernelspec": {
   "display_name": "Python 3",
   "language": "python",
   "name": "python3"
  },
  "language_info": {
   "codemirror_mode": {
    "name": "ipython",
    "version": 3
   },
   "file_extension": ".py",
   "mimetype": "text/x-python",
   "name": "python",
   "nbconvert_exporter": "python",
   "pygments_lexer": "ipython3",
   "version": "3.7.3"
  }
 },
 "nbformat": 4,
 "nbformat_minor": 2
}
