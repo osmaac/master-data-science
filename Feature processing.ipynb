{
 "cells": [
  {
   "cell_type": "markdown",
   "metadata": {},
   "source": [
    "# Feature preprocessing and Engineering para predecir si contrata préstamo o no"
   ]
  },
  {
   "cell_type": "code",
   "execution_count": 2,
   "metadata": {},
   "outputs": [
    {
     "name": "stdout",
     "output_type": "stream",
     "text": [
      "Populating the interactive namespace from numpy and matplotlib\n"
     ]
    }
   ],
   "source": [
    "import pandas as pd\n",
    "%pylab inline\n",
    "import numpy as np\n",
    "import matplotlib.pyplot as plt\n",
    "import seaborn as sns\n",
    "import os"
   ]
  },
  {
   "cell_type": "code",
   "execution_count": 44,
   "metadata": {},
   "outputs": [],
   "source": [
    "# Cargamos los datos que hemos procesado en R\n",
    "df_original= pd.read_csv(\"C://Master Data Science/Master en Data Science/TFM/Transacciones de Banco Checo/DFTenenciaProductos2.csv\")"
   ]
  },
  {
   "cell_type": "code",
   "execution_count": 45,
   "metadata": {},
   "outputs": [
    {
     "data": {
      "text/plain": [
       "Index(['client_id_disponent', 'sex_disponent', 'birth_disponent', 'loan_id',\n",
       "       'Date_Loan', 'Amount_Loan', 'Duration_Loan', 'Payments_Loan', 'status',\n",
       "       'Status_Loan', 'owner_card_date'],\n",
       "      dtype='object')"
      ]
     },
     "execution_count": 45,
     "metadata": {},
     "output_type": "execute_result"
    }
   ],
   "source": [
    "df_original.columns[df.isnull().sum()!=0]"
   ]
  },
  {
   "cell_type": "code",
   "execution_count": 42,
   "metadata": {
    "collapsed": true
   },
   "outputs": [
    {
     "name": "stdout",
     "output_type": "stream",
     "text": [
      "owner_card_date                 object\n",
      "district_name                   object\n",
      "region                          object\n",
      "num_inhabitants                  int64\n",
      "municip < 499                    int64\n",
      "municip 500-1999                 int64\n",
      "municip 2000-9999                int64\n",
      "municip > 10000                  int64\n",
      "num_cities                       int64\n",
      "ratio_urban_inhabitants        float64\n",
      "avg_salary                       int64\n",
      "unemployment_rate_95           float64\n",
      "unemployment_rate_96           float64\n",
      "entrepreneurs                    int64\n",
      "crimes_95                      float64\n",
      "crimes_96                        int64\n",
      "crimes_95_ratio                float64\n",
      "crimes_96_ratio                float64\n",
      "entrepreneurs_ratio            float64\n",
      "Num_Type_Credit                  int64\n",
      "Num_Type_VYBER                   int64\n",
      "Num_Type_Withdrawal              int64\n",
      "Num_Op_Null                      int64\n",
      "Num_Op_Remittances               int64\n",
      "Num_Op_Collection                int64\n",
      "Num_Op_CashCredit                int64\n",
      "Num_Op_WithdrawalCash            int64\n",
      "Num_Op_WithdrawalCreditCard      int64\n",
      "Num_Sym_Null                     int64\n",
      "Num_Sym_Null2                    int64\n",
      "Num_Sym_Pension                  int64\n",
      "Num_Sym_Insurance                int64\n",
      "Num_Sym_NegBal                   int64\n",
      "Num_Sym_Household                int64\n",
      "Num_Sym_Statement                int64\n",
      "Num_Sym_IntDep                   int64\n",
      "Num_Sym_LoanPayment              int64\n",
      "Balance_in_negative              int64\n",
      "account_disponent_bin            int64\n",
      "account_loan_bin                 int64\n",
      "dtype: object\n"
     ]
    }
   ],
   "source": [
    "print(df_original.iloc[:,30:70].dtypes)"
   ]
  },
  {
   "cell_type": "code",
   "execution_count": null,
   "metadata": {},
   "outputs": [],
   "source": [
    "#Variables que no consideramos: district_id, account_id, client_id_owner,disponent_card_type (no aporta información), \n",
    "#district_name (podemos plantearnos incluirla en el futuro), region, client_id_disponent\n",
    "\n",
    "#Variables que no consideramos por ser relativas a los préstamos: loan_id, Date_Loan, Amount_Loan, Duration_Loan,Payments_Loan,\n",
    "#status, Status_Loan\n",
    "\n",
    "#De momento no consideramos las fechas: Date_Account, birth_owner, Date_Loan\n",
    "\n",
    "#account_disponent_bin no la incluimos porque es la variable a predecir"
   ]
  },
  {
   "cell_type": "code",
   "execution_count": 53,
   "metadata": {},
   "outputs": [
    {
     "data": {
      "text/plain": [
       "Index(['frequency', 'Date_Account', 'sex_owner', 'birth_owner',\n",
       "       'sex_disponent', 'birth_disponent', 'Date_Loan', 'status',\n",
       "       'Status_Loan', 'owner_card_date', 'district_name', 'region'],\n",
       "      dtype='object')"
      ]
     },
     "execution_count": 53,
     "metadata": {},
     "output_type": "execute_result"
    }
   ],
   "source": [
    "df_original.columns[df.dtypes==object] "
   ]
  },
  {
   "cell_type": "code",
   "execution_count": 47,
   "metadata": {},
   "outputs": [],
   "source": [
    "y_original=df_original[\"account_loan_bin\"]"
   ]
  },
  {
   "cell_type": "code",
   "execution_count": 84,
   "metadata": {},
   "outputs": [],
   "source": [
    "df_num=df[['Ord_Insurance', 'Ord_Insurance_amount', 'Ord_Household_Payment',\n",
    "       'Ord_Household_Payment_amount', 'Ord_Loan_Payment', 'Ord_Leasing',\n",
    "       'Ord_Empty', 'Ord_Empty_amount', \n",
    "       'num_inhabitants', 'municip < 499',\n",
    "       'municip 500-1999', 'municip 2000-9999', 'municip > 10000',\n",
    "       'num_cities', 'avg_salary', 'entrepreneurs', 'crimes_96',\n",
    "       'Num_Type_Credit', 'Num_Type_VYBER', 'Num_Type_Withdrawal',\n",
    "       'Num_Op_Null', 'Num_Op_Remittances', 'Num_Op_Collection',\n",
    "       'Num_Op_CashCredit', 'Num_Op_WithdrawalCash',\n",
    "       'Num_Op_WithdrawalCreditCard', 'Num_Sym_Null', 'Num_Sym_Null2',\n",
    "       'Num_Sym_Pension', 'Num_Sym_Insurance', 'Num_Sym_NegBal',\n",
    "       'Num_Sym_Household', 'Num_Sym_Statement', 'Num_Sym_IntDep',\n",
    "       'Num_Sym_LoanPayment', 'Balance_in_negative','Ord_Loan_Payment_amount', 'Ord_Leasing_amount',\n",
    "       'ratio_urban_inhabitants', 'unemployment_rate_95',\n",
    "       'unemployment_rate_96', 'crimes_95', 'crimes_95_ratio',\n",
    "       'crimes_96_ratio', 'entrepreneurs_ratio' ]] "
   ]
  },
  {
   "cell_type": "code",
   "execution_count": 58,
   "metadata": {},
   "outputs": [],
   "source": [
    "df_cat=df[['account_disponent_bin','frequency', 'sex_owner', 'owner_card_type',\n",
    "       'sex_disponent']]"
   ]
  },
  {
   "cell_type": "code",
   "execution_count": 64,
   "metadata": {
    "collapsed": true
   },
   "outputs": [
    {
     "name": "stderr",
     "output_type": "stream",
     "text": [
      "C:\\Users\\osmaa\\Anaconda3\\lib\\site-packages\\ipykernel_launcher.py:1: SettingWithCopyWarning: \n",
      "A value is trying to be set on a copy of a slice from a DataFrame.\n",
      "Try using .loc[row_indexer,col_indexer] = value instead\n",
      "\n",
      "See the caveats in the documentation: http://pandas.pydata.org/pandas-docs/stable/indexing.html#indexing-view-versus-copy\n",
      "  \"\"\"Entry point for launching an IPython kernel.\n"
     ]
    }
   ],
   "source": [
    "#Ponemos la variable como string para poder obtener dummy\n",
    "df_cat[\"owner_card_type\"]=df_cat[\"owner_card_type\"].astype(str)"
   ]
  },
  {
   "cell_type": "code",
   "execution_count": 67,
   "metadata": {
    "collapsed": true
   },
   "outputs": [
    {
     "name": "stderr",
     "output_type": "stream",
     "text": [
      "C:\\Users\\osmaa\\Anaconda3\\lib\\site-packages\\ipykernel_launcher.py:2: SettingWithCopyWarning: \n",
      "A value is trying to be set on a copy of a slice from a DataFrame.\n",
      "Try using .loc[row_indexer,col_indexer] = value instead\n",
      "\n",
      "See the caveats in the documentation: http://pandas.pydata.org/pandas-docs/stable/indexing.html#indexing-view-versus-copy\n",
      "  \n"
     ]
    }
   ],
   "source": [
    "#Ponemos la variable como string para poder obtener dummy\n",
    "df_cat[\"account_disponent_bin\"]=df_cat[\"account_disponent_bin\"].astype(str)"
   ]
  },
  {
   "cell_type": "code",
   "execution_count": 68,
   "metadata": {},
   "outputs": [],
   "source": [
    "df_cat_dumm=pd.get_dummies(df_cat)"
   ]
  },
  {
   "cell_type": "code",
   "execution_count": 69,
   "metadata": {},
   "outputs": [
    {
     "name": "stdout",
     "output_type": "stream",
     "text": [
      "Index(['account_disponent_bin_0', 'account_disponent_bin_1',\n",
      "       'frequency_After_trans', 'frequency_Monthly', 'frequency_Weekly',\n",
      "       'sex_owner_F', 'sex_owner_M', 'owner_card_type_0', 'owner_card_type_1',\n",
      "       'owner_card_type_2', 'owner_card_type_3', 'sex_disponent_F',\n",
      "       'sex_disponent_M'],\n",
      "      dtype='object')\n"
     ]
    }
   ],
   "source": [
    "print(df_cat_dumm.columns)"
   ]
  },
  {
   "cell_type": "code",
   "execution_count": 70,
   "metadata": {},
   "outputs": [],
   "source": [
    "df = pd.concat([df_num, df_cat_dumm], axis = 1)"
   ]
  },
  {
   "cell_type": "code",
   "execution_count": 85,
   "metadata": {
    "collapsed": true
   },
   "outputs": [
    {
     "data": {
      "text/html": [
       "<div>\n",
       "<style scoped>\n",
       "    .dataframe tbody tr th:only-of-type {\n",
       "        vertical-align: middle;\n",
       "    }\n",
       "\n",
       "    .dataframe tbody tr th {\n",
       "        vertical-align: top;\n",
       "    }\n",
       "\n",
       "    .dataframe thead th {\n",
       "        text-align: right;\n",
       "    }\n",
       "</style>\n",
       "<table border=\"1\" class=\"dataframe\">\n",
       "  <thead>\n",
       "    <tr style=\"text-align: right;\">\n",
       "      <th></th>\n",
       "      <th>account_loan_bin</th>\n",
       "      <th>Ord_Insurance</th>\n",
       "      <th>Ord_Insurance_amount</th>\n",
       "      <th>Ord_Household_Payment</th>\n",
       "      <th>Ord_Household_Payment_amount</th>\n",
       "      <th>Ord_Loan_Payment</th>\n",
       "      <th>Ord_Leasing</th>\n",
       "      <th>Ord_Empty</th>\n",
       "      <th>Ord_Empty_amount</th>\n",
       "      <th>owner_card_type</th>\n",
       "      <th>...</th>\n",
       "      <th>frequency_Monthly</th>\n",
       "      <th>frequency_Weekly</th>\n",
       "      <th>sex_owner_F</th>\n",
       "      <th>sex_owner_M</th>\n",
       "      <th>owner_card_type_0</th>\n",
       "      <th>owner_card_type_1</th>\n",
       "      <th>owner_card_type_2</th>\n",
       "      <th>owner_card_type_3</th>\n",
       "      <th>sex_disponent_F</th>\n",
       "      <th>sex_disponent_M</th>\n",
       "    </tr>\n",
       "  </thead>\n",
       "  <tbody>\n",
       "    <tr>\n",
       "      <th>account_loan_bin</th>\n",
       "      <td>1.000000</td>\n",
       "      <td>0.064054</td>\n",
       "      <td>0.066203</td>\n",
       "      <td>-0.115103</td>\n",
       "      <td>0.065080</td>\n",
       "      <td>0.970807</td>\n",
       "      <td>-0.121020</td>\n",
       "      <td>0.076714</td>\n",
       "      <td>0.098316</td>\n",
       "      <td>0.033378</td>\n",
       "      <td>...</td>\n",
       "      <td>-0.171711</td>\n",
       "      <td>0.150660</td>\n",
       "      <td>0.016568</td>\n",
       "      <td>-0.016568</td>\n",
       "      <td>-0.054115</td>\n",
       "      <td>0.058062</td>\n",
       "      <td>0.011919</td>\n",
       "      <td>-0.003424</td>\n",
       "      <td>0.005798</td>\n",
       "      <td>0.022147</td>\n",
       "    </tr>\n",
       "    <tr>\n",
       "      <th>Ord_Insurance</th>\n",
       "      <td>0.064054</td>\n",
       "      <td>1.000000</td>\n",
       "      <td>0.567956</td>\n",
       "      <td>0.168059</td>\n",
       "      <td>0.001855</td>\n",
       "      <td>0.070023</td>\n",
       "      <td>0.025191</td>\n",
       "      <td>0.698053</td>\n",
       "      <td>0.269705</td>\n",
       "      <td>-0.007453</td>\n",
       "      <td>...</td>\n",
       "      <td>-0.020067</td>\n",
       "      <td>0.017235</td>\n",
       "      <td>0.021981</td>\n",
       "      <td>-0.021981</td>\n",
       "      <td>0.004237</td>\n",
       "      <td>0.000178</td>\n",
       "      <td>-0.002006</td>\n",
       "      <td>-0.008349</td>\n",
       "      <td>0.007756</td>\n",
       "      <td>0.009177</td>\n",
       "    </tr>\n",
       "    <tr>\n",
       "      <th>Ord_Insurance_amount</th>\n",
       "      <td>0.066203</td>\n",
       "      <td>0.567956</td>\n",
       "      <td>1.000000</td>\n",
       "      <td>0.095450</td>\n",
       "      <td>-0.040834</td>\n",
       "      <td>0.077277</td>\n",
       "      <td>0.042197</td>\n",
       "      <td>0.349677</td>\n",
       "      <td>0.184721</td>\n",
       "      <td>-0.007641</td>\n",
       "      <td>...</td>\n",
       "      <td>-0.049739</td>\n",
       "      <td>0.036498</td>\n",
       "      <td>-0.022466</td>\n",
       "      <td>0.022466</td>\n",
       "      <td>-0.000758</td>\n",
       "      <td>0.008483</td>\n",
       "      <td>-0.000372</td>\n",
       "      <td>-0.014979</td>\n",
       "      <td>0.028694</td>\n",
       "      <td>-0.013187</td>\n",
       "    </tr>\n",
       "    <tr>\n",
       "      <th>Ord_Household_Payment</th>\n",
       "      <td>-0.115103</td>\n",
       "      <td>0.168059</td>\n",
       "      <td>0.095450</td>\n",
       "      <td>1.000000</td>\n",
       "      <td>0.523637</td>\n",
       "      <td>-0.128155</td>\n",
       "      <td>-0.097967</td>\n",
       "      <td>0.259851</td>\n",
       "      <td>0.185304</td>\n",
       "      <td>-0.134117</td>\n",
       "      <td>...</td>\n",
       "      <td>0.147837</td>\n",
       "      <td>-0.122341</td>\n",
       "      <td>-0.009489</td>\n",
       "      <td>0.009489</td>\n",
       "      <td>0.117869</td>\n",
       "      <td>-0.068745</td>\n",
       "      <td>-0.028177</td>\n",
       "      <td>-0.106367</td>\n",
       "      <td>0.103931</td>\n",
       "      <td>0.068390</td>\n",
       "    </tr>\n",
       "    <tr>\n",
       "      <th>Ord_Household_Payment_amount</th>\n",
       "      <td>0.065080</td>\n",
       "      <td>0.001855</td>\n",
       "      <td>-0.040834</td>\n",
       "      <td>0.523637</td>\n",
       "      <td>1.000000</td>\n",
       "      <td>0.058743</td>\n",
       "      <td>0.042773</td>\n",
       "      <td>-0.000584</td>\n",
       "      <td>-0.077847</td>\n",
       "      <td>0.019457</td>\n",
       "      <td>...</td>\n",
       "      <td>-0.026559</td>\n",
       "      <td>0.009805</td>\n",
       "      <td>-0.025357</td>\n",
       "      <td>0.025357</td>\n",
       "      <td>-0.053454</td>\n",
       "      <td>0.072750</td>\n",
       "      <td>-0.002490</td>\n",
       "      <td>-0.023025</td>\n",
       "      <td>0.052737</td>\n",
       "      <td>0.039149</td>\n",
       "    </tr>\n",
       "    <tr>\n",
       "      <th>Ord_Loan_Payment</th>\n",
       "      <td>0.970807</td>\n",
       "      <td>0.070023</td>\n",
       "      <td>0.077277</td>\n",
       "      <td>-0.128155</td>\n",
       "      <td>0.058743</td>\n",
       "      <td>1.000000</td>\n",
       "      <td>-0.124659</td>\n",
       "      <td>0.078837</td>\n",
       "      <td>0.095569</td>\n",
       "      <td>0.030054</td>\n",
       "      <td>...</td>\n",
       "      <td>-0.180789</td>\n",
       "      <td>0.158784</td>\n",
       "      <td>0.009950</td>\n",
       "      <td>-0.009950</td>\n",
       "      <td>-0.050070</td>\n",
       "      <td>0.054955</td>\n",
       "      <td>0.008677</td>\n",
       "      <td>-0.003794</td>\n",
       "      <td>0.017166</td>\n",
       "      <td>0.018896</td>\n",
       "    </tr>\n",
       "    <tr>\n",
       "      <th>Ord_Leasing</th>\n",
       "      <td>-0.121020</td>\n",
       "      <td>0.025191</td>\n",
       "      <td>0.042197</td>\n",
       "      <td>-0.097967</td>\n",
       "      <td>0.042773</td>\n",
       "      <td>-0.124659</td>\n",
       "      <td>1.000000</td>\n",
       "      <td>0.019396</td>\n",
       "      <td>0.037639</td>\n",
       "      <td>0.035345</td>\n",
       "      <td>...</td>\n",
       "      <td>-0.133977</td>\n",
       "      <td>0.088992</td>\n",
       "      <td>-0.025729</td>\n",
       "      <td>0.025729</td>\n",
       "      <td>-0.051407</td>\n",
       "      <td>0.052400</td>\n",
       "      <td>0.008075</td>\n",
       "      <td>0.004813</td>\n",
       "      <td>-0.017341</td>\n",
       "      <td>-0.019200</td>\n",
       "    </tr>\n",
       "    <tr>\n",
       "      <th>Ord_Empty</th>\n",
       "      <td>0.076714</td>\n",
       "      <td>0.698053</td>\n",
       "      <td>0.349677</td>\n",
       "      <td>0.259851</td>\n",
       "      <td>-0.000584</td>\n",
       "      <td>0.078837</td>\n",
       "      <td>0.019396</td>\n",
       "      <td>1.000000</td>\n",
       "      <td>0.634805</td>\n",
       "      <td>0.012334</td>\n",
       "      <td>...</td>\n",
       "      <td>-0.004633</td>\n",
       "      <td>0.008137</td>\n",
       "      <td>0.033976</td>\n",
       "      <td>-0.033976</td>\n",
       "      <td>-0.020238</td>\n",
       "      <td>0.020964</td>\n",
       "      <td>0.008992</td>\n",
       "      <td>-0.003335</td>\n",
       "      <td>-0.005430</td>\n",
       "      <td>0.039880</td>\n",
       "    </tr>\n",
       "    <tr>\n",
       "      <th>Ord_Empty_amount</th>\n",
       "      <td>0.098316</td>\n",
       "      <td>0.269705</td>\n",
       "      <td>0.184721</td>\n",
       "      <td>0.185304</td>\n",
       "      <td>-0.077847</td>\n",
       "      <td>0.095569</td>\n",
       "      <td>0.037639</td>\n",
       "      <td>0.634805</td>\n",
       "      <td>1.000000</td>\n",
       "      <td>0.025062</td>\n",
       "      <td>...</td>\n",
       "      <td>-0.034630</td>\n",
       "      <td>0.029918</td>\n",
       "      <td>-0.002383</td>\n",
       "      <td>0.002383</td>\n",
       "      <td>-0.035580</td>\n",
       "      <td>0.031626</td>\n",
       "      <td>0.026435</td>\n",
       "      <td>-0.003722</td>\n",
       "      <td>-0.015333</td>\n",
       "      <td>0.015941</td>\n",
       "    </tr>\n",
       "    <tr>\n",
       "      <th>owner_card_type</th>\n",
       "      <td>0.033378</td>\n",
       "      <td>-0.007453</td>\n",
       "      <td>-0.007641</td>\n",
       "      <td>-0.134117</td>\n",
       "      <td>0.019457</td>\n",
       "      <td>0.030054</td>\n",
       "      <td>0.035345</td>\n",
       "      <td>0.012334</td>\n",
       "      <td>0.025062</td>\n",
       "      <td>1.000000</td>\n",
       "      <td>...</td>\n",
       "      <td>-0.042500</td>\n",
       "      <td>0.046883</td>\n",
       "      <td>-0.015600</td>\n",
       "      <td>0.015600</td>\n",
       "      <td>-0.860575</td>\n",
       "      <td>0.450772</td>\n",
       "      <td>0.367822</td>\n",
       "      <td>0.751884</td>\n",
       "      <td>-0.021996</td>\n",
       "      <td>-0.027357</td>\n",
       "    </tr>\n",
       "    <tr>\n",
       "      <th>num_inhabitants</th>\n",
       "      <td>0.003314</td>\n",
       "      <td>0.012225</td>\n",
       "      <td>0.033876</td>\n",
       "      <td>-0.002669</td>\n",
       "      <td>0.000818</td>\n",
       "      <td>-0.001476</td>\n",
       "      <td>0.018472</td>\n",
       "      <td>0.010672</td>\n",
       "      <td>0.031134</td>\n",
       "      <td>0.030940</td>\n",
       "      <td>...</td>\n",
       "      <td>-0.005755</td>\n",
       "      <td>0.014263</td>\n",
       "      <td>0.003339</td>\n",
       "      <td>-0.003339</td>\n",
       "      <td>-0.028899</td>\n",
       "      <td>0.020614</td>\n",
       "      <td>-0.003035</td>\n",
       "      <td>0.026349</td>\n",
       "      <td>0.011596</td>\n",
       "      <td>0.010408</td>\n",
       "    </tr>\n",
       "    <tr>\n",
       "      <th>municip &lt; 499</th>\n",
       "      <td>0.001654</td>\n",
       "      <td>-0.002463</td>\n",
       "      <td>-0.015813</td>\n",
       "      <td>-0.017565</td>\n",
       "      <td>-0.010575</td>\n",
       "      <td>-0.000627</td>\n",
       "      <td>0.010343</td>\n",
       "      <td>-0.000193</td>\n",
       "      <td>-0.019911</td>\n",
       "      <td>0.006346</td>\n",
       "      <td>...</td>\n",
       "      <td>0.004246</td>\n",
       "      <td>-0.014983</td>\n",
       "      <td>-0.000530</td>\n",
       "      <td>0.000530</td>\n",
       "      <td>-0.006932</td>\n",
       "      <td>0.010449</td>\n",
       "      <td>-0.023710</td>\n",
       "      <td>0.013321</td>\n",
       "      <td>-0.006885</td>\n",
       "      <td>-0.008556</td>\n",
       "    </tr>\n",
       "    <tr>\n",
       "      <th>municip 500-1999</th>\n",
       "      <td>0.017401</td>\n",
       "      <td>-0.001085</td>\n",
       "      <td>-0.019132</td>\n",
       "      <td>0.005425</td>\n",
       "      <td>0.001394</td>\n",
       "      <td>0.018303</td>\n",
       "      <td>0.014602</td>\n",
       "      <td>-0.011087</td>\n",
       "      <td>-0.019837</td>\n",
       "      <td>-0.027747</td>\n",
       "      <td>...</td>\n",
       "      <td>-0.009155</td>\n",
       "      <td>-0.017626</td>\n",
       "      <td>-0.009240</td>\n",
       "      <td>0.009240</td>\n",
       "      <td>0.029732</td>\n",
       "      <td>-0.024656</td>\n",
       "      <td>0.001278</td>\n",
       "      <td>-0.018758</td>\n",
       "      <td>0.000562</td>\n",
       "      <td>-0.009363</td>\n",
       "    </tr>\n",
       "    <tr>\n",
       "      <th>municip 2000-9999</th>\n",
       "      <td>0.010580</td>\n",
       "      <td>-0.002248</td>\n",
       "      <td>-0.013640</td>\n",
       "      <td>0.012904</td>\n",
       "      <td>0.007472</td>\n",
       "      <td>0.014124</td>\n",
       "      <td>-0.000293</td>\n",
       "      <td>-0.018260</td>\n",
       "      <td>-0.016872</td>\n",
       "      <td>-0.029213</td>\n",
       "      <td>...</td>\n",
       "      <td>0.004686</td>\n",
       "      <td>-0.024601</td>\n",
       "      <td>0.005531</td>\n",
       "      <td>-0.005531</td>\n",
       "      <td>0.029350</td>\n",
       "      <td>-0.024015</td>\n",
       "      <td>0.008277</td>\n",
       "      <td>-0.024670</td>\n",
       "      <td>-0.008584</td>\n",
       "      <td>-0.012463</td>\n",
       "    </tr>\n",
       "    <tr>\n",
       "      <th>municip &gt; 10000</th>\n",
       "      <td>-0.003839</td>\n",
       "      <td>-0.004667</td>\n",
       "      <td>-0.006640</td>\n",
       "      <td>0.012744</td>\n",
       "      <td>-0.008210</td>\n",
       "      <td>-0.005044</td>\n",
       "      <td>-0.002601</td>\n",
       "      <td>-0.016022</td>\n",
       "      <td>-0.012044</td>\n",
       "      <td>-0.019763</td>\n",
       "      <td>...</td>\n",
       "      <td>0.009860</td>\n",
       "      <td>-0.010402</td>\n",
       "      <td>-0.002939</td>\n",
       "      <td>0.002939</td>\n",
       "      <td>0.020812</td>\n",
       "      <td>-0.016889</td>\n",
       "      <td>0.000630</td>\n",
       "      <td>-0.013663</td>\n",
       "      <td>0.009214</td>\n",
       "      <td>-0.015396</td>\n",
       "    </tr>\n",
       "    <tr>\n",
       "      <th>num_cities</th>\n",
       "      <td>-0.018489</td>\n",
       "      <td>-0.015563</td>\n",
       "      <td>-0.021818</td>\n",
       "      <td>-0.001660</td>\n",
       "      <td>-0.005190</td>\n",
       "      <td>-0.012627</td>\n",
       "      <td>0.008955</td>\n",
       "      <td>-0.025485</td>\n",
       "      <td>-0.023574</td>\n",
       "      <td>-0.011756</td>\n",
       "      <td>...</td>\n",
       "      <td>0.009816</td>\n",
       "      <td>-0.020394</td>\n",
       "      <td>0.005176</td>\n",
       "      <td>-0.005176</td>\n",
       "      <td>0.009940</td>\n",
       "      <td>-0.006823</td>\n",
       "      <td>0.004986</td>\n",
       "      <td>-0.012689</td>\n",
       "      <td>-0.015762</td>\n",
       "      <td>-0.008417</td>\n",
       "    </tr>\n",
       "    <tr>\n",
       "      <th>avg_salary</th>\n",
       "      <td>-0.003893</td>\n",
       "      <td>0.007699</td>\n",
       "      <td>0.032973</td>\n",
       "      <td>-0.003486</td>\n",
       "      <td>-0.006198</td>\n",
       "      <td>-0.006443</td>\n",
       "      <td>0.019863</td>\n",
       "      <td>0.006549</td>\n",
       "      <td>0.026524</td>\n",
       "      <td>0.024958</td>\n",
       "      <td>...</td>\n",
       "      <td>0.003599</td>\n",
       "      <td>0.010710</td>\n",
       "      <td>0.010323</td>\n",
       "      <td>-0.010323</td>\n",
       "      <td>-0.026352</td>\n",
       "      <td>0.021841</td>\n",
       "      <td>-0.002812</td>\n",
       "      <td>0.017967</td>\n",
       "      <td>0.006604</td>\n",
       "      <td>0.005631</td>\n",
       "    </tr>\n",
       "    <tr>\n",
       "      <th>entrepreneurs</th>\n",
       "      <td>0.001879</td>\n",
       "      <td>-0.002541</td>\n",
       "      <td>0.020201</td>\n",
       "      <td>-0.014294</td>\n",
       "      <td>-0.008265</td>\n",
       "      <td>0.001630</td>\n",
       "      <td>0.019387</td>\n",
       "      <td>0.004072</td>\n",
       "      <td>0.018984</td>\n",
       "      <td>0.036207</td>\n",
       "      <td>...</td>\n",
       "      <td>-0.022420</td>\n",
       "      <td>0.027646</td>\n",
       "      <td>0.014185</td>\n",
       "      <td>-0.014185</td>\n",
       "      <td>-0.033606</td>\n",
       "      <td>0.023694</td>\n",
       "      <td>-0.003200</td>\n",
       "      <td>0.030938</td>\n",
       "      <td>0.002771</td>\n",
       "      <td>0.018116</td>\n",
       "    </tr>\n",
       "    <tr>\n",
       "      <th>crimes_96</th>\n",
       "      <td>0.001126</td>\n",
       "      <td>0.011361</td>\n",
       "      <td>0.032739</td>\n",
       "      <td>-0.000841</td>\n",
       "      <td>0.002300</td>\n",
       "      <td>-0.003221</td>\n",
       "      <td>0.019611</td>\n",
       "      <td>0.011068</td>\n",
       "      <td>0.033320</td>\n",
       "      <td>0.034505</td>\n",
       "      <td>...</td>\n",
       "      <td>-0.008356</td>\n",
       "      <td>0.017852</td>\n",
       "      <td>0.004064</td>\n",
       "      <td>-0.004064</td>\n",
       "      <td>-0.033282</td>\n",
       "      <td>0.024787</td>\n",
       "      <td>-0.003468</td>\n",
       "      <td>0.028229</td>\n",
       "      <td>0.010755</td>\n",
       "      <td>0.012028</td>\n",
       "    </tr>\n",
       "    <tr>\n",
       "      <th>Num_Type_Credit</th>\n",
       "      <td>0.097831</td>\n",
       "      <td>0.018630</td>\n",
       "      <td>0.016377</td>\n",
       "      <td>-0.076547</td>\n",
       "      <td>-0.028035</td>\n",
       "      <td>0.072373</td>\n",
       "      <td>0.066967</td>\n",
       "      <td>0.032327</td>\n",
       "      <td>0.039057</td>\n",
       "      <td>0.055589</td>\n",
       "      <td>...</td>\n",
       "      <td>-0.068806</td>\n",
       "      <td>0.049912</td>\n",
       "      <td>0.000650</td>\n",
       "      <td>-0.000650</td>\n",
       "      <td>-0.033722</td>\n",
       "      <td>-0.004744</td>\n",
       "      <td>0.050703</td>\n",
       "      <td>0.045868</td>\n",
       "      <td>-0.031919</td>\n",
       "      <td>0.007852</td>\n",
       "    </tr>\n",
       "    <tr>\n",
       "      <th>Num_Type_VYBER</th>\n",
       "      <td>0.289894</td>\n",
       "      <td>-0.015231</td>\n",
       "      <td>0.045100</td>\n",
       "      <td>-0.306281</td>\n",
       "      <td>-0.038905</td>\n",
       "      <td>0.279666</td>\n",
       "      <td>0.248503</td>\n",
       "      <td>-0.035184</td>\n",
       "      <td>0.028643</td>\n",
       "      <td>0.127434</td>\n",
       "      <td>...</td>\n",
       "      <td>-0.366225</td>\n",
       "      <td>0.310532</td>\n",
       "      <td>-0.007227</td>\n",
       "      <td>0.007227</td>\n",
       "      <td>-0.154587</td>\n",
       "      <td>0.131874</td>\n",
       "      <td>0.054779</td>\n",
       "      <td>0.042010</td>\n",
       "      <td>-0.015885</td>\n",
       "      <td>-0.020827</td>\n",
       "    </tr>\n",
       "    <tr>\n",
       "      <th>Num_Type_Withdrawal</th>\n",
       "      <td>0.148744</td>\n",
       "      <td>0.352348</td>\n",
       "      <td>0.190376</td>\n",
       "      <td>0.219776</td>\n",
       "      <td>0.098799</td>\n",
       "      <td>0.123500</td>\n",
       "      <td>0.016833</td>\n",
       "      <td>0.411262</td>\n",
       "      <td>0.263204</td>\n",
       "      <td>0.046269</td>\n",
       "      <td>...</td>\n",
       "      <td>-0.017445</td>\n",
       "      <td>0.016330</td>\n",
       "      <td>0.013456</td>\n",
       "      <td>-0.013456</td>\n",
       "      <td>-0.049292</td>\n",
       "      <td>0.027788</td>\n",
       "      <td>0.063454</td>\n",
       "      <td>0.005890</td>\n",
       "      <td>-0.003068</td>\n",
       "      <td>0.039560</td>\n",
       "    </tr>\n",
       "    <tr>\n",
       "      <th>Num_Op_Null</th>\n",
       "      <td>0.105099</td>\n",
       "      <td>0.013536</td>\n",
       "      <td>0.015057</td>\n",
       "      <td>-0.044682</td>\n",
       "      <td>-0.029139</td>\n",
       "      <td>0.081490</td>\n",
       "      <td>0.044042</td>\n",
       "      <td>0.028109</td>\n",
       "      <td>0.038653</td>\n",
       "      <td>0.035456</td>\n",
       "      <td>...</td>\n",
       "      <td>-0.038685</td>\n",
       "      <td>0.026983</td>\n",
       "      <td>0.015201</td>\n",
       "      <td>-0.015201</td>\n",
       "      <td>-0.020977</td>\n",
       "      <td>-0.008383</td>\n",
       "      <td>0.055110</td>\n",
       "      <td>0.020928</td>\n",
       "      <td>-0.027840</td>\n",
       "      <td>0.022120</td>\n",
       "    </tr>\n",
       "    <tr>\n",
       "      <th>Num_Op_Remittances</th>\n",
       "      <td>0.138515</td>\n",
       "      <td>0.594396</td>\n",
       "      <td>0.315733</td>\n",
       "      <td>0.483788</td>\n",
       "      <td>0.177603</td>\n",
       "      <td>0.121119</td>\n",
       "      <td>-0.028136</td>\n",
       "      <td>0.683960</td>\n",
       "      <td>0.412227</td>\n",
       "      <td>-0.031793</td>\n",
       "      <td>...</td>\n",
       "      <td>0.029454</td>\n",
       "      <td>-0.019807</td>\n",
       "      <td>0.020789</td>\n",
       "      <td>-0.020789</td>\n",
       "      <td>0.027596</td>\n",
       "      <td>-0.019203</td>\n",
       "      <td>0.011147</td>\n",
       "      <td>-0.032594</td>\n",
       "      <td>0.028382</td>\n",
       "      <td>0.063915</td>\n",
       "    </tr>\n",
       "    <tr>\n",
       "      <th>Num_Op_Collection</th>\n",
       "      <td>-0.049348</td>\n",
       "      <td>-0.062964</td>\n",
       "      <td>-0.036869</td>\n",
       "      <td>0.254361</td>\n",
       "      <td>-0.074809</td>\n",
       "      <td>-0.059799</td>\n",
       "      <td>-0.070749</td>\n",
       "      <td>-0.112961</td>\n",
       "      <td>-0.107424</td>\n",
       "      <td>-0.126932</td>\n",
       "      <td>...</td>\n",
       "      <td>0.003029</td>\n",
       "      <td>0.006032</td>\n",
       "      <td>0.007416</td>\n",
       "      <td>-0.007416</td>\n",
       "      <td>0.148659</td>\n",
       "      <td>-0.128183</td>\n",
       "      <td>-0.024817</td>\n",
       "      <td>-0.059512</td>\n",
       "      <td>0.081339</td>\n",
       "      <td>0.045821</td>\n",
       "    </tr>\n",
       "    <tr>\n",
       "      <th>Num_Op_CashCredit</th>\n",
       "      <td>0.100260</td>\n",
       "      <td>0.060232</td>\n",
       "      <td>0.038154</td>\n",
       "      <td>-0.251620</td>\n",
       "      <td>0.031931</td>\n",
       "      <td>0.087782</td>\n",
       "      <td>0.112302</td>\n",
       "      <td>0.104056</td>\n",
       "      <td>0.102637</td>\n",
       "      <td>0.140943</td>\n",
       "      <td>...</td>\n",
       "      <td>-0.071660</td>\n",
       "      <td>0.047014</td>\n",
       "      <td>-0.014129</td>\n",
       "      <td>0.014129</td>\n",
       "      <td>-0.135231</td>\n",
       "      <td>0.087269</td>\n",
       "      <td>0.051021</td>\n",
       "      <td>0.090561</td>\n",
       "      <td>-0.081877</td>\n",
       "      <td>-0.035184</td>\n",
       "    </tr>\n",
       "    <tr>\n",
       "      <th>Num_Op_WithdrawalCash</th>\n",
       "      <td>0.154878</td>\n",
       "      <td>0.023655</td>\n",
       "      <td>0.025154</td>\n",
       "      <td>-0.121831</td>\n",
       "      <td>-0.009304</td>\n",
       "      <td>0.129961</td>\n",
       "      <td>0.086879</td>\n",
       "      <td>0.030259</td>\n",
       "      <td>0.049277</td>\n",
       "      <td>0.058296</td>\n",
       "      <td>...</td>\n",
       "      <td>-0.108938</td>\n",
       "      <td>0.090282</td>\n",
       "      <td>0.002967</td>\n",
       "      <td>-0.002967</td>\n",
       "      <td>-0.058527</td>\n",
       "      <td>0.029382</td>\n",
       "      <td>0.077786</td>\n",
       "      <td>0.012308</td>\n",
       "      <td>-0.030478</td>\n",
       "      <td>0.005071</td>\n",
       "    </tr>\n",
       "    <tr>\n",
       "      <th>Num_Op_WithdrawalCreditCard</th>\n",
       "      <td>-0.026640</td>\n",
       "      <td>-0.003631</td>\n",
       "      <td>0.000278</td>\n",
       "      <td>-0.061037</td>\n",
       "      <td>0.010712</td>\n",
       "      <td>-0.031417</td>\n",
       "      <td>0.004860</td>\n",
       "      <td>0.027734</td>\n",
       "      <td>0.017623</td>\n",
       "      <td>0.565548</td>\n",
       "      <td>...</td>\n",
       "      <td>0.019720</td>\n",
       "      <td>-0.017246</td>\n",
       "      <td>-0.012996</td>\n",
       "      <td>0.012996</td>\n",
       "      <td>-0.610484</td>\n",
       "      <td>0.470111</td>\n",
       "      <td>0.178368</td>\n",
       "      <td>0.297125</td>\n",
       "      <td>-0.014209</td>\n",
       "      <td>-0.026344</td>\n",
       "    </tr>\n",
       "    <tr>\n",
       "      <th>Num_Sym_Null</th>\n",
       "      <td>0.184153</td>\n",
       "      <td>0.079259</td>\n",
       "      <td>0.048467</td>\n",
       "      <td>-0.208694</td>\n",
       "      <td>-0.003331</td>\n",
       "      <td>0.162542</td>\n",
       "      <td>0.120516</td>\n",
       "      <td>0.112209</td>\n",
       "      <td>0.092742</td>\n",
       "      <td>0.151566</td>\n",
       "      <td>...</td>\n",
       "      <td>-0.133761</td>\n",
       "      <td>0.110086</td>\n",
       "      <td>-0.006225</td>\n",
       "      <td>0.006225</td>\n",
       "      <td>-0.153052</td>\n",
       "      <td>0.100292</td>\n",
       "      <td>0.087852</td>\n",
       "      <td>0.075843</td>\n",
       "      <td>-0.054652</td>\n",
       "      <td>-0.004186</td>\n",
       "    </tr>\n",
       "    <tr>\n",
       "      <th>Num_Sym_Null2</th>\n",
       "      <td>0.042442</td>\n",
       "      <td>0.561731</td>\n",
       "      <td>0.277658</td>\n",
       "      <td>0.320263</td>\n",
       "      <td>-0.005619</td>\n",
       "      <td>0.035266</td>\n",
       "      <td>0.015133</td>\n",
       "      <td>0.800675</td>\n",
       "      <td>0.519661</td>\n",
       "      <td>0.007726</td>\n",
       "      <td>...</td>\n",
       "      <td>0.011873</td>\n",
       "      <td>-0.010771</td>\n",
       "      <td>0.033326</td>\n",
       "      <td>-0.033326</td>\n",
       "      <td>-0.009161</td>\n",
       "      <td>0.004505</td>\n",
       "      <td>0.019313</td>\n",
       "      <td>-0.003483</td>\n",
       "      <td>0.002805</td>\n",
       "      <td>0.033758</td>\n",
       "    </tr>\n",
       "    <tr>\n",
       "      <th>Num_Sym_Pension</th>\n",
       "      <td>-0.168091</td>\n",
       "      <td>-0.145627</td>\n",
       "      <td>-0.082710</td>\n",
       "      <td>0.324435</td>\n",
       "      <td>-0.053056</td>\n",
       "      <td>-0.173146</td>\n",
       "      <td>-0.113882</td>\n",
       "      <td>-0.225166</td>\n",
       "      <td>-0.160569</td>\n",
       "      <td>-0.149131</td>\n",
       "      <td>...</td>\n",
       "      <td>0.112430</td>\n",
       "      <td>-0.094400</td>\n",
       "      <td>0.002259</td>\n",
       "      <td>-0.002259</td>\n",
       "      <td>0.170327</td>\n",
       "      <td>-0.142156</td>\n",
       "      <td>-0.034867</td>\n",
       "      <td>-0.072571</td>\n",
       "      <td>0.094869</td>\n",
       "      <td>0.043724</td>\n",
       "    </tr>\n",
       "    <tr>\n",
       "      <th>Num_Sym_Insurance</th>\n",
       "      <td>0.051555</td>\n",
       "      <td>0.857898</td>\n",
       "      <td>0.494048</td>\n",
       "      <td>0.143572</td>\n",
       "      <td>0.007260</td>\n",
       "      <td>0.048241</td>\n",
       "      <td>0.032005</td>\n",
       "      <td>0.610373</td>\n",
       "      <td>0.241934</td>\n",
       "      <td>0.000307</td>\n",
       "      <td>...</td>\n",
       "      <td>-0.010198</td>\n",
       "      <td>0.007971</td>\n",
       "      <td>0.029751</td>\n",
       "      <td>-0.029751</td>\n",
       "      <td>-0.001701</td>\n",
       "      <td>0.002635</td>\n",
       "      <td>-0.000218</td>\n",
       "      <td>-0.001262</td>\n",
       "      <td>0.000887</td>\n",
       "      <td>0.008139</td>\n",
       "    </tr>\n",
       "    <tr>\n",
       "      <th>Num_Sym_NegBal</th>\n",
       "      <td>0.103637</td>\n",
       "      <td>-0.015929</td>\n",
       "      <td>0.007954</td>\n",
       "      <td>-0.227273</td>\n",
       "      <td>-0.146123</td>\n",
       "      <td>0.101175</td>\n",
       "      <td>0.022669</td>\n",
       "      <td>-0.043601</td>\n",
       "      <td>-0.020218</td>\n",
       "      <td>-0.037521</td>\n",
       "      <td>...</td>\n",
       "      <td>-0.052854</td>\n",
       "      <td>0.033501</td>\n",
       "      <td>0.014490</td>\n",
       "      <td>-0.014490</td>\n",
       "      <td>0.045704</td>\n",
       "      <td>-0.039926</td>\n",
       "      <td>-0.012146</td>\n",
       "      <td>-0.013718</td>\n",
       "      <td>-0.054557</td>\n",
       "      <td>-0.054567</td>\n",
       "    </tr>\n",
       "    <tr>\n",
       "      <th>Num_Sym_Household</th>\n",
       "      <td>-0.043761</td>\n",
       "      <td>0.139904</td>\n",
       "      <td>0.084759</td>\n",
       "      <td>0.584418</td>\n",
       "      <td>0.382529</td>\n",
       "      <td>-0.062660</td>\n",
       "      <td>-0.043663</td>\n",
       "      <td>0.219121</td>\n",
       "      <td>0.177096</td>\n",
       "      <td>-0.060986</td>\n",
       "      <td>...</td>\n",
       "      <td>0.078880</td>\n",
       "      <td>-0.062672</td>\n",
       "      <td>-0.002899</td>\n",
       "      <td>0.002899</td>\n",
       "      <td>0.054417</td>\n",
       "      <td>-0.038815</td>\n",
       "      <td>0.018691</td>\n",
       "      <td>-0.059793</td>\n",
       "      <td>0.037597</td>\n",
       "      <td>0.050252</td>\n",
       "    </tr>\n",
       "    <tr>\n",
       "      <th>Num_Sym_Statement</th>\n",
       "      <td>0.002992</td>\n",
       "      <td>0.022518</td>\n",
       "      <td>0.010269</td>\n",
       "      <td>0.058774</td>\n",
       "      <td>0.007608</td>\n",
       "      <td>-0.026227</td>\n",
       "      <td>0.032126</td>\n",
       "      <td>0.037513</td>\n",
       "      <td>0.033618</td>\n",
       "      <td>0.020368</td>\n",
       "      <td>...</td>\n",
       "      <td>-0.010539</td>\n",
       "      <td>0.008781</td>\n",
       "      <td>0.001925</td>\n",
       "      <td>-0.001925</td>\n",
       "      <td>-0.009446</td>\n",
       "      <td>-0.012760</td>\n",
       "      <td>0.049726</td>\n",
       "      <td>0.007880</td>\n",
       "      <td>-0.005149</td>\n",
       "      <td>0.025840</td>\n",
       "    </tr>\n",
       "    <tr>\n",
       "      <th>Num_Sym_IntDep</th>\n",
       "      <td>0.105099</td>\n",
       "      <td>0.013536</td>\n",
       "      <td>0.015057</td>\n",
       "      <td>-0.044682</td>\n",
       "      <td>-0.029139</td>\n",
       "      <td>0.081490</td>\n",
       "      <td>0.044042</td>\n",
       "      <td>0.028109</td>\n",
       "      <td>0.038653</td>\n",
       "      <td>0.035456</td>\n",
       "      <td>...</td>\n",
       "      <td>-0.038685</td>\n",
       "      <td>0.026983</td>\n",
       "      <td>0.015201</td>\n",
       "      <td>-0.015201</td>\n",
       "      <td>-0.020977</td>\n",
       "      <td>-0.008383</td>\n",
       "      <td>0.055110</td>\n",
       "      <td>0.020928</td>\n",
       "      <td>-0.027840</td>\n",
       "      <td>0.022120</td>\n",
       "    </tr>\n",
       "    <tr>\n",
       "      <th>Num_Sym_LoanPayment</th>\n",
       "      <td>0.822798</td>\n",
       "      <td>0.036527</td>\n",
       "      <td>0.048133</td>\n",
       "      <td>-0.092915</td>\n",
       "      <td>0.041612</td>\n",
       "      <td>0.798778</td>\n",
       "      <td>-0.099575</td>\n",
       "      <td>0.053388</td>\n",
       "      <td>0.088898</td>\n",
       "      <td>0.026961</td>\n",
       "      <td>...</td>\n",
       "      <td>-0.170907</td>\n",
       "      <td>0.149377</td>\n",
       "      <td>0.001575</td>\n",
       "      <td>-0.001575</td>\n",
       "      <td>-0.038228</td>\n",
       "      <td>0.037756</td>\n",
       "      <td>0.008957</td>\n",
       "      <td>0.003687</td>\n",
       "      <td>0.003912</td>\n",
       "      <td>0.031321</td>\n",
       "    </tr>\n",
       "    <tr>\n",
       "      <th>Balance_in_negative</th>\n",
       "      <td>0.072159</td>\n",
       "      <td>-0.002550</td>\n",
       "      <td>0.008210</td>\n",
       "      <td>-0.184873</td>\n",
       "      <td>-0.117889</td>\n",
       "      <td>0.072069</td>\n",
       "      <td>0.013252</td>\n",
       "      <td>-0.025574</td>\n",
       "      <td>-0.014036</td>\n",
       "      <td>-0.034885</td>\n",
       "      <td>...</td>\n",
       "      <td>-0.037654</td>\n",
       "      <td>0.020057</td>\n",
       "      <td>0.009432</td>\n",
       "      <td>-0.009432</td>\n",
       "      <td>0.043955</td>\n",
       "      <td>-0.039307</td>\n",
       "      <td>-0.012757</td>\n",
       "      <td>-0.010531</td>\n",
       "      <td>-0.046148</td>\n",
       "      <td>-0.045855</td>\n",
       "    </tr>\n",
       "    <tr>\n",
       "      <th>Ord_Loan_Payment_amount</th>\n",
       "      <td>0.831433</td>\n",
       "      <td>0.046004</td>\n",
       "      <td>0.057569</td>\n",
       "      <td>-0.140985</td>\n",
       "      <td>0.040531</td>\n",
       "      <td>0.866789</td>\n",
       "      <td>-0.108053</td>\n",
       "      <td>0.055220</td>\n",
       "      <td>0.085707</td>\n",
       "      <td>0.047005</td>\n",
       "      <td>...</td>\n",
       "      <td>-0.183423</td>\n",
       "      <td>0.157532</td>\n",
       "      <td>0.012156</td>\n",
       "      <td>-0.012156</td>\n",
       "      <td>-0.058617</td>\n",
       "      <td>0.051974</td>\n",
       "      <td>0.016981</td>\n",
       "      <td>0.014959</td>\n",
       "      <td>0.026968</td>\n",
       "      <td>0.018884</td>\n",
       "    </tr>\n",
       "    <tr>\n",
       "      <th>Ord_Leasing_amount</th>\n",
       "      <td>-0.105988</td>\n",
       "      <td>0.015871</td>\n",
       "      <td>0.034773</td>\n",
       "      <td>-0.102364</td>\n",
       "      <td>0.032731</td>\n",
       "      <td>-0.109175</td>\n",
       "      <td>0.875789</td>\n",
       "      <td>0.012125</td>\n",
       "      <td>0.031319</td>\n",
       "      <td>0.047492</td>\n",
       "      <td>...</td>\n",
       "      <td>-0.138582</td>\n",
       "      <td>0.101108</td>\n",
       "      <td>-0.028807</td>\n",
       "      <td>0.028807</td>\n",
       "      <td>-0.060710</td>\n",
       "      <td>0.056610</td>\n",
       "      <td>0.009064</td>\n",
       "      <td>0.016609</td>\n",
       "      <td>-0.004822</td>\n",
       "      <td>-0.027232</td>\n",
       "    </tr>\n",
       "    <tr>\n",
       "      <th>ratio_urban_inhabitants</th>\n",
       "      <td>-0.021942</td>\n",
       "      <td>0.008496</td>\n",
       "      <td>0.023610</td>\n",
       "      <td>-0.009630</td>\n",
       "      <td>-0.012448</td>\n",
       "      <td>-0.024324</td>\n",
       "      <td>0.001169</td>\n",
       "      <td>0.006699</td>\n",
       "      <td>0.015787</td>\n",
       "      <td>0.017150</td>\n",
       "      <td>...</td>\n",
       "      <td>0.013384</td>\n",
       "      <td>0.003506</td>\n",
       "      <td>0.005310</td>\n",
       "      <td>-0.005310</td>\n",
       "      <td>-0.018054</td>\n",
       "      <td>0.014557</td>\n",
       "      <td>-0.000086</td>\n",
       "      <td>0.011681</td>\n",
       "      <td>0.003046</td>\n",
       "      <td>0.007080</td>\n",
       "    </tr>\n",
       "    <tr>\n",
       "      <th>unemployment_rate_95</th>\n",
       "      <td>0.004317</td>\n",
       "      <td>0.012157</td>\n",
       "      <td>-0.007899</td>\n",
       "      <td>0.011114</td>\n",
       "      <td>0.003782</td>\n",
       "      <td>0.002865</td>\n",
       "      <td>-0.008415</td>\n",
       "      <td>0.007656</td>\n",
       "      <td>-0.004588</td>\n",
       "      <td>-0.016588</td>\n",
       "      <td>...</td>\n",
       "      <td>0.000062</td>\n",
       "      <td>-0.003582</td>\n",
       "      <td>-0.005646</td>\n",
       "      <td>0.005646</td>\n",
       "      <td>0.016138</td>\n",
       "      <td>-0.015756</td>\n",
       "      <td>0.020090</td>\n",
       "      <td>-0.020639</td>\n",
       "      <td>0.000210</td>\n",
       "      <td>-0.014822</td>\n",
       "    </tr>\n",
       "    <tr>\n",
       "      <th>unemployment_rate_96</th>\n",
       "      <td>0.006302</td>\n",
       "      <td>0.013148</td>\n",
       "      <td>-0.008403</td>\n",
       "      <td>0.009605</td>\n",
       "      <td>0.003981</td>\n",
       "      <td>0.004691</td>\n",
       "      <td>-0.010744</td>\n",
       "      <td>0.007500</td>\n",
       "      <td>-0.002706</td>\n",
       "      <td>-0.014345</td>\n",
       "      <td>...</td>\n",
       "      <td>-0.004256</td>\n",
       "      <td>-0.000304</td>\n",
       "      <td>-0.005365</td>\n",
       "      <td>0.005365</td>\n",
       "      <td>0.013311</td>\n",
       "      <td>-0.014165</td>\n",
       "      <td>0.025694</td>\n",
       "      <td>-0.021837</td>\n",
       "      <td>-0.001213</td>\n",
       "      <td>-0.013334</td>\n",
       "    </tr>\n",
       "    <tr>\n",
       "      <th>crimes_95</th>\n",
       "      <td>0.001258</td>\n",
       "      <td>0.011663</td>\n",
       "      <td>0.032964</td>\n",
       "      <td>-0.001476</td>\n",
       "      <td>0.001647</td>\n",
       "      <td>-0.003070</td>\n",
       "      <td>0.019302</td>\n",
       "      <td>0.011152</td>\n",
       "      <td>0.032882</td>\n",
       "      <td>0.033997</td>\n",
       "      <td>...</td>\n",
       "      <td>-0.007911</td>\n",
       "      <td>0.017533</td>\n",
       "      <td>0.003738</td>\n",
       "      <td>-0.003738</td>\n",
       "      <td>-0.032631</td>\n",
       "      <td>0.024087</td>\n",
       "      <td>-0.003098</td>\n",
       "      <td>0.027870</td>\n",
       "      <td>0.011067</td>\n",
       "      <td>0.011828</td>\n",
       "    </tr>\n",
       "    <tr>\n",
       "      <th>crimes_95_ratio</th>\n",
       "      <td>-0.007104</td>\n",
       "      <td>0.013440</td>\n",
       "      <td>0.029622</td>\n",
       "      <td>0.003388</td>\n",
       "      <td>-0.005780</td>\n",
       "      <td>-0.008014</td>\n",
       "      <td>0.018968</td>\n",
       "      <td>0.010110</td>\n",
       "      <td>0.027390</td>\n",
       "      <td>0.025504</td>\n",
       "      <td>...</td>\n",
       "      <td>-0.003568</td>\n",
       "      <td>0.021780</td>\n",
       "      <td>0.004588</td>\n",
       "      <td>-0.004588</td>\n",
       "      <td>-0.026296</td>\n",
       "      <td>0.020614</td>\n",
       "      <td>0.000377</td>\n",
       "      <td>0.017798</td>\n",
       "      <td>0.007852</td>\n",
       "      <td>0.006732</td>\n",
       "    </tr>\n",
       "    <tr>\n",
       "      <th>crimes_96_ratio</th>\n",
       "      <td>-0.005809</td>\n",
       "      <td>0.012740</td>\n",
       "      <td>0.030488</td>\n",
       "      <td>0.006243</td>\n",
       "      <td>-0.000722</td>\n",
       "      <td>-0.007739</td>\n",
       "      <td>0.021754</td>\n",
       "      <td>0.010263</td>\n",
       "      <td>0.030364</td>\n",
       "      <td>0.025981</td>\n",
       "      <td>...</td>\n",
       "      <td>-0.007737</td>\n",
       "      <td>0.023880</td>\n",
       "      <td>0.005316</td>\n",
       "      <td>-0.005316</td>\n",
       "      <td>-0.027883</td>\n",
       "      <td>0.023608</td>\n",
       "      <td>-0.003472</td>\n",
       "      <td>0.018406</td>\n",
       "      <td>0.007229</td>\n",
       "      <td>0.007877</td>\n",
       "    </tr>\n",
       "    <tr>\n",
       "      <th>entrepreneurs_ratio</th>\n",
       "      <td>0.000359</td>\n",
       "      <td>-0.022217</td>\n",
       "      <td>-0.026442</td>\n",
       "      <td>0.000440</td>\n",
       "      <td>0.008837</td>\n",
       "      <td>0.006303</td>\n",
       "      <td>-0.020199</td>\n",
       "      <td>-0.006979</td>\n",
       "      <td>-0.008655</td>\n",
       "      <td>0.001707</td>\n",
       "      <td>...</td>\n",
       "      <td>-0.023219</td>\n",
       "      <td>0.022632</td>\n",
       "      <td>0.000349</td>\n",
       "      <td>-0.000349</td>\n",
       "      <td>-0.006716</td>\n",
       "      <td>0.007620</td>\n",
       "      <td>0.010965</td>\n",
       "      <td>-0.008692</td>\n",
       "      <td>-0.009133</td>\n",
       "      <td>0.008283</td>\n",
       "    </tr>\n",
       "    <tr>\n",
       "      <th>account_disponent_bin_0</th>\n",
       "      <td>-0.020877</td>\n",
       "      <td>-0.012667</td>\n",
       "      <td>-0.011683</td>\n",
       "      <td>-0.129002</td>\n",
       "      <td>-0.068777</td>\n",
       "      <td>-0.026979</td>\n",
       "      <td>0.027337</td>\n",
       "      <td>-0.025689</td>\n",
       "      <td>-0.000395</td>\n",
       "      <td>0.036917</td>\n",
       "      <td>...</td>\n",
       "      <td>-0.017863</td>\n",
       "      <td>0.010890</td>\n",
       "      <td>-0.006318</td>\n",
       "      <td>0.006318</td>\n",
       "      <td>-0.030015</td>\n",
       "      <td>0.016337</td>\n",
       "      <td>-0.000025</td>\n",
       "      <td>0.035071</td>\n",
       "      <td>-0.670379</td>\n",
       "      <td>-0.666123</td>\n",
       "    </tr>\n",
       "    <tr>\n",
       "      <th>account_disponent_bin_1</th>\n",
       "      <td>0.020877</td>\n",
       "      <td>0.012667</td>\n",
       "      <td>0.011683</td>\n",
       "      <td>0.129002</td>\n",
       "      <td>0.068777</td>\n",
       "      <td>0.026979</td>\n",
       "      <td>-0.027337</td>\n",
       "      <td>0.025689</td>\n",
       "      <td>0.000395</td>\n",
       "      <td>-0.036917</td>\n",
       "      <td>...</td>\n",
       "      <td>0.017863</td>\n",
       "      <td>-0.010890</td>\n",
       "      <td>0.006318</td>\n",
       "      <td>-0.006318</td>\n",
       "      <td>0.030015</td>\n",
       "      <td>-0.016337</td>\n",
       "      <td>0.000025</td>\n",
       "      <td>-0.035071</td>\n",
       "      <td>0.670379</td>\n",
       "      <td>0.666123</td>\n",
       "    </tr>\n",
       "    <tr>\n",
       "      <th>frequency_After_trans</th>\n",
       "      <td>0.077996</td>\n",
       "      <td>0.009702</td>\n",
       "      <td>0.033875</td>\n",
       "      <td>-0.078795</td>\n",
       "      <td>0.033382</td>\n",
       "      <td>0.081868</td>\n",
       "      <td>0.105964</td>\n",
       "      <td>-0.004327</td>\n",
       "      <td>0.016467</td>\n",
       "      <td>0.004152</td>\n",
       "      <td>...</td>\n",
       "      <td>-0.513877</td>\n",
       "      <td>-0.034480</td>\n",
       "      <td>0.010524</td>\n",
       "      <td>-0.010524</td>\n",
       "      <td>-0.006133</td>\n",
       "      <td>0.001682</td>\n",
       "      <td>0.024607</td>\n",
       "      <td>-0.008816</td>\n",
       "      <td>-0.010716</td>\n",
       "      <td>-0.010223</td>\n",
       "    </tr>\n",
       "    <tr>\n",
       "      <th>frequency_Monthly</th>\n",
       "      <td>-0.171711</td>\n",
       "      <td>-0.020067</td>\n",
       "      <td>-0.049739</td>\n",
       "      <td>0.147837</td>\n",
       "      <td>-0.026559</td>\n",
       "      <td>-0.180789</td>\n",
       "      <td>-0.133977</td>\n",
       "      <td>-0.004633</td>\n",
       "      <td>-0.034630</td>\n",
       "      <td>-0.042500</td>\n",
       "      <td>...</td>\n",
       "      <td>1.000000</td>\n",
       "      <td>-0.839635</td>\n",
       "      <td>0.007458</td>\n",
       "      <td>-0.007458</td>\n",
       "      <td>0.042572</td>\n",
       "      <td>-0.024573</td>\n",
       "      <td>-0.039777</td>\n",
       "      <td>-0.015720</td>\n",
       "      <td>0.000969</td>\n",
       "      <td>0.022961</td>\n",
       "    </tr>\n",
       "    <tr>\n",
       "      <th>frequency_Weekly</th>\n",
       "      <td>0.150660</td>\n",
       "      <td>0.017235</td>\n",
       "      <td>0.036498</td>\n",
       "      <td>-0.122341</td>\n",
       "      <td>0.009805</td>\n",
       "      <td>0.158784</td>\n",
       "      <td>0.088992</td>\n",
       "      <td>0.008137</td>\n",
       "      <td>0.029918</td>\n",
       "      <td>0.046883</td>\n",
       "      <td>...</td>\n",
       "      <td>-0.839635</td>\n",
       "      <td>1.000000</td>\n",
       "      <td>-0.015352</td>\n",
       "      <td>0.015352</td>\n",
       "      <td>-0.045712</td>\n",
       "      <td>0.027563</td>\n",
       "      <td>0.030760</td>\n",
       "      <td>0.023895</td>\n",
       "      <td>0.005656</td>\n",
       "      <td>-0.020277</td>\n",
       "    </tr>\n",
       "    <tr>\n",
       "      <th>sex_owner_F</th>\n",
       "      <td>0.016568</td>\n",
       "      <td>0.021981</td>\n",
       "      <td>-0.022466</td>\n",
       "      <td>-0.009489</td>\n",
       "      <td>-0.025357</td>\n",
       "      <td>0.009950</td>\n",
       "      <td>-0.025729</td>\n",
       "      <td>0.033976</td>\n",
       "      <td>-0.002383</td>\n",
       "      <td>-0.015600</td>\n",
       "      <td>...</td>\n",
       "      <td>0.007458</td>\n",
       "      <td>-0.015352</td>\n",
       "      <td>1.000000</td>\n",
       "      <td>-1.000000</td>\n",
       "      <td>0.016363</td>\n",
       "      <td>-0.007983</td>\n",
       "      <td>-0.026256</td>\n",
       "      <td>-0.000369</td>\n",
       "      <td>-0.321892</td>\n",
       "      <td>0.332016</td>\n",
       "    </tr>\n",
       "    <tr>\n",
       "      <th>sex_owner_M</th>\n",
       "      <td>-0.016568</td>\n",
       "      <td>-0.021981</td>\n",
       "      <td>0.022466</td>\n",
       "      <td>0.009489</td>\n",
       "      <td>0.025357</td>\n",
       "      <td>-0.009950</td>\n",
       "      <td>0.025729</td>\n",
       "      <td>-0.033976</td>\n",
       "      <td>0.002383</td>\n",
       "      <td>0.015600</td>\n",
       "      <td>...</td>\n",
       "      <td>-0.007458</td>\n",
       "      <td>0.015352</td>\n",
       "      <td>-1.000000</td>\n",
       "      <td>1.000000</td>\n",
       "      <td>-0.016363</td>\n",
       "      <td>0.007983</td>\n",
       "      <td>0.026256</td>\n",
       "      <td>0.000369</td>\n",
       "      <td>0.321892</td>\n",
       "      <td>-0.332016</td>\n",
       "    </tr>\n",
       "    <tr>\n",
       "      <th>owner_card_type_0</th>\n",
       "      <td>-0.054115</td>\n",
       "      <td>0.004237</td>\n",
       "      <td>-0.000758</td>\n",
       "      <td>0.117869</td>\n",
       "      <td>-0.053454</td>\n",
       "      <td>-0.050070</td>\n",
       "      <td>-0.051407</td>\n",
       "      <td>-0.020238</td>\n",
       "      <td>-0.035580</td>\n",
       "      <td>-0.860575</td>\n",
       "      <td>...</td>\n",
       "      <td>0.042572</td>\n",
       "      <td>-0.045712</td>\n",
       "      <td>0.016363</td>\n",
       "      <td>-0.016363</td>\n",
       "      <td>1.000000</td>\n",
       "      <td>-0.833051</td>\n",
       "      <td>-0.284037</td>\n",
       "      <td>-0.366979</td>\n",
       "      <td>0.019998</td>\n",
       "      <td>0.020118</td>\n",
       "    </tr>\n",
       "    <tr>\n",
       "      <th>owner_card_type_1</th>\n",
       "      <td>0.058062</td>\n",
       "      <td>0.000178</td>\n",
       "      <td>0.008483</td>\n",
       "      <td>-0.068745</td>\n",
       "      <td>0.072750</td>\n",
       "      <td>0.054955</td>\n",
       "      <td>0.052400</td>\n",
       "      <td>0.020964</td>\n",
       "      <td>0.031626</td>\n",
       "      <td>0.450772</td>\n",
       "      <td>...</td>\n",
       "      <td>-0.024573</td>\n",
       "      <td>0.027563</td>\n",
       "      <td>-0.007983</td>\n",
       "      <td>0.007983</td>\n",
       "      <td>-0.833051</td>\n",
       "      <td>1.000000</td>\n",
       "      <td>-0.058498</td>\n",
       "      <td>-0.075581</td>\n",
       "      <td>-0.014851</td>\n",
       "      <td>-0.006964</td>\n",
       "    </tr>\n",
       "    <tr>\n",
       "      <th>owner_card_type_2</th>\n",
       "      <td>0.011919</td>\n",
       "      <td>-0.002006</td>\n",
       "      <td>-0.000372</td>\n",
       "      <td>-0.028177</td>\n",
       "      <td>-0.002490</td>\n",
       "      <td>0.008677</td>\n",
       "      <td>0.008075</td>\n",
       "      <td>0.008992</td>\n",
       "      <td>0.026435</td>\n",
       "      <td>0.367822</td>\n",
       "      <td>...</td>\n",
       "      <td>-0.039777</td>\n",
       "      <td>0.030760</td>\n",
       "      <td>-0.026256</td>\n",
       "      <td>0.026256</td>\n",
       "      <td>-0.284037</td>\n",
       "      <td>-0.058498</td>\n",
       "      <td>1.000000</td>\n",
       "      <td>-0.025770</td>\n",
       "      <td>0.007882</td>\n",
       "      <td>-0.007888</td>\n",
       "    </tr>\n",
       "    <tr>\n",
       "      <th>owner_card_type_3</th>\n",
       "      <td>-0.003424</td>\n",
       "      <td>-0.008349</td>\n",
       "      <td>-0.014979</td>\n",
       "      <td>-0.106367</td>\n",
       "      <td>-0.023025</td>\n",
       "      <td>-0.003794</td>\n",
       "      <td>0.004813</td>\n",
       "      <td>-0.003335</td>\n",
       "      <td>-0.003722</td>\n",
       "      <td>0.751884</td>\n",
       "      <td>...</td>\n",
       "      <td>-0.015720</td>\n",
       "      <td>0.023895</td>\n",
       "      <td>-0.000369</td>\n",
       "      <td>0.000369</td>\n",
       "      <td>-0.366979</td>\n",
       "      <td>-0.075581</td>\n",
       "      <td>-0.025770</td>\n",
       "      <td>1.000000</td>\n",
       "      <td>-0.021594</td>\n",
       "      <td>-0.025289</td>\n",
       "    </tr>\n",
       "    <tr>\n",
       "      <th>sex_disponent_F</th>\n",
       "      <td>0.005798</td>\n",
       "      <td>0.007756</td>\n",
       "      <td>0.028694</td>\n",
       "      <td>0.103931</td>\n",
       "      <td>0.052737</td>\n",
       "      <td>0.017166</td>\n",
       "      <td>-0.017341</td>\n",
       "      <td>-0.005430</td>\n",
       "      <td>-0.015333</td>\n",
       "      <td>-0.021996</td>\n",
       "      <td>...</td>\n",
       "      <td>0.000969</td>\n",
       "      <td>0.005656</td>\n",
       "      <td>-0.321892</td>\n",
       "      <td>0.321892</td>\n",
       "      <td>0.019998</td>\n",
       "      <td>-0.014851</td>\n",
       "      <td>0.007882</td>\n",
       "      <td>-0.021594</td>\n",
       "      <td>1.000000</td>\n",
       "      <td>-0.106873</td>\n",
       "    </tr>\n",
       "    <tr>\n",
       "      <th>sex_disponent_M</th>\n",
       "      <td>0.022147</td>\n",
       "      <td>0.009177</td>\n",
       "      <td>-0.013187</td>\n",
       "      <td>0.068390</td>\n",
       "      <td>0.039149</td>\n",
       "      <td>0.018896</td>\n",
       "      <td>-0.019200</td>\n",
       "      <td>0.039880</td>\n",
       "      <td>0.015941</td>\n",
       "      <td>-0.027357</td>\n",
       "      <td>...</td>\n",
       "      <td>0.022961</td>\n",
       "      <td>-0.020277</td>\n",
       "      <td>0.332016</td>\n",
       "      <td>-0.332016</td>\n",
       "      <td>0.020118</td>\n",
       "      <td>-0.006964</td>\n",
       "      <td>-0.007888</td>\n",
       "      <td>-0.025289</td>\n",
       "      <td>-0.106873</td>\n",
       "      <td>1.000000</td>\n",
       "    </tr>\n",
       "  </tbody>\n",
       "</table>\n",
       "<p>60 rows × 60 columns</p>\n",
       "</div>"
      ],
      "text/plain": [
       "                              account_loan_bin  Ord_Insurance  \\\n",
       "account_loan_bin                      1.000000       0.064054   \n",
       "Ord_Insurance                         0.064054       1.000000   \n",
       "Ord_Insurance_amount                  0.066203       0.567956   \n",
       "Ord_Household_Payment                -0.115103       0.168059   \n",
       "Ord_Household_Payment_amount          0.065080       0.001855   \n",
       "Ord_Loan_Payment                      0.970807       0.070023   \n",
       "Ord_Leasing                          -0.121020       0.025191   \n",
       "Ord_Empty                             0.076714       0.698053   \n",
       "Ord_Empty_amount                      0.098316       0.269705   \n",
       "owner_card_type                       0.033378      -0.007453   \n",
       "num_inhabitants                       0.003314       0.012225   \n",
       "municip < 499                         0.001654      -0.002463   \n",
       "municip 500-1999                      0.017401      -0.001085   \n",
       "municip 2000-9999                     0.010580      -0.002248   \n",
       "municip > 10000                      -0.003839      -0.004667   \n",
       "num_cities                           -0.018489      -0.015563   \n",
       "avg_salary                           -0.003893       0.007699   \n",
       "entrepreneurs                         0.001879      -0.002541   \n",
       "crimes_96                             0.001126       0.011361   \n",
       "Num_Type_Credit                       0.097831       0.018630   \n",
       "Num_Type_VYBER                        0.289894      -0.015231   \n",
       "Num_Type_Withdrawal                   0.148744       0.352348   \n",
       "Num_Op_Null                           0.105099       0.013536   \n",
       "Num_Op_Remittances                    0.138515       0.594396   \n",
       "Num_Op_Collection                    -0.049348      -0.062964   \n",
       "Num_Op_CashCredit                     0.100260       0.060232   \n",
       "Num_Op_WithdrawalCash                 0.154878       0.023655   \n",
       "Num_Op_WithdrawalCreditCard          -0.026640      -0.003631   \n",
       "Num_Sym_Null                          0.184153       0.079259   \n",
       "Num_Sym_Null2                         0.042442       0.561731   \n",
       "Num_Sym_Pension                      -0.168091      -0.145627   \n",
       "Num_Sym_Insurance                     0.051555       0.857898   \n",
       "Num_Sym_NegBal                        0.103637      -0.015929   \n",
       "Num_Sym_Household                    -0.043761       0.139904   \n",
       "Num_Sym_Statement                     0.002992       0.022518   \n",
       "Num_Sym_IntDep                        0.105099       0.013536   \n",
       "Num_Sym_LoanPayment                   0.822798       0.036527   \n",
       "Balance_in_negative                   0.072159      -0.002550   \n",
       "Ord_Loan_Payment_amount               0.831433       0.046004   \n",
       "Ord_Leasing_amount                   -0.105988       0.015871   \n",
       "ratio_urban_inhabitants              -0.021942       0.008496   \n",
       "unemployment_rate_95                  0.004317       0.012157   \n",
       "unemployment_rate_96                  0.006302       0.013148   \n",
       "crimes_95                             0.001258       0.011663   \n",
       "crimes_95_ratio                      -0.007104       0.013440   \n",
       "crimes_96_ratio                      -0.005809       0.012740   \n",
       "entrepreneurs_ratio                   0.000359      -0.022217   \n",
       "account_disponent_bin_0              -0.020877      -0.012667   \n",
       "account_disponent_bin_1               0.020877       0.012667   \n",
       "frequency_After_trans                 0.077996       0.009702   \n",
       "frequency_Monthly                    -0.171711      -0.020067   \n",
       "frequency_Weekly                      0.150660       0.017235   \n",
       "sex_owner_F                           0.016568       0.021981   \n",
       "sex_owner_M                          -0.016568      -0.021981   \n",
       "owner_card_type_0                    -0.054115       0.004237   \n",
       "owner_card_type_1                     0.058062       0.000178   \n",
       "owner_card_type_2                     0.011919      -0.002006   \n",
       "owner_card_type_3                    -0.003424      -0.008349   \n",
       "sex_disponent_F                       0.005798       0.007756   \n",
       "sex_disponent_M                       0.022147       0.009177   \n",
       "\n",
       "                              Ord_Insurance_amount  Ord_Household_Payment  \\\n",
       "account_loan_bin                          0.066203              -0.115103   \n",
       "Ord_Insurance                             0.567956               0.168059   \n",
       "Ord_Insurance_amount                      1.000000               0.095450   \n",
       "Ord_Household_Payment                     0.095450               1.000000   \n",
       "Ord_Household_Payment_amount             -0.040834               0.523637   \n",
       "Ord_Loan_Payment                          0.077277              -0.128155   \n",
       "Ord_Leasing                               0.042197              -0.097967   \n",
       "Ord_Empty                                 0.349677               0.259851   \n",
       "Ord_Empty_amount                          0.184721               0.185304   \n",
       "owner_card_type                          -0.007641              -0.134117   \n",
       "num_inhabitants                           0.033876              -0.002669   \n",
       "municip < 499                            -0.015813              -0.017565   \n",
       "municip 500-1999                         -0.019132               0.005425   \n",
       "municip 2000-9999                        -0.013640               0.012904   \n",
       "municip > 10000                          -0.006640               0.012744   \n",
       "num_cities                               -0.021818              -0.001660   \n",
       "avg_salary                                0.032973              -0.003486   \n",
       "entrepreneurs                             0.020201              -0.014294   \n",
       "crimes_96                                 0.032739              -0.000841   \n",
       "Num_Type_Credit                           0.016377              -0.076547   \n",
       "Num_Type_VYBER                            0.045100              -0.306281   \n",
       "Num_Type_Withdrawal                       0.190376               0.219776   \n",
       "Num_Op_Null                               0.015057              -0.044682   \n",
       "Num_Op_Remittances                        0.315733               0.483788   \n",
       "Num_Op_Collection                        -0.036869               0.254361   \n",
       "Num_Op_CashCredit                         0.038154              -0.251620   \n",
       "Num_Op_WithdrawalCash                     0.025154              -0.121831   \n",
       "Num_Op_WithdrawalCreditCard               0.000278              -0.061037   \n",
       "Num_Sym_Null                              0.048467              -0.208694   \n",
       "Num_Sym_Null2                             0.277658               0.320263   \n",
       "Num_Sym_Pension                          -0.082710               0.324435   \n",
       "Num_Sym_Insurance                         0.494048               0.143572   \n",
       "Num_Sym_NegBal                            0.007954              -0.227273   \n",
       "Num_Sym_Household                         0.084759               0.584418   \n",
       "Num_Sym_Statement                         0.010269               0.058774   \n",
       "Num_Sym_IntDep                            0.015057              -0.044682   \n",
       "Num_Sym_LoanPayment                       0.048133              -0.092915   \n",
       "Balance_in_negative                       0.008210              -0.184873   \n",
       "Ord_Loan_Payment_amount                   0.057569              -0.140985   \n",
       "Ord_Leasing_amount                        0.034773              -0.102364   \n",
       "ratio_urban_inhabitants                   0.023610              -0.009630   \n",
       "unemployment_rate_95                     -0.007899               0.011114   \n",
       "unemployment_rate_96                     -0.008403               0.009605   \n",
       "crimes_95                                 0.032964              -0.001476   \n",
       "crimes_95_ratio                           0.029622               0.003388   \n",
       "crimes_96_ratio                           0.030488               0.006243   \n",
       "entrepreneurs_ratio                      -0.026442               0.000440   \n",
       "account_disponent_bin_0                  -0.011683              -0.129002   \n",
       "account_disponent_bin_1                   0.011683               0.129002   \n",
       "frequency_After_trans                     0.033875              -0.078795   \n",
       "frequency_Monthly                        -0.049739               0.147837   \n",
       "frequency_Weekly                          0.036498              -0.122341   \n",
       "sex_owner_F                              -0.022466              -0.009489   \n",
       "sex_owner_M                               0.022466               0.009489   \n",
       "owner_card_type_0                        -0.000758               0.117869   \n",
       "owner_card_type_1                         0.008483              -0.068745   \n",
       "owner_card_type_2                        -0.000372              -0.028177   \n",
       "owner_card_type_3                        -0.014979              -0.106367   \n",
       "sex_disponent_F                           0.028694               0.103931   \n",
       "sex_disponent_M                          -0.013187               0.068390   \n",
       "\n",
       "                              Ord_Household_Payment_amount  Ord_Loan_Payment  \\\n",
       "account_loan_bin                                  0.065080          0.970807   \n",
       "Ord_Insurance                                     0.001855          0.070023   \n",
       "Ord_Insurance_amount                             -0.040834          0.077277   \n",
       "Ord_Household_Payment                             0.523637         -0.128155   \n",
       "Ord_Household_Payment_amount                      1.000000          0.058743   \n",
       "Ord_Loan_Payment                                  0.058743          1.000000   \n",
       "Ord_Leasing                                       0.042773         -0.124659   \n",
       "Ord_Empty                                        -0.000584          0.078837   \n",
       "Ord_Empty_amount                                 -0.077847          0.095569   \n",
       "owner_card_type                                   0.019457          0.030054   \n",
       "num_inhabitants                                   0.000818         -0.001476   \n",
       "municip < 499                                    -0.010575         -0.000627   \n",
       "municip 500-1999                                  0.001394          0.018303   \n",
       "municip 2000-9999                                 0.007472          0.014124   \n",
       "municip > 10000                                  -0.008210         -0.005044   \n",
       "num_cities                                       -0.005190         -0.012627   \n",
       "avg_salary                                       -0.006198         -0.006443   \n",
       "entrepreneurs                                    -0.008265          0.001630   \n",
       "crimes_96                                         0.002300         -0.003221   \n",
       "Num_Type_Credit                                  -0.028035          0.072373   \n",
       "Num_Type_VYBER                                   -0.038905          0.279666   \n",
       "Num_Type_Withdrawal                               0.098799          0.123500   \n",
       "Num_Op_Null                                      -0.029139          0.081490   \n",
       "Num_Op_Remittances                                0.177603          0.121119   \n",
       "Num_Op_Collection                                -0.074809         -0.059799   \n",
       "Num_Op_CashCredit                                 0.031931          0.087782   \n",
       "Num_Op_WithdrawalCash                            -0.009304          0.129961   \n",
       "Num_Op_WithdrawalCreditCard                       0.010712         -0.031417   \n",
       "Num_Sym_Null                                     -0.003331          0.162542   \n",
       "Num_Sym_Null2                                    -0.005619          0.035266   \n",
       "Num_Sym_Pension                                  -0.053056         -0.173146   \n",
       "Num_Sym_Insurance                                 0.007260          0.048241   \n",
       "Num_Sym_NegBal                                   -0.146123          0.101175   \n",
       "Num_Sym_Household                                 0.382529         -0.062660   \n",
       "Num_Sym_Statement                                 0.007608         -0.026227   \n",
       "Num_Sym_IntDep                                   -0.029139          0.081490   \n",
       "Num_Sym_LoanPayment                               0.041612          0.798778   \n",
       "Balance_in_negative                              -0.117889          0.072069   \n",
       "Ord_Loan_Payment_amount                           0.040531          0.866789   \n",
       "Ord_Leasing_amount                                0.032731         -0.109175   \n",
       "ratio_urban_inhabitants                          -0.012448         -0.024324   \n",
       "unemployment_rate_95                              0.003782          0.002865   \n",
       "unemployment_rate_96                              0.003981          0.004691   \n",
       "crimes_95                                         0.001647         -0.003070   \n",
       "crimes_95_ratio                                  -0.005780         -0.008014   \n",
       "crimes_96_ratio                                  -0.000722         -0.007739   \n",
       "entrepreneurs_ratio                               0.008837          0.006303   \n",
       "account_disponent_bin_0                          -0.068777         -0.026979   \n",
       "account_disponent_bin_1                           0.068777          0.026979   \n",
       "frequency_After_trans                             0.033382          0.081868   \n",
       "frequency_Monthly                                -0.026559         -0.180789   \n",
       "frequency_Weekly                                  0.009805          0.158784   \n",
       "sex_owner_F                                      -0.025357          0.009950   \n",
       "sex_owner_M                                       0.025357         -0.009950   \n",
       "owner_card_type_0                                -0.053454         -0.050070   \n",
       "owner_card_type_1                                 0.072750          0.054955   \n",
       "owner_card_type_2                                -0.002490          0.008677   \n",
       "owner_card_type_3                                -0.023025         -0.003794   \n",
       "sex_disponent_F                                   0.052737          0.017166   \n",
       "sex_disponent_M                                   0.039149          0.018896   \n",
       "\n",
       "                              Ord_Leasing  Ord_Empty  Ord_Empty_amount  \\\n",
       "account_loan_bin                -0.121020   0.076714          0.098316   \n",
       "Ord_Insurance                    0.025191   0.698053          0.269705   \n",
       "Ord_Insurance_amount             0.042197   0.349677          0.184721   \n",
       "Ord_Household_Payment           -0.097967   0.259851          0.185304   \n",
       "Ord_Household_Payment_amount     0.042773  -0.000584         -0.077847   \n",
       "Ord_Loan_Payment                -0.124659   0.078837          0.095569   \n",
       "Ord_Leasing                      1.000000   0.019396          0.037639   \n",
       "Ord_Empty                        0.019396   1.000000          0.634805   \n",
       "Ord_Empty_amount                 0.037639   0.634805          1.000000   \n",
       "owner_card_type                  0.035345   0.012334          0.025062   \n",
       "num_inhabitants                  0.018472   0.010672          0.031134   \n",
       "municip < 499                    0.010343  -0.000193         -0.019911   \n",
       "municip 500-1999                 0.014602  -0.011087         -0.019837   \n",
       "municip 2000-9999               -0.000293  -0.018260         -0.016872   \n",
       "municip > 10000                 -0.002601  -0.016022         -0.012044   \n",
       "num_cities                       0.008955  -0.025485         -0.023574   \n",
       "avg_salary                       0.019863   0.006549          0.026524   \n",
       "entrepreneurs                    0.019387   0.004072          0.018984   \n",
       "crimes_96                        0.019611   0.011068          0.033320   \n",
       "Num_Type_Credit                  0.066967   0.032327          0.039057   \n",
       "Num_Type_VYBER                   0.248503  -0.035184          0.028643   \n",
       "Num_Type_Withdrawal              0.016833   0.411262          0.263204   \n",
       "Num_Op_Null                      0.044042   0.028109          0.038653   \n",
       "Num_Op_Remittances              -0.028136   0.683960          0.412227   \n",
       "Num_Op_Collection               -0.070749  -0.112961         -0.107424   \n",
       "Num_Op_CashCredit                0.112302   0.104056          0.102637   \n",
       "Num_Op_WithdrawalCash            0.086879   0.030259          0.049277   \n",
       "Num_Op_WithdrawalCreditCard      0.004860   0.027734          0.017623   \n",
       "Num_Sym_Null                     0.120516   0.112209          0.092742   \n",
       "Num_Sym_Null2                    0.015133   0.800675          0.519661   \n",
       "Num_Sym_Pension                 -0.113882  -0.225166         -0.160569   \n",
       "Num_Sym_Insurance                0.032005   0.610373          0.241934   \n",
       "Num_Sym_NegBal                   0.022669  -0.043601         -0.020218   \n",
       "Num_Sym_Household               -0.043663   0.219121          0.177096   \n",
       "Num_Sym_Statement                0.032126   0.037513          0.033618   \n",
       "Num_Sym_IntDep                   0.044042   0.028109          0.038653   \n",
       "Num_Sym_LoanPayment             -0.099575   0.053388          0.088898   \n",
       "Balance_in_negative              0.013252  -0.025574         -0.014036   \n",
       "Ord_Loan_Payment_amount         -0.108053   0.055220          0.085707   \n",
       "Ord_Leasing_amount               0.875789   0.012125          0.031319   \n",
       "ratio_urban_inhabitants          0.001169   0.006699          0.015787   \n",
       "unemployment_rate_95            -0.008415   0.007656         -0.004588   \n",
       "unemployment_rate_96            -0.010744   0.007500         -0.002706   \n",
       "crimes_95                        0.019302   0.011152          0.032882   \n",
       "crimes_95_ratio                  0.018968   0.010110          0.027390   \n",
       "crimes_96_ratio                  0.021754   0.010263          0.030364   \n",
       "entrepreneurs_ratio             -0.020199  -0.006979         -0.008655   \n",
       "account_disponent_bin_0          0.027337  -0.025689         -0.000395   \n",
       "account_disponent_bin_1         -0.027337   0.025689          0.000395   \n",
       "frequency_After_trans            0.105964  -0.004327          0.016467   \n",
       "frequency_Monthly               -0.133977  -0.004633         -0.034630   \n",
       "frequency_Weekly                 0.088992   0.008137          0.029918   \n",
       "sex_owner_F                     -0.025729   0.033976         -0.002383   \n",
       "sex_owner_M                      0.025729  -0.033976          0.002383   \n",
       "owner_card_type_0               -0.051407  -0.020238         -0.035580   \n",
       "owner_card_type_1                0.052400   0.020964          0.031626   \n",
       "owner_card_type_2                0.008075   0.008992          0.026435   \n",
       "owner_card_type_3                0.004813  -0.003335         -0.003722   \n",
       "sex_disponent_F                 -0.017341  -0.005430         -0.015333   \n",
       "sex_disponent_M                 -0.019200   0.039880          0.015941   \n",
       "\n",
       "                              owner_card_type  ...  frequency_Monthly  \\\n",
       "account_loan_bin                     0.033378  ...          -0.171711   \n",
       "Ord_Insurance                       -0.007453  ...          -0.020067   \n",
       "Ord_Insurance_amount                -0.007641  ...          -0.049739   \n",
       "Ord_Household_Payment               -0.134117  ...           0.147837   \n",
       "Ord_Household_Payment_amount         0.019457  ...          -0.026559   \n",
       "Ord_Loan_Payment                     0.030054  ...          -0.180789   \n",
       "Ord_Leasing                          0.035345  ...          -0.133977   \n",
       "Ord_Empty                            0.012334  ...          -0.004633   \n",
       "Ord_Empty_amount                     0.025062  ...          -0.034630   \n",
       "owner_card_type                      1.000000  ...          -0.042500   \n",
       "num_inhabitants                      0.030940  ...          -0.005755   \n",
       "municip < 499                        0.006346  ...           0.004246   \n",
       "municip 500-1999                    -0.027747  ...          -0.009155   \n",
       "municip 2000-9999                   -0.029213  ...           0.004686   \n",
       "municip > 10000                     -0.019763  ...           0.009860   \n",
       "num_cities                          -0.011756  ...           0.009816   \n",
       "avg_salary                           0.024958  ...           0.003599   \n",
       "entrepreneurs                        0.036207  ...          -0.022420   \n",
       "crimes_96                            0.034505  ...          -0.008356   \n",
       "Num_Type_Credit                      0.055589  ...          -0.068806   \n",
       "Num_Type_VYBER                       0.127434  ...          -0.366225   \n",
       "Num_Type_Withdrawal                  0.046269  ...          -0.017445   \n",
       "Num_Op_Null                          0.035456  ...          -0.038685   \n",
       "Num_Op_Remittances                  -0.031793  ...           0.029454   \n",
       "Num_Op_Collection                   -0.126932  ...           0.003029   \n",
       "Num_Op_CashCredit                    0.140943  ...          -0.071660   \n",
       "Num_Op_WithdrawalCash                0.058296  ...          -0.108938   \n",
       "Num_Op_WithdrawalCreditCard          0.565548  ...           0.019720   \n",
       "Num_Sym_Null                         0.151566  ...          -0.133761   \n",
       "Num_Sym_Null2                        0.007726  ...           0.011873   \n",
       "Num_Sym_Pension                     -0.149131  ...           0.112430   \n",
       "Num_Sym_Insurance                    0.000307  ...          -0.010198   \n",
       "Num_Sym_NegBal                      -0.037521  ...          -0.052854   \n",
       "Num_Sym_Household                   -0.060986  ...           0.078880   \n",
       "Num_Sym_Statement                    0.020368  ...          -0.010539   \n",
       "Num_Sym_IntDep                       0.035456  ...          -0.038685   \n",
       "Num_Sym_LoanPayment                  0.026961  ...          -0.170907   \n",
       "Balance_in_negative                 -0.034885  ...          -0.037654   \n",
       "Ord_Loan_Payment_amount              0.047005  ...          -0.183423   \n",
       "Ord_Leasing_amount                   0.047492  ...          -0.138582   \n",
       "ratio_urban_inhabitants              0.017150  ...           0.013384   \n",
       "unemployment_rate_95                -0.016588  ...           0.000062   \n",
       "unemployment_rate_96                -0.014345  ...          -0.004256   \n",
       "crimes_95                            0.033997  ...          -0.007911   \n",
       "crimes_95_ratio                      0.025504  ...          -0.003568   \n",
       "crimes_96_ratio                      0.025981  ...          -0.007737   \n",
       "entrepreneurs_ratio                  0.001707  ...          -0.023219   \n",
       "account_disponent_bin_0              0.036917  ...          -0.017863   \n",
       "account_disponent_bin_1             -0.036917  ...           0.017863   \n",
       "frequency_After_trans                0.004152  ...          -0.513877   \n",
       "frequency_Monthly                   -0.042500  ...           1.000000   \n",
       "frequency_Weekly                     0.046883  ...          -0.839635   \n",
       "sex_owner_F                         -0.015600  ...           0.007458   \n",
       "sex_owner_M                          0.015600  ...          -0.007458   \n",
       "owner_card_type_0                   -0.860575  ...           0.042572   \n",
       "owner_card_type_1                    0.450772  ...          -0.024573   \n",
       "owner_card_type_2                    0.367822  ...          -0.039777   \n",
       "owner_card_type_3                    0.751884  ...          -0.015720   \n",
       "sex_disponent_F                     -0.021996  ...           0.000969   \n",
       "sex_disponent_M                     -0.027357  ...           0.022961   \n",
       "\n",
       "                              frequency_Weekly  sex_owner_F  sex_owner_M  \\\n",
       "account_loan_bin                      0.150660     0.016568    -0.016568   \n",
       "Ord_Insurance                         0.017235     0.021981    -0.021981   \n",
       "Ord_Insurance_amount                  0.036498    -0.022466     0.022466   \n",
       "Ord_Household_Payment                -0.122341    -0.009489     0.009489   \n",
       "Ord_Household_Payment_amount          0.009805    -0.025357     0.025357   \n",
       "Ord_Loan_Payment                      0.158784     0.009950    -0.009950   \n",
       "Ord_Leasing                           0.088992    -0.025729     0.025729   \n",
       "Ord_Empty                             0.008137     0.033976    -0.033976   \n",
       "Ord_Empty_amount                      0.029918    -0.002383     0.002383   \n",
       "owner_card_type                       0.046883    -0.015600     0.015600   \n",
       "num_inhabitants                       0.014263     0.003339    -0.003339   \n",
       "municip < 499                        -0.014983    -0.000530     0.000530   \n",
       "municip 500-1999                     -0.017626    -0.009240     0.009240   \n",
       "municip 2000-9999                    -0.024601     0.005531    -0.005531   \n",
       "municip > 10000                      -0.010402    -0.002939     0.002939   \n",
       "num_cities                           -0.020394     0.005176    -0.005176   \n",
       "avg_salary                            0.010710     0.010323    -0.010323   \n",
       "entrepreneurs                         0.027646     0.014185    -0.014185   \n",
       "crimes_96                             0.017852     0.004064    -0.004064   \n",
       "Num_Type_Credit                       0.049912     0.000650    -0.000650   \n",
       "Num_Type_VYBER                        0.310532    -0.007227     0.007227   \n",
       "Num_Type_Withdrawal                   0.016330     0.013456    -0.013456   \n",
       "Num_Op_Null                           0.026983     0.015201    -0.015201   \n",
       "Num_Op_Remittances                   -0.019807     0.020789    -0.020789   \n",
       "Num_Op_Collection                     0.006032     0.007416    -0.007416   \n",
       "Num_Op_CashCredit                     0.047014    -0.014129     0.014129   \n",
       "Num_Op_WithdrawalCash                 0.090282     0.002967    -0.002967   \n",
       "Num_Op_WithdrawalCreditCard          -0.017246    -0.012996     0.012996   \n",
       "Num_Sym_Null                          0.110086    -0.006225     0.006225   \n",
       "Num_Sym_Null2                        -0.010771     0.033326    -0.033326   \n",
       "Num_Sym_Pension                      -0.094400     0.002259    -0.002259   \n",
       "Num_Sym_Insurance                     0.007971     0.029751    -0.029751   \n",
       "Num_Sym_NegBal                        0.033501     0.014490    -0.014490   \n",
       "Num_Sym_Household                    -0.062672    -0.002899     0.002899   \n",
       "Num_Sym_Statement                     0.008781     0.001925    -0.001925   \n",
       "Num_Sym_IntDep                        0.026983     0.015201    -0.015201   \n",
       "Num_Sym_LoanPayment                   0.149377     0.001575    -0.001575   \n",
       "Balance_in_negative                   0.020057     0.009432    -0.009432   \n",
       "Ord_Loan_Payment_amount               0.157532     0.012156    -0.012156   \n",
       "Ord_Leasing_amount                    0.101108    -0.028807     0.028807   \n",
       "ratio_urban_inhabitants               0.003506     0.005310    -0.005310   \n",
       "unemployment_rate_95                 -0.003582    -0.005646     0.005646   \n",
       "unemployment_rate_96                 -0.000304    -0.005365     0.005365   \n",
       "crimes_95                             0.017533     0.003738    -0.003738   \n",
       "crimes_95_ratio                       0.021780     0.004588    -0.004588   \n",
       "crimes_96_ratio                       0.023880     0.005316    -0.005316   \n",
       "entrepreneurs_ratio                   0.022632     0.000349    -0.000349   \n",
       "account_disponent_bin_0               0.010890    -0.006318     0.006318   \n",
       "account_disponent_bin_1              -0.010890     0.006318    -0.006318   \n",
       "frequency_After_trans                -0.034480     0.010524    -0.010524   \n",
       "frequency_Monthly                    -0.839635     0.007458    -0.007458   \n",
       "frequency_Weekly                      1.000000    -0.015352     0.015352   \n",
       "sex_owner_F                          -0.015352     1.000000    -1.000000   \n",
       "sex_owner_M                           0.015352    -1.000000     1.000000   \n",
       "owner_card_type_0                    -0.045712     0.016363    -0.016363   \n",
       "owner_card_type_1                     0.027563    -0.007983     0.007983   \n",
       "owner_card_type_2                     0.030760    -0.026256     0.026256   \n",
       "owner_card_type_3                     0.023895    -0.000369     0.000369   \n",
       "sex_disponent_F                       0.005656    -0.321892     0.321892   \n",
       "sex_disponent_M                      -0.020277     0.332016    -0.332016   \n",
       "\n",
       "                              owner_card_type_0  owner_card_type_1  \\\n",
       "account_loan_bin                      -0.054115           0.058062   \n",
       "Ord_Insurance                          0.004237           0.000178   \n",
       "Ord_Insurance_amount                  -0.000758           0.008483   \n",
       "Ord_Household_Payment                  0.117869          -0.068745   \n",
       "Ord_Household_Payment_amount          -0.053454           0.072750   \n",
       "Ord_Loan_Payment                      -0.050070           0.054955   \n",
       "Ord_Leasing                           -0.051407           0.052400   \n",
       "Ord_Empty                             -0.020238           0.020964   \n",
       "Ord_Empty_amount                      -0.035580           0.031626   \n",
       "owner_card_type                       -0.860575           0.450772   \n",
       "num_inhabitants                       -0.028899           0.020614   \n",
       "municip < 499                         -0.006932           0.010449   \n",
       "municip 500-1999                       0.029732          -0.024656   \n",
       "municip 2000-9999                      0.029350          -0.024015   \n",
       "municip > 10000                        0.020812          -0.016889   \n",
       "num_cities                             0.009940          -0.006823   \n",
       "avg_salary                            -0.026352           0.021841   \n",
       "entrepreneurs                         -0.033606           0.023694   \n",
       "crimes_96                             -0.033282           0.024787   \n",
       "Num_Type_Credit                       -0.033722          -0.004744   \n",
       "Num_Type_VYBER                        -0.154587           0.131874   \n",
       "Num_Type_Withdrawal                   -0.049292           0.027788   \n",
       "Num_Op_Null                           -0.020977          -0.008383   \n",
       "Num_Op_Remittances                     0.027596          -0.019203   \n",
       "Num_Op_Collection                      0.148659          -0.128183   \n",
       "Num_Op_CashCredit                     -0.135231           0.087269   \n",
       "Num_Op_WithdrawalCash                 -0.058527           0.029382   \n",
       "Num_Op_WithdrawalCreditCard           -0.610484           0.470111   \n",
       "Num_Sym_Null                          -0.153052           0.100292   \n",
       "Num_Sym_Null2                         -0.009161           0.004505   \n",
       "Num_Sym_Pension                        0.170327          -0.142156   \n",
       "Num_Sym_Insurance                     -0.001701           0.002635   \n",
       "Num_Sym_NegBal                         0.045704          -0.039926   \n",
       "Num_Sym_Household                      0.054417          -0.038815   \n",
       "Num_Sym_Statement                     -0.009446          -0.012760   \n",
       "Num_Sym_IntDep                        -0.020977          -0.008383   \n",
       "Num_Sym_LoanPayment                   -0.038228           0.037756   \n",
       "Balance_in_negative                    0.043955          -0.039307   \n",
       "Ord_Loan_Payment_amount               -0.058617           0.051974   \n",
       "Ord_Leasing_amount                    -0.060710           0.056610   \n",
       "ratio_urban_inhabitants               -0.018054           0.014557   \n",
       "unemployment_rate_95                   0.016138          -0.015756   \n",
       "unemployment_rate_96                   0.013311          -0.014165   \n",
       "crimes_95                             -0.032631           0.024087   \n",
       "crimes_95_ratio                       -0.026296           0.020614   \n",
       "crimes_96_ratio                       -0.027883           0.023608   \n",
       "entrepreneurs_ratio                   -0.006716           0.007620   \n",
       "account_disponent_bin_0               -0.030015           0.016337   \n",
       "account_disponent_bin_1                0.030015          -0.016337   \n",
       "frequency_After_trans                 -0.006133           0.001682   \n",
       "frequency_Monthly                      0.042572          -0.024573   \n",
       "frequency_Weekly                      -0.045712           0.027563   \n",
       "sex_owner_F                            0.016363          -0.007983   \n",
       "sex_owner_M                           -0.016363           0.007983   \n",
       "owner_card_type_0                      1.000000          -0.833051   \n",
       "owner_card_type_1                     -0.833051           1.000000   \n",
       "owner_card_type_2                     -0.284037          -0.058498   \n",
       "owner_card_type_3                     -0.366979          -0.075581   \n",
       "sex_disponent_F                        0.019998          -0.014851   \n",
       "sex_disponent_M                        0.020118          -0.006964   \n",
       "\n",
       "                              owner_card_type_2  owner_card_type_3  \\\n",
       "account_loan_bin                       0.011919          -0.003424   \n",
       "Ord_Insurance                         -0.002006          -0.008349   \n",
       "Ord_Insurance_amount                  -0.000372          -0.014979   \n",
       "Ord_Household_Payment                 -0.028177          -0.106367   \n",
       "Ord_Household_Payment_amount          -0.002490          -0.023025   \n",
       "Ord_Loan_Payment                       0.008677          -0.003794   \n",
       "Ord_Leasing                            0.008075           0.004813   \n",
       "Ord_Empty                              0.008992          -0.003335   \n",
       "Ord_Empty_amount                       0.026435          -0.003722   \n",
       "owner_card_type                        0.367822           0.751884   \n",
       "num_inhabitants                       -0.003035           0.026349   \n",
       "municip < 499                         -0.023710           0.013321   \n",
       "municip 500-1999                       0.001278          -0.018758   \n",
       "municip 2000-9999                      0.008277          -0.024670   \n",
       "municip > 10000                        0.000630          -0.013663   \n",
       "num_cities                             0.004986          -0.012689   \n",
       "avg_salary                            -0.002812           0.017967   \n",
       "entrepreneurs                         -0.003200           0.030938   \n",
       "crimes_96                             -0.003468           0.028229   \n",
       "Num_Type_Credit                        0.050703           0.045868   \n",
       "Num_Type_VYBER                         0.054779           0.042010   \n",
       "Num_Type_Withdrawal                    0.063454           0.005890   \n",
       "Num_Op_Null                            0.055110           0.020928   \n",
       "Num_Op_Remittances                     0.011147          -0.032594   \n",
       "Num_Op_Collection                     -0.024817          -0.059512   \n",
       "Num_Op_CashCredit                      0.051021           0.090561   \n",
       "Num_Op_WithdrawalCash                  0.077786           0.012308   \n",
       "Num_Op_WithdrawalCreditCard            0.178368           0.297125   \n",
       "Num_Sym_Null                           0.087852           0.075843   \n",
       "Num_Sym_Null2                          0.019313          -0.003483   \n",
       "Num_Sym_Pension                       -0.034867          -0.072571   \n",
       "Num_Sym_Insurance                     -0.000218          -0.001262   \n",
       "Num_Sym_NegBal                        -0.012146          -0.013718   \n",
       "Num_Sym_Household                      0.018691          -0.059793   \n",
       "Num_Sym_Statement                      0.049726           0.007880   \n",
       "Num_Sym_IntDep                         0.055110           0.020928   \n",
       "Num_Sym_LoanPayment                    0.008957           0.003687   \n",
       "Balance_in_negative                   -0.012757          -0.010531   \n",
       "Ord_Loan_Payment_amount                0.016981           0.014959   \n",
       "Ord_Leasing_amount                     0.009064           0.016609   \n",
       "ratio_urban_inhabitants               -0.000086           0.011681   \n",
       "unemployment_rate_95                   0.020090          -0.020639   \n",
       "unemployment_rate_96                   0.025694          -0.021837   \n",
       "crimes_95                             -0.003098           0.027870   \n",
       "crimes_95_ratio                        0.000377           0.017798   \n",
       "crimes_96_ratio                       -0.003472           0.018406   \n",
       "entrepreneurs_ratio                    0.010965          -0.008692   \n",
       "account_disponent_bin_0               -0.000025           0.035071   \n",
       "account_disponent_bin_1                0.000025          -0.035071   \n",
       "frequency_After_trans                  0.024607          -0.008816   \n",
       "frequency_Monthly                     -0.039777          -0.015720   \n",
       "frequency_Weekly                       0.030760           0.023895   \n",
       "sex_owner_F                           -0.026256          -0.000369   \n",
       "sex_owner_M                            0.026256           0.000369   \n",
       "owner_card_type_0                     -0.284037          -0.366979   \n",
       "owner_card_type_1                     -0.058498          -0.075581   \n",
       "owner_card_type_2                      1.000000          -0.025770   \n",
       "owner_card_type_3                     -0.025770           1.000000   \n",
       "sex_disponent_F                        0.007882          -0.021594   \n",
       "sex_disponent_M                       -0.007888          -0.025289   \n",
       "\n",
       "                              sex_disponent_F  sex_disponent_M  \n",
       "account_loan_bin                     0.005798         0.022147  \n",
       "Ord_Insurance                        0.007756         0.009177  \n",
       "Ord_Insurance_amount                 0.028694        -0.013187  \n",
       "Ord_Household_Payment                0.103931         0.068390  \n",
       "Ord_Household_Payment_amount         0.052737         0.039149  \n",
       "Ord_Loan_Payment                     0.017166         0.018896  \n",
       "Ord_Leasing                         -0.017341        -0.019200  \n",
       "Ord_Empty                           -0.005430         0.039880  \n",
       "Ord_Empty_amount                    -0.015333         0.015941  \n",
       "owner_card_type                     -0.021996        -0.027357  \n",
       "num_inhabitants                      0.011596         0.010408  \n",
       "municip < 499                       -0.006885        -0.008556  \n",
       "municip 500-1999                     0.000562        -0.009363  \n",
       "municip 2000-9999                   -0.008584        -0.012463  \n",
       "municip > 10000                      0.009214        -0.015396  \n",
       "num_cities                          -0.015762        -0.008417  \n",
       "avg_salary                           0.006604         0.005631  \n",
       "entrepreneurs                        0.002771         0.018116  \n",
       "crimes_96                            0.010755         0.012028  \n",
       "Num_Type_Credit                     -0.031919         0.007852  \n",
       "Num_Type_VYBER                      -0.015885        -0.020827  \n",
       "Num_Type_Withdrawal                 -0.003068         0.039560  \n",
       "Num_Op_Null                         -0.027840         0.022120  \n",
       "Num_Op_Remittances                   0.028382         0.063915  \n",
       "Num_Op_Collection                    0.081339         0.045821  \n",
       "Num_Op_CashCredit                   -0.081877        -0.035184  \n",
       "Num_Op_WithdrawalCash               -0.030478         0.005071  \n",
       "Num_Op_WithdrawalCreditCard         -0.014209        -0.026344  \n",
       "Num_Sym_Null                        -0.054652        -0.004186  \n",
       "Num_Sym_Null2                        0.002805         0.033758  \n",
       "Num_Sym_Pension                      0.094869         0.043724  \n",
       "Num_Sym_Insurance                    0.000887         0.008139  \n",
       "Num_Sym_NegBal                      -0.054557        -0.054567  \n",
       "Num_Sym_Household                    0.037597         0.050252  \n",
       "Num_Sym_Statement                   -0.005149         0.025840  \n",
       "Num_Sym_IntDep                      -0.027840         0.022120  \n",
       "Num_Sym_LoanPayment                  0.003912         0.031321  \n",
       "Balance_in_negative                 -0.046148        -0.045855  \n",
       "Ord_Loan_Payment_amount              0.026968         0.018884  \n",
       "Ord_Leasing_amount                  -0.004822        -0.027232  \n",
       "ratio_urban_inhabitants              0.003046         0.007080  \n",
       "unemployment_rate_95                 0.000210        -0.014822  \n",
       "unemployment_rate_96                -0.001213        -0.013334  \n",
       "crimes_95                            0.011067         0.011828  \n",
       "crimes_95_ratio                      0.007852         0.006732  \n",
       "crimes_96_ratio                      0.007229         0.007877  \n",
       "entrepreneurs_ratio                 -0.009133         0.008283  \n",
       "account_disponent_bin_0             -0.670379        -0.666123  \n",
       "account_disponent_bin_1              0.670379         0.666123  \n",
       "frequency_After_trans               -0.010716        -0.010223  \n",
       "frequency_Monthly                    0.000969         0.022961  \n",
       "frequency_Weekly                     0.005656        -0.020277  \n",
       "sex_owner_F                         -0.321892         0.332016  \n",
       "sex_owner_M                          0.321892        -0.332016  \n",
       "owner_card_type_0                    0.019998         0.020118  \n",
       "owner_card_type_1                   -0.014851        -0.006964  \n",
       "owner_card_type_2                    0.007882        -0.007888  \n",
       "owner_card_type_3                   -0.021594        -0.025289  \n",
       "sex_disponent_F                      1.000000        -0.106873  \n",
       "sex_disponent_M                     -0.106873         1.000000  \n",
       "\n",
       "[60 rows x 60 columns]"
      ]
     },
     "execution_count": 85,
     "metadata": {},
     "output_type": "execute_result"
    }
   ],
   "source": [
    "#Vemos que tener un préstamo corrleciona de forma muy significativa con las variables:Ord_Loan_Payment,Num_Sym_LoanPayment y \n",
    "#Ord_Loan_Payment_amount\n",
    "\n",
    "df_corr.corr()"
   ]
  },
  {
   "cell_type": "code",
   "execution_count": 86,
   "metadata": {},
   "outputs": [
    {
     "data": {
      "text/plain": [
       "(array([3968.,    0.,    0.,    0.,    0.,    0.,    0.,    0.,    0.,\n",
       "         532.]),\n",
       " array([0. , 0.1, 0.2, 0.3, 0.4, 0.5, 0.6, 0.7, 0.8, 0.9, 1. ]),\n",
       " <a list of 10 Patch objects>)"
      ]
     },
     "execution_count": 86,
     "metadata": {},
     "output_type": "execute_result"
    },
    {
     "data": {
      "image/png": "[encoded data removed]",
      "text/plain": [
       "<Figure size 432x288 with 1 Axes>"
      ]
     },
     "metadata": {
      "needs_background": "light"
     },
     "output_type": "display_data"
    }
   ],
   "source": [
    "plt.hist(df[\"Ord_Insurance\"])"
   ]
  },
  {
   "cell_type": "code",
   "execution_count": 87,
   "metadata": {},
   "outputs": [
    {
     "data": {
      "text/plain": [
       "(array([4.34e+03, 7.20e+01, 4.40e+01, 1.60e+01, 1.10e+01, 1.00e+01,\n",
       "        4.00e+00, 1.00e+00, 1.00e+00, 1.00e+00]),\n",
       " array([    0. ,  1250.4,  2500.8,  3751.2,  5001.6,  6252. ,  7502.4,\n",
       "         8752.8, 10003.2, 11253.6, 12504. ]),\n",
       " <a list of 10 Patch objects>)"
      ]
     },
     "execution_count": 87,
     "metadata": {},
     "output_type": "execute_result"
    },
    {
     "data": {
      "image/png": "[encoded data removed]",
      "text/plain": [
       "<Figure size 432x288 with 1 Axes>"
      ]
     },
     "metadata": {
      "needs_background": "light"
     },
     "output_type": "display_data"
    }
   ],
   "source": [
    "plt.hist(df['Ord_Insurance_amount'])"
   ]
  },
  {
   "cell_type": "code",
   "execution_count": 88,
   "metadata": {},
   "outputs": [
    {
     "data": {
      "text/plain": [
       "(array([1135.,    0.,    0.,    0.,    0., 3228.,    0.,    0.,    0.,\n",
       "         137.]),\n",
       " array([0. , 0.2, 0.4, 0.6, 0.8, 1. , 1.2, 1.4, 1.6, 1.8, 2. ]),\n",
       " <a list of 10 Patch objects>)"
      ]
     },
     "execution_count": 88,
     "metadata": {},
     "output_type": "execute_result"
    },
    {
     "data": {
      "image/png": "[encoded data removed]",
      "text/plain": [
       "<Figure size 432x288 with 1 Axes>"
      ]
     },
     "metadata": {
      "needs_background": "light"
     },
     "output_type": "display_data"
    }
   ],
   "source": [
    "plt.hist(df['Ord_Household_Payment'])"
   ]
  },
  {
   "cell_type": "code",
   "execution_count": 89,
   "metadata": {},
   "outputs": [
    {
     "data": {
      "text/plain": [
       "(array([1521., 1044.,  761.,  396.,  298.,  225.,  147.,   43.,   34.,\n",
       "          31.]),\n",
       " array([    0. ,  1488.2,  2976.4,  4464.6,  5952.8,  7441. ,  8929.2,\n",
       "        10417.4, 11905.6, 13393.8, 14882. ]),\n",
       " <a list of 10 Patch objects>)"
      ]
     },
     "execution_count": 89,
     "metadata": {},
     "output_type": "execute_result"
    },
    {
     "data": {
      "image/png": "[encoded data removed]",
      "text/plain": [
       "<Figure size 432x288 with 1 Axes>"
      ]
     },
     "metadata": {
      "needs_background": "light"
     },
     "output_type": "display_data"
    }
   ],
   "source": [
    "plt.hist(df['Ord_Household_Payment_amount'])"
   ]
  },
  {
   "cell_type": "code",
   "execution_count": 90,
   "metadata": {},
   "outputs": [
    {
     "data": {
      "text/plain": [
       "(array([3783.,    0.,    0.,    0.,    0.,    0.,    0.,    0.,    0.,\n",
       "         717.]),\n",
       " array([0. , 0.1, 0.2, 0.3, 0.4, 0.5, 0.6, 0.7, 0.8, 0.9, 1. ]),\n",
       " <a list of 10 Patch objects>)"
      ]
     },
     "execution_count": 90,
     "metadata": {},
     "output_type": "execute_result"
    },
    {
     "data": {
      "image/png": "[encoded data removed]",
      "text/plain": [
       "<Figure size 432x288 with 1 Axes>"
      ]
     },
     "metadata": {
      "needs_background": "light"
     },
     "output_type": "display_data"
    }
   ],
   "source": [
    "plt.hist(df['Ord_Loan_Payment'])"
   ]
  },
  {
   "cell_type": "code",
   "execution_count": 91,
   "metadata": {},
   "outputs": [
    {
     "data": {
      "text/plain": [
       "(array([4159.,    0.,    0.,    0.,    0.,    0.,    0.,    0.,    0.,\n",
       "         341.]),\n",
       " array([0. , 0.1, 0.2, 0.3, 0.4, 0.5, 0.6, 0.7, 0.8, 0.9, 1. ]),\n",
       " <a list of 10 Patch objects>)"
      ]
     },
     "execution_count": 91,
     "metadata": {},
     "output_type": "execute_result"
    },
    {
     "data": {
      "image/png": "[encoded data removed]",
      "text/plain": [
       "<Figure size 432x288 with 1 Axes>"
      ]
     },
     "metadata": {
      "needs_background": "light"
     },
     "output_type": "display_data"
    }
   ],
   "source": [
    "plt.hist(df['Ord_Leasing'])"
   ]
  },
  {
   "cell_type": "code",
   "execution_count": 92,
   "metadata": {},
   "outputs": [
    {
     "data": {
      "text/plain": [
       "(array([3302.,    0.,    0.,    0.,    0., 1017.,    0.,    0.,    0.,\n",
       "         181.]),\n",
       " array([0. , 0.2, 0.4, 0.6, 0.8, 1. , 1.2, 1.4, 1.6, 1.8, 2. ]),\n",
       " <a list of 10 Patch objects>)"
      ]
     },
     "execution_count": 92,
     "metadata": {},
     "output_type": "execute_result"
    },
    {
     "data": {
      "image/png": "[encoded data removed]",
      "text/plain": [
       "<Figure size 432x288 with 1 Axes>"
      ]
     },
     "metadata": {
      "needs_background": "light"
     },
     "output_type": "display_data"
    }
   ],
   "source": [
    "plt.hist(df['Ord_Empty'])"
   ]
  },
  {
   "cell_type": "code",
   "execution_count": 93,
   "metadata": {},
   "outputs": [
    {
     "data": {
      "text/plain": [
       "(array([3.802e+03, 3.040e+02, 1.560e+02, 9.900e+01, 6.600e+01, 3.800e+01,\n",
       "        1.600e+01, 1.200e+01, 3.000e+00, 4.000e+00]),\n",
       " array([    0. ,  1292.5,  2585. ,  3877.5,  5170. ,  6462.5,  7755. ,\n",
       "         9047.5, 10340. , 11632.5, 12925. ]),\n",
       " <a list of 10 Patch objects>)"
      ]
     },
     "execution_count": 93,
     "metadata": {},
     "output_type": "execute_result"
    },
    {
     "data": {
      "image/png": "[encoded data removed]",
      "text/plain": [
       "<Figure size 432x288 with 1 Axes>"
      ]
     },
     "metadata": {
      "needs_background": "light"
     },
     "output_type": "display_data"
    }
   ],
   "source": [
    "plt.hist(df['Ord_Empty_amount'])"
   ]
  },
  {
   "cell_type": "code",
   "execution_count": null,
   "metadata": {},
   "outputs": [],
   "source": [
    "plt.hist(df['Ord_Empty_amount'])"
   ]
  },
  {
   "cell_type": "code",
   "execution_count": 97,
   "metadata": {},
   "outputs": [
    {
     "data": {
      "text/plain": [
       "(array([1441.,  561.,  622.,  605.,  594.,  374.,  205.,    0.,    0.,\n",
       "          98.]),\n",
       " array([  0. ,  15.1,  30.2,  45.3,  60.4,  75.5,  90.6, 105.7, 120.8,\n",
       "        135.9, 151. ]),\n",
       " <a list of 10 Patch objects>)"
      ]
     },
     "execution_count": 97,
     "metadata": {},
     "output_type": "execute_result"
    },
    {
     "data": {
      "image/png": "[encoded data removed]",
      "text/plain": [
       "<Figure size 432x288 with 1 Axes>"
      ]
     },
     "metadata": {
      "needs_background": "light"
     },
     "output_type": "display_data"
    }
   ],
   "source": [
    "plt.hist(df['municip < 499'])"
   ]
  },
  {
   "cell_type": "code",
   "execution_count": 98,
   "metadata": {},
   "outputs": [
    {
     "data": {
      "text/plain": [
       "(array([1055.,  414.,  680.,  790.,  681.,  639.,   44.,  144.,    0.,\n",
       "          53.]),\n",
       " array([ 0.,  7., 14., 21., 28., 35., 42., 49., 56., 63., 70.]),\n",
       " <a list of 10 Patch objects>)"
      ]
     },
     "execution_count": 98,
     "metadata": {},
     "output_type": "execute_result"
    },
    {
     "data": {
      "image/png": "[encoded data removed]",
      "text/plain": [
       "<Figure size 432x288 with 1 Axes>"
      ]
     },
     "metadata": {
      "needs_background": "light"
     },
     "output_type": "display_data"
    }
   ],
   "source": [
    "plt.hist(df['municip 500-1999'])"
   ]
  },
  {
   "cell_type": "code",
   "execution_count": 99,
   "metadata": {},
   "outputs": [
    {
     "data": {
      "text/plain": [
       "(array([ 185.,    0., 2255.,    0., 1157.,    0.,  582.,    0.,  169.,\n",
       "         152.]),\n",
       " array([0. , 0.5, 1. , 1.5, 2. , 2.5, 3. , 3.5, 4. , 4.5, 5. ]),\n",
       " <a list of 10 Patch objects>)"
      ]
     },
     "execution_count": 99,
     "metadata": {},
     "output_type": "execute_result"
    },
    {
     "data": {
      "image/png": "[encoded data removed]",
      "text/plain": [
       "<Figure size 432x288 with 1 Axes>"
      ]
     },
     "metadata": {
      "needs_background": "light"
     },
     "output_type": "display_data"
    }
   ],
   "source": [
    "plt.hist(df['municip > 10000'])"
   ]
  },
  {
   "cell_type": "code",
   "execution_count": 100,
   "metadata": {},
   "outputs": [
    {
     "data": {
      "text/plain": [
       "(array([862.,  37.,  93., 580., 467., 702., 631., 324., 328., 476.]),\n",
       " array([ 1.,  2.,  3.,  4.,  5.,  6.,  7.,  8.,  9., 10., 11.]),\n",
       " <a list of 10 Patch objects>)"
      ]
     },
     "execution_count": 100,
     "metadata": {},
     "output_type": "execute_result"
    },
    {
     "data": {
      "image/png": "[encoded data removed]",
      "text/plain": [
       "<Figure size 432x288 with 1 Axes>"
      ]
     },
     "metadata": {
      "needs_background": "light"
     },
     "output_type": "display_data"
    }
   ],
   "source": [
    "plt.hist(df['num_cities'])"
   ]
  },
  {
   "cell_type": "code",
   "execution_count": 101,
   "metadata": {},
   "outputs": [
    {
     "data": {
      "text/plain": [
       "(array([1153., 1206.,  451.,  363.,  496.,  176.,   45.,   56.,    0.,\n",
       "         554.]),\n",
       " array([ 8110. ,  8553.1,  8996.2,  9439.3,  9882.4, 10325.5, 10768.6,\n",
       "        11211.7, 11654.8, 12097.9, 12541. ]),\n",
       " <a list of 10 Patch objects>)"
      ]
     },
     "execution_count": 101,
     "metadata": {},
     "output_type": "execute_result"
    },
    {
     "data": {
      "image/png": "[encoded data removed]",
      "text/plain": [
       "<Figure size 432x288 with 1 Axes>"
      ]
     },
     "metadata": {
      "needs_background": "light"
     },
     "output_type": "display_data"
    }
   ],
   "source": [
    "plt.hist(df['avg_salary'])"
   ]
  },
  {
   "cell_type": "code",
   "execution_count": 102,
   "metadata": {},
   "outputs": [
    {
     "data": {
      "text/plain": [
       "(array([200., 354., 644., 992., 517., 757., 259., 138.,  85., 554.]),\n",
       " array([ 81. ,  89.6,  98.2, 106.8, 115.4, 124. , 132.6, 141.2, 149.8,\n",
       "        158.4, 167. ]),\n",
       " <a list of 10 Patch objects>)"
      ]
     },
     "execution_count": 102,
     "metadata": {},
     "output_type": "execute_result"
    },
    {
     "data": {
      "image/png": "[encoded data removed]",
      "text/plain": [
       "<Figure size 432x288 with 1 Axes>"
      ]
     },
     "metadata": {
      "needs_background": "light"
     },
     "output_type": "display_data"
    }
   ],
   "source": [
    "plt.hist(df['entrepreneurs'])"
   ]
  },
  {
   "cell_type": "code",
   "execution_count": 103,
   "metadata": {},
   "outputs": [
    {
     "data": {
      "text/plain": [
       "(array([3683.,  263.,    0.,    0.,    0.,    0.,    0.,    0.,    0.,\n",
       "         554.]),\n",
       " array([  888. , 10709.9, 20531.8, 30353.7, 40175.6, 49997.5, 59819.4,\n",
       "        69641.3, 79463.2, 89285.1, 99107. ]),\n",
       " <a list of 10 Patch objects>)"
      ]
     },
     "execution_count": 103,
     "metadata": {},
     "output_type": "execute_result"
    },
    {
     "data": {
      "image/png": "[encoded data removed]",
      "text/plain": [
       "<Figure size 432x288 with 1 Axes>"
      ]
     },
     "metadata": {
      "needs_background": "light"
     },
     "output_type": "display_data"
    }
   ],
   "source": [
    "plt.hist(df['crimes_96'])"
   ]
  },
  {
   "cell_type": "code",
   "execution_count": 104,
   "metadata": {},
   "outputs": [
    {
     "data": {
      "text/plain": [
       "(array([ 283., 1086., 1017.,  659.,  757.,  460.,  150.,   53.,   27.,\n",
       "           8.]),\n",
       " array([  6. ,  32.6,  59.2,  85.8, 112.4, 139. , 165.6, 192.2, 218.8,\n",
       "        245.4, 272. ]),\n",
       " <a list of 10 Patch objects>)"
      ]
     },
     "execution_count": 104,
     "metadata": {},
     "output_type": "execute_result"
    },
    {
     "data": {
      "image/png": "[encoded data removed]",
      "text/plain": [
       "<Figure size 432x288 with 1 Axes>"
      ]
     },
     "metadata": {
      "needs_background": "light"
     },
     "output_type": "display_data"
    }
   ],
   "source": [
    "plt.hist(df['Num_Type_Credit'])"
   ]
  },
  {
   "cell_type": "code",
   "execution_count": 105,
   "metadata": {},
   "outputs": [
    {
     "data": {
      "text/plain": [
       "(array([3564.,  292.,  238.,  158.,   96.,   72.,   39.,   26.,   10.,\n",
       "           5.]),\n",
       " array([ 0. ,  5.4, 10.8, 16.2, 21.6, 27. , 32.4, 37.8, 43.2, 48.6, 54. ]),\n",
       " <a list of 10 Patch objects>)"
      ]
     },
     "execution_count": 105,
     "metadata": {},
     "output_type": "execute_result"
    },
    {
     "data": {
      "image/png": "[encoded data removed]",
      "text/plain": [
       "<Figure size 432x288 with 1 Axes>"
      ]
     },
     "metadata": {
      "needs_background": "light"
     },
     "output_type": "display_data"
    }
   ],
   "source": [
    "plt.hist(df['Num_Type_VYBER'])"
   ]
  },
  {
   "cell_type": "code",
   "execution_count": 107,
   "metadata": {},
   "outputs": [
    {
     "data": {
      "text/plain": [
       "(array([6.740e+02, 1.753e+03, 8.900e+02, 1.104e+03, 1.500e+01, 1.800e+01,\n",
       "        3.200e+01, 1.300e+01, 0.000e+00, 1.000e+00]),\n",
       " array([  0. ,  19.1,  38.2,  57.3,  76.4,  95.5, 114.6, 133.7, 152.8,\n",
       "        171.9, 191. ]),\n",
       " <a list of 10 Patch objects>)"
      ]
     },
     "execution_count": 107,
     "metadata": {},
     "output_type": "execute_result"
    },
    {
     "data": {
      "image/png": "[encoded data removed]",
      "text/plain": [
       "<Figure size 432x288 with 1 Axes>"
      ]
     },
     "metadata": {
      "needs_background": "light"
     },
     "output_type": "display_data"
    }
   ],
   "source": [
    "plt.hist(df['Num_Op_Null'])"
   ]
  },
  {
   "cell_type": "code",
   "execution_count": null,
   "metadata": {},
   "outputs": [],
   "source": [
    "plt.hist(df['Num_Op_Null']"
   ]
  },
  {
   "cell_type": "code",
   "execution_count": 108,
   "metadata": {},
   "outputs": [
    {
     "data": {
      "text/plain": [
       "(array([2033., 1065.,  726.,  229.,  224.,   71.,   77.,   34.,   22.,\n",
       "          19.]),\n",
       " array([  0. ,  28.7,  57.4,  86.1, 114.8, 143.5, 172.2, 200.9, 229.6,\n",
       "        258.3, 287. ]),\n",
       " <a list of 10 Patch objects>)"
      ]
     },
     "execution_count": 108,
     "metadata": {},
     "output_type": "execute_result"
    },
    {
     "data": {
      "image/png": "[encoded data removed]",
      "text/plain": [
       "<Figure size 432x288 with 1 Axes>"
      ]
     },
     "metadata": {
      "needs_background": "light"
     },
     "output_type": "display_data"
    }
   ],
   "source": [
    "plt.hist(df['Num_Op_Remittances'])"
   ]
  },
  {
   "cell_type": "code",
   "execution_count": 109,
   "metadata": {},
   "outputs": [
    {
     "data": {
      "text/plain": [
       "(array([2894.,   66.,  204.,  272.,  255.,  153.,  120.,   91.,  184.,\n",
       "         261.]),\n",
       " array([ 0. ,  7.2, 14.4, 21.6, 28.8, 36. , 43.2, 50.4, 57.6, 64.8, 72. ]),\n",
       " <a list of 10 Patch objects>)"
      ]
     },
     "execution_count": 109,
     "metadata": {},
     "output_type": "execute_result"
    },
    {
     "data": {
      "image/png": "[encoded data removed]",
      "text/plain": [
       "<Figure size 432x288 with 1 Axes>"
      ]
     },
     "metadata": {
      "needs_background": "light"
     },
     "output_type": "display_data"
    }
   ],
   "source": [
    "plt.hist(df['Num_Op_Collection'])"
   ]
  },
  {
   "cell_type": "code",
   "execution_count": 110,
   "metadata": {},
   "outputs": [
    {
     "data": {
      "text/plain": [
       "(array([1783.,  901.,  645.,  639.,  273.,  148.,   77.,   18.,    8.,\n",
       "           8.]),\n",
       " array([  1. ,  19.3,  37.6,  55.9,  74.2,  92.5, 110.8, 129.1, 147.4,\n",
       "        165.7, 184. ]),\n",
       " <a list of 10 Patch objects>)"
      ]
     },
     "execution_count": 110,
     "metadata": {},
     "output_type": "execute_result"
    },
    {
     "data": {
      "image/png": "[encoded data removed]",
      "text/plain": [
       "<Figure size 432x288 with 1 Axes>"
      ]
     },
     "metadata": {
      "needs_background": "light"
     },
     "output_type": "display_data"
    }
   ],
   "source": [
    "plt.hist(df['Num_Op_CashCredit'])"
   ]
  },
  {
   "cell_type": "code",
   "execution_count": 111,
   "metadata": {},
   "outputs": [
    {
     "data": {
      "text/plain": [
       "(array([ 497., 1192.,  992.,  696.,  599.,  336.,  137.,   35.,   13.,\n",
       "           3.]),\n",
       " array([  1. ,  34.7,  68.4, 102.1, 135.8, 169.5, 203.2, 236.9, 270.6,\n",
       "        304.3, 338. ]),\n",
       " <a list of 10 Patch objects>)"
      ]
     },
     "execution_count": 111,
     "metadata": {},
     "output_type": "execute_result"
    },
    {
     "data": {
      "image/png": "[encoded data removed]",
      "text/plain": [
       "<Figure size 432x288 with 1 Axes>"
      ]
     },
     "metadata": {
      "needs_background": "light"
     },
     "output_type": "display_data"
    }
   ],
   "source": [
    "plt.hist(df['Num_Op_WithdrawalCash'])"
   ]
  },
  {
   "cell_type": "code",
   "execution_count": 113,
   "metadata": {},
   "outputs": [
    {
     "data": {
      "text/plain": [
       "(array([ 712., 1188.,  959.,  570.,  524.,  350.,  134.,   50.,    9.,\n",
       "           4.]),\n",
       " array([  5.,  43.,  81., 119., 157., 195., 233., 271., 309., 347., 385.]),\n",
       " <a list of 10 Patch objects>)"
      ]
     },
     "execution_count": 113,
     "metadata": {},
     "output_type": "execute_result"
    },
    {
     "data": {
      "image/png": "[encoded data removed]",
      "text/plain": [
       "<Figure size 432x288 with 1 Axes>"
      ]
     },
     "metadata": {
      "needs_background": "light"
     },
     "output_type": "display_data"
    }
   ],
   "source": [
    "plt.hist(df['Num_Sym_Null'])"
   ]
  },
  {
   "cell_type": "code",
   "execution_count": 114,
   "metadata": {},
   "outputs": [
    {
     "data": {
      "text/plain": [
       "(array([ 712., 1188.,  959.,  570.,  524.,  350.,  134.,   50.,    9.,\n",
       "           4.]),\n",
       " array([  5.,  43.,  81., 119., 157., 195., 233., 271., 309., 347., 385.]),\n",
       " <a list of 10 Patch objects>)"
      ]
     },
     "execution_count": 114,
     "metadata": {},
     "output_type": "execute_result"
    },
    {
     "data": {
      "image/png": "[encoded data removed]",
      "text/plain": [
       "<Figure size 432x288 with 1 Axes>"
      ]
     },
     "metadata": {
      "needs_background": "light"
     },
     "output_type": "display_data"
    }
   ],
   "source": [
    "plt.hist(df['Num_Sym_Null'])"
   ]
  },
  {
   "cell_type": "code",
   "execution_count": 115,
   "metadata": {},
   "outputs": [
    {
     "data": {
      "text/plain": [
       "(array([3319.,  325.,  281.,  175.,  283.,   43.,   13.,   13.,   20.,\n",
       "          28.]),\n",
       " array([  0. ,  13.4,  26.8,  40.2,  53.6,  67. ,  80.4,  93.8, 107.2,\n",
       "        120.6, 134. ]),\n",
       " <a list of 10 Patch objects>)"
      ]
     },
     "execution_count": 115,
     "metadata": {},
     "output_type": "execute_result"
    },
    {
     "data": {
      "image/png": "[encoded data removed]",
      "text/plain": [
       "<Figure size 432x288 with 1 Axes>"
      ]
     },
     "metadata": {
      "needs_background": "light"
     },
     "output_type": "display_data"
    }
   ],
   "source": [
    "plt.hist(df['Num_Sym_Null2'])"
   ]
  },
  {
   "cell_type": "code",
   "execution_count": 116,
   "metadata": {},
   "outputs": [
    {
     "data": {
      "text/plain": [
       "(array([3760.,   31.,   90.,  132.,  103.,   71.,   53.,   47.,   99.,\n",
       "         114.]),\n",
       " array([ 0. ,  7.2, 14.4, 21.6, 28.8, 36. , 43.2, 50.4, 57.6, 64.8, 72. ]),\n",
       " <a list of 10 Patch objects>)"
      ]
     },
     "execution_count": 116,
     "metadata": {},
     "output_type": "execute_result"
    },
    {
     "data": {
      "image/png": "[encoded data removed]",
      "text/plain": [
       "<Figure size 432x288 with 1 Axes>"
      ]
     },
     "metadata": {
      "needs_background": "light"
     },
     "output_type": "display_data"
    }
   ],
   "source": [
    "plt.hist(df['Num_Sym_Pension'])"
   ]
  },
  {
   "cell_type": "code",
   "execution_count": 117,
   "metadata": {},
   "outputs": [
    {
     "data": {
      "text/plain": [
       "(array([3992.,   53.,   67.,   91.,   54.,   49.,   37.,   31.,   67.,\n",
       "          59.]),\n",
       " array([ 0.,  7., 14., 21., 28., 35., 42., 49., 56., 63., 70.]),\n",
       " <a list of 10 Patch objects>)"
      ]
     },
     "execution_count": 117,
     "metadata": {},
     "output_type": "execute_result"
    },
    {
     "data": {
      "image/png": "[encoded data removed]",
      "text/plain": [
       "<Figure size 432x288 with 1 Axes>"
      ]
     },
     "metadata": {
      "needs_background": "light"
     },
     "output_type": "display_data"
    }
   ],
   "source": [
    "plt.hist(df['Num_Sym_Insurance'])"
   ]
  },
  {
   "cell_type": "code",
   "execution_count": 118,
   "metadata": {},
   "outputs": [
    {
     "data": {
      "text/plain": [
       "(array([4.369e+03, 5.900e+01, 3.000e+01, 2.400e+01, 7.000e+00, 2.000e+00,\n",
       "        3.000e+00, 3.000e+00, 1.000e+00, 2.000e+00]),\n",
       " array([ 0.,  4.,  8., 12., 16., 20., 24., 28., 32., 36., 40.]),\n",
       " <a list of 10 Patch objects>)"
      ]
     },
     "execution_count": 118,
     "metadata": {},
     "output_type": "execute_result"
    },
    {
     "data": {
      "image/png": "[encoded data removed]",
      "text/plain": [
       "<Figure size 432x288 with 1 Axes>"
      ]
     },
     "metadata": {
      "needs_background": "light"
     },
     "output_type": "display_data"
    }
   ],
   "source": [
    "plt.hist(df['Num_Sym_NegBal'])"
   ]
  },
  {
   "cell_type": "code",
   "execution_count": 119,
   "metadata": {},
   "outputs": [
    {
     "data": {
      "text/plain": [
       "(array([1225.,  377.,  452.,  593.,  409.,  268.,  212.,  237.,  461.,\n",
       "         266.]),\n",
       " array([ 0. ,  7.1, 14.2, 21.3, 28.4, 35.5, 42.6, 49.7, 56.8, 63.9, 71. ]),\n",
       " <a list of 10 Patch objects>)"
      ]
     },
     "execution_count": 119,
     "metadata": {},
     "output_type": "execute_result"
    },
    {
     "data": {
      "image/png": "[encoded data removed]",
      "text/plain": [
       "<Figure size 432x288 with 1 Axes>"
      ]
     },
     "metadata": {
      "needs_background": "light"
     },
     "output_type": "display_data"
    }
   ],
   "source": [
    "plt.hist(df['Num_Sym_Household'])"
   ]
  },
  {
   "cell_type": "code",
   "execution_count": 120,
   "metadata": {},
   "outputs": [
    {
     "data": {
      "text/plain": [
       "(array([6.740e+02, 1.753e+03, 8.900e+02, 1.104e+03, 1.500e+01, 1.800e+01,\n",
       "        3.200e+01, 1.300e+01, 0.000e+00, 1.000e+00]),\n",
       " array([  0. ,  19.1,  38.2,  57.3,  76.4,  95.5, 114.6, 133.7, 152.8,\n",
       "        171.9, 191. ]),\n",
       " <a list of 10 Patch objects>)"
      ]
     },
     "execution_count": 120,
     "metadata": {},
     "output_type": "execute_result"
    },
    {
     "data": {
      "image/png": "[encoded data removed]",
      "text/plain": [
       "<Figure size 432x288 with 1 Axes>"
      ]
     },
     "metadata": {
      "needs_background": "light"
     },
     "output_type": "display_data"
    }
   ],
   "source": [
    "plt.hist(df['Num_Sym_IntDep'])"
   ]
  },
  {
   "cell_type": "code",
   "execution_count": 121,
   "metadata": {},
   "outputs": [
    {
     "data": {
      "text/plain": [
       "(array([3874.,  119.,  174.,   80.,  115.,   30.,   56.,   22.,   18.,\n",
       "          12.]),\n",
       " array([ 0.,  6., 12., 18., 24., 30., 36., 42., 48., 54., 60.]),\n",
       " <a list of 10 Patch objects>)"
      ]
     },
     "execution_count": 121,
     "metadata": {},
     "output_type": "execute_result"
    },
    {
     "data": {
      "image/png": "[encoded data removed]",
      "text/plain": [
       "<Figure size 432x288 with 1 Axes>"
      ]
     },
     "metadata": {
      "needs_background": "light"
     },
     "output_type": "display_data"
    }
   ],
   "source": [
    "plt.hist(df['Num_Sym_LoanPayment'])"
   ]
  },
  {
   "cell_type": "code",
   "execution_count": 122,
   "metadata": {},
   "outputs": [
    {
     "data": {
      "text/plain": [
       "(array([4.439e+03, 2.700e+01, 1.900e+01, 6.000e+00, 3.000e+00, 3.000e+00,\n",
       "        0.000e+00, 0.000e+00, 2.000e+00, 1.000e+00]),\n",
       " array([  0. ,  12.4,  24.8,  37.2,  49.6,  62. ,  74.4,  86.8,  99.2,\n",
       "        111.6, 124. ]),\n",
       " <a list of 10 Patch objects>)"
      ]
     },
     "execution_count": 122,
     "metadata": {},
     "output_type": "execute_result"
    },
    {
     "data": {
      "image/png": "[encoded data removed]",
      "text/plain": [
       "<Figure size 432x288 with 1 Axes>"
      ]
     },
     "metadata": {
      "needs_background": "light"
     },
     "output_type": "display_data"
    }
   ],
   "source": [
    "plt.hist(df['Balance_in_negative'])"
   ]
  },
  {
   "cell_type": "code",
   "execution_count": 123,
   "metadata": {},
   "outputs": [
    {
     "data": {
      "text/plain": [
       "(array([3819.,   96.,  100.,  123.,  108.,   77.,   68.,   64.,   32.,\n",
       "          13.]),\n",
       " array([   0.,  991., 1982., 2973., 3964., 4955., 5946., 6937., 7928.,\n",
       "        8919., 9910.]),\n",
       " <a list of 10 Patch objects>)"
      ]
     },
     "execution_count": 123,
     "metadata": {},
     "output_type": "execute_result"
    },
    {
     "data": {
      "image/png": "[encoded data removed]",
      "text/plain": [
       "<Figure size 432x288 with 1 Axes>"
      ]
     },
     "metadata": {
      "needs_background": "light"
     },
     "output_type": "display_data"
    }
   ],
   "source": [
    "plt.hist(df['Ord_Loan_Payment_amount'])"
   ]
  },
  {
   "cell_type": "code",
   "execution_count": 124,
   "metadata": {},
   "outputs": [
    {
     "data": {
      "text/plain": [
       "(array([4164.,   35.,   68.,   73.,   40.,   29.,   31.,   21.,   20.,\n",
       "          19.]),\n",
       " array([   0.  ,  497.52,  995.04, 1492.56, 1990.08, 2487.6 , 2985.12,\n",
       "        3482.64, 3980.16, 4477.68, 4975.2 ]),\n",
       " <a list of 10 Patch objects>)"
      ]
     },
     "execution_count": 124,
     "metadata": {},
     "output_type": "execute_result"
    },
    {
     "data": {
      "image/png": "[encoded data removed]",
      "text/plain": [
       "<Figure size 432x288 with 1 Axes>"
      ]
     },
     "metadata": {
      "needs_background": "light"
     },
     "output_type": "display_data"
    }
   ],
   "source": [
    "plt.hist(df['Ord_Leasing_amount'])"
   ]
  },
  {
   "cell_type": "code",
   "execution_count": 125,
   "metadata": {},
   "outputs": [
    {
     "data": {
      "text/plain": [
       "(array([146., 343., 780., 608., 576., 355., 224., 374., 232., 862.]),\n",
       " array([ 33.9 ,  40.51,  47.12,  53.73,  60.34,  66.95,  73.56,  80.17,\n",
       "         86.78,  93.39, 100.  ]),\n",
       " <a list of 10 Patch objects>)"
      ]
     },
     "execution_count": 125,
     "metadata": {},
     "output_type": "execute_result"
    },
    {
     "data": {
      "image/png": "[encoded data removed]",
      "text/plain": [
       "<Figure size 432x288 with 1 Axes>"
      ]
     },
     "metadata": {
      "needs_background": "light"
     },
     "output_type": "display_data"
    }
   ],
   "source": [
    "plt.hist(df['ratio_urban_inhabitants'])"
   ]
  },
  {
   "cell_type": "code",
   "execution_count": 126,
   "metadata": {},
   "outputs": [
    {
     "data": {
      "text/plain": [
       "(array([689., 722., 478., 599., 768., 267., 423., 182., 277.,  95.]),\n",
       " array([0.29 , 0.995, 1.7  , 2.405, 3.11 , 3.815, 4.52 , 5.225, 5.93 ,\n",
       "        6.635, 7.34 ]),\n",
       " <a list of 10 Patch objects>)"
      ]
     },
     "execution_count": 126,
     "metadata": {},
     "output_type": "execute_result"
    },
    {
     "data": {
      "image/png": "[encoded data removed]",
      "text/plain": [
       "<Figure size 432x288 with 1 Axes>"
      ]
     },
     "metadata": {
      "needs_background": "light"
     },
     "output_type": "display_data"
    }
   ],
   "source": [
    "plt.hist(df['unemployment_rate_95'])"
   ]
  },
  {
   "cell_type": "code",
   "execution_count": 127,
   "metadata": {},
   "outputs": [
    {
     "data": {
      "text/plain": [
       "(array([768., 601., 704., 701., 672., 529.,  98.,  92., 294.,  41.]),\n",
       " array([0.43 , 1.327, 2.224, 3.121, 4.018, 4.915, 5.812, 6.709, 7.606,\n",
       "        8.503, 9.4  ]),\n",
       " <a list of 10 Patch objects>)"
      ]
     },
     "execution_count": 127,
     "metadata": {},
     "output_type": "execute_result"
    },
    {
     "data": {
      "image/png": "[encoded data removed]",
      "text/plain": [
       "<Figure size 432x288 with 1 Axes>"
      ]
     },
     "metadata": {
      "needs_background": "light"
     },
     "output_type": "display_data"
    }
   ],
   "source": [
    "plt.hist(df['unemployment_rate_96'])"
   ]
  },
  {
   "cell_type": "code",
   "execution_count": 128,
   "metadata": {},
   "outputs": [
    {
     "data": {
      "text/plain": [
       "(array([3443.,  240.,  263.,    0.,    0.,    0.,    0.,    0.,    0.,\n",
       "         554.]),\n",
       " array([  818. ,  9303.9, 17789.8, 26275.7, 34761.6, 43247.5, 51733.4,\n",
       "        60219.3, 68705.2, 77191.1, 85677. ]),\n",
       " <a list of 10 Patch objects>)"
      ]
     },
     "execution_count": 128,
     "metadata": {},
     "output_type": "execute_result"
    },
    {
     "data": {
      "image/png": "[encoded data removed]",
      "text/plain": [
       "<Figure size 432x288 with 1 Axes>"
      ]
     },
     "metadata": {
      "needs_background": "light"
     },
     "output_type": "display_data"
    }
   ],
   "source": [
    "plt.hist(df['crimes_95'])"
   ]
  },
  {
   "cell_type": "code",
   "execution_count": 129,
   "metadata": {},
   "outputs": [
    {
     "data": {
      "text/plain": [
       "(array([3443.,  240.,  263.,    0.,    0.,    0.,    0.,    0.,    0.,\n",
       "         554.]),\n",
       " array([  818. ,  9303.9, 17789.8, 26275.7, 34761.6, 43247.5, 51733.4,\n",
       "        60219.3, 68705.2, 77191.1, 85677. ]),\n",
       " <a list of 10 Patch objects>)"
      ]
     },
     "execution_count": 129,
     "metadata": {},
     "output_type": "execute_result"
    },
    {
     "data": {
      "image/png": "[encoded data removed]",
      "text/plain": [
       "<Figure size 432x288 with 1 Axes>"
      ]
     },
     "metadata": {
      "needs_background": "light"
     },
     "output_type": "display_data"
    }
   ],
   "source": [
    "plt.hist(df['crimes_95'])"
   ]
  },
  {
   "cell_type": "code",
   "execution_count": 130,
   "metadata": {},
   "outputs": [
    {
     "data": {
      "text/plain": [
       "(array([ 596., 1052.,  499.,  760.,  370.,  317.,  128.,  224.,    0.,\n",
       "         554.]),\n",
       " array([0.01354271, 0.01929884, 0.02505497, 0.0308111 , 0.03656723,\n",
       "        0.04232336, 0.04807949, 0.05383562, 0.05959176, 0.06534789,\n",
       "        0.07110402]),\n",
       " <a list of 10 Patch objects>)"
      ]
     },
     "execution_count": 130,
     "metadata": {},
     "output_type": "execute_result"
    },
    {
     "data": {
      "image/png": "[encoded data removed]",
      "text/plain": [
       "<Figure size 432x288 with 1 Axes>"
      ]
     },
     "metadata": {
      "needs_background": "light"
     },
     "output_type": "display_data"
    }
   ],
   "source": [
    "plt.hist(df['crimes_95_ratio'])"
   ]
  },
  {
   "cell_type": "code",
   "execution_count": 131,
   "metadata": {},
   "outputs": [
    {
     "data": {
      "text/plain": [
       "(array([1141.,  804.,  726.,  637.,  415.,   88.,  135.,    0.,    0.,\n",
       "         554.]),\n",
       " array([0.0159461 , 0.02257646, 0.02920682, 0.03583717, 0.04246753,\n",
       "        0.04909789, 0.05572825, 0.06235861, 0.06898896, 0.07561932,\n",
       "        0.08224968]),\n",
       " <a list of 10 Patch objects>)"
      ]
     },
     "execution_count": 131,
     "metadata": {},
     "output_type": "execute_result"
    },
    {
     "data": {
      "image/png": "[encoded data removed]",
      "text/plain": [
       "<Figure size 432x288 with 1 Axes>"
      ]
     },
     "metadata": {
      "needs_background": "light"
     },
     "output_type": "display_data"
    }
   ],
   "source": [
    "plt.hist(df['crimes_96_ratio'])"
   ]
  },
  {
   "cell_type": "code",
   "execution_count": 132,
   "metadata": {},
   "outputs": [
    {
     "data": {
      "text/plain": [
       "(array([ 969.,  322., 1256.,  793.,  312.,  388.,  177.,  192.,   43.,\n",
       "          48.]),\n",
       " array([0.00013859, 0.00041431, 0.00069003, 0.00096575, 0.00124147,\n",
       "        0.00151719, 0.0017929 , 0.00206862, 0.00234434, 0.00262006,\n",
       "        0.00289578]),\n",
       " <a list of 10 Patch objects>)"
      ]
     },
     "execution_count": 132,
     "metadata": {},
     "output_type": "execute_result"
    },
    {
     "data": {
      "image/png": "[encoded data removed]",
      "text/plain": [
       "<Figure size 432x288 with 1 Axes>"
      ]
     },
     "metadata": {
      "needs_background": "light"
     },
     "output_type": "display_data"
    }
   ],
   "source": [
    "plt.hist(df['entrepreneurs_ratio'])"
   ]
  },
  {
   "cell_type": "code",
   "execution_count": null,
   "metadata": {},
   "outputs": [],
   "source": [
    "df_num=df[['Ord_Insurance', 'Ord_Insurance_amount', 'Ord_Household_Payment',\n",
    "       'Ord_Household_Payment_amount', 'Ord_Loan_Payment', 'Ord_Leasing',\n",
    "       'Ord_Empty', 'Ord_Empty_amount', \n",
    "       'num_inhabitants', 'municip < 499',\n",
    "       'municip 500-1999', 'municip 2000-9999', 'municip > 10000',\n",
    "       'num_cities', 'avg_salary', 'entrepreneurs', 'crimes_96',\n",
    "       'Num_Type_Credit', 'Num_Type_VYBER', 'Num_Type_Withdrawal',\n",
    "       'Num_Op_Null', 'Num_Op_Remittances', 'Num_Op_Collection',\n",
    "       'Num_Op_CashCredit', 'Num_Op_WithdrawalCash',\n",
    "       'Num_Op_WithdrawalCreditCard', 'Num_Sym_Null', 'Num_Sym_Null2',\n",
    "       'Num_Sym_Pension', 'Num_Sym_Insurance', 'Num_Sym_NegBal',\n",
    "       'Num_Sym_Household', 'Num_Sym_Statement', 'Num_Sym_IntDep',\n",
    "       'Num_Sym_LoanPayment', 'Balance_in_negative','Ord_Loan_Payment_amount', 'Ord_Leasing_amount',\n",
    "       'ratio_urban_inhabitants', 'unemployment_rate_95',\n",
    "       'unemployment_rate_96', 'crimes_95', 'crimes_95_ratio',\n",
    "       'crimes_96_ratio', 'entrepreneurs_ratio' ]] "
   ]
  }
 ],
 "metadata": {
  "kernelspec": {
   "display_name": "Python 3",
   "language": "python",
   "name": "python3"
  },
  "language_info": {
   "codemirror_mode": {
    "name": "ipython",
    "version": 3
   },
   "file_extension": ".py",
   "mimetype": "text/x-python",
   "name": "python",
   "nbconvert_exporter": "python",
   "pygments_lexer": "ipython3",
   "version": "3.7.3"
  }
 },
 "nbformat": 4,
 "nbformat_minor": 2
}
